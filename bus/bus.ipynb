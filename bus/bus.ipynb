{
 "cells": [
  {
   "cell_type": "code",
   "execution_count": 1,
   "id": "45d6b2e9-31d5-49d8-b9d1-70574a16e085",
   "metadata": {},
   "outputs": [],
   "source": [
    "#지역별 저상버스 보급 현황\n",
    "import pandas as pd\n",
    "import matplotlib.pyplot as plt\n",
    "import matplotlib.ticker as ticker"
   ]
  },
  {
   "cell_type": "code",
   "execution_count": 2,
   "id": "e00b3cef-cc3e-419d-b5b5-95bc50a5f536",
   "metadata": {},
   "outputs": [
    {
     "name": "stdout",
     "output_type": "stream",
     "text": [
      "warning: redirecting to https://github.com/modeep/the_modeep.git/\n",
      "Already up to date.\n"
     ]
    }
   ],
   "source": [
    "!cd ../\n",
    "!git pull"
   ]
  },
  {
   "cell_type": "code",
   "execution_count": 3,
   "id": "b5659104-e7de-40c4-82eb-93e37f7c4f0a",
   "metadata": {},
   "outputs": [
    {
     "name": "stdout",
     "output_type": "stream",
     "text": [
      "Hit:1 http://deb.debian.org/debian buster InRelease\n",
      "Hit:2 http://security.debian.org/debian-security buster/updates InRelease\n",
      "Get:3 http://deb.debian.org/debian buster-updates InRelease [51.9 kB]\n",
      "Fetched 51.9 kB in 1s (99.5 kB/s) \n",
      "Reading package lists... Done\n",
      "/usr/share/fonts: caching, new cache contents: 0 fonts, 1 dirs\n",
      "/usr/share/fonts/truetype: caching, new cache contents: 0 fonts, 2 dirs\n",
      "/usr/share/fonts/truetype/dejavu: caching, new cache contents: 6 fonts, 0 dirs\n",
      "/usr/share/fonts/truetype/nanum: caching, new cache contents: 10 fonts, 0 dirs\n",
      "/usr/X11R6/lib/X11/fonts: skipping, no such directory\n",
      "/usr/local/share/fonts: caching, new cache contents: 0 fonts, 0 dirs\n",
      "/root/.local/share/fonts: skipping, no such directory\n",
      "/root/.fonts: skipping, no such directory\n",
      "/usr/share/fonts/truetype: skipping, looped directory detected\n",
      "/usr/share/fonts/truetype/dejavu: skipping, looped directory detected\n",
      "/usr/share/fonts/truetype/nanum: skipping, looped directory detected\n",
      "/var/cache/fontconfig: cleaning cache directory\n",
      "/root/.cache/fontconfig: not cleaning non-existent cache directory\n",
      "/root/.fontconfig: not cleaning non-existent cache directory\n",
      "fc-cache: succeeded\n",
      "Reading package lists... Done\n",
      "Building dependency tree       \n",
      "Reading state information... Done\n",
      "fonts-nanum is already the newest version (20180306-1).\n",
      "0 upgraded, 0 newly installed, 0 to remove and 6 not upgraded.\n"
     ]
    }
   ],
   "source": [
    "!sed -i 's/archive.ubuntu.com/ftp.daumkakao.com/g' /etc/apt/sources.list\n",
    "!apt-get update\n",
    "!fc-cache -fv\n",
    "!apt-get install -y fonts-nanum\n",
    "!rm -rf ~/.cache/matplotlib/*\n",
    "plt.rc('font', family='NanumBarunGothic')\n",
    "\n",
    "import matplotlib as mpl\n",
    "mpl.matplotlib_fname()\n",
    "# 유니코드 깨짐현상 해결\n",
    "mpl.rcParams['axes.unicode_minus'] = False\n",
    "\n",
    "# 나눔고딕 폰트 적용\n",
    "plt.rcParams[\"font.family\"] = 'NanumGothic'"
   ]
  },
  {
   "cell_type": "markdown",
   "id": "0663c61c-9b26-43d8-82d0-493f1d162865",
   "metadata": {},
   "source": [
    "## df = pd.read_csv('/The_MoDeep/data/저상버스보급.csv', encoding='cp949')\n",
    "df.columns = ['year', 'supply', 'seoul', 'gyeonggi', 'jeolla', 'gyeongsang', 'gangwon', 'chungcheong', 'jeju']\n",
    "df\n",
    "#df.info()"
   ]
  },
  {
   "cell_type": "code",
   "execution_count": 70,
   "id": "066671d2-37c8-4e5a-9f4d-0fe08cd399d6",
   "metadata": {
    "jupyter": {
     "source_hidden": true
    },
    "tags": []
   },
   "outputs": [
    {
     "data": {
      "image/png": "[encoded data removed]",
      "text/plain": [
       "<Figure size 432x288 with 1 Axes>"
      ]
     },
     "metadata": {
      "needs_background": "light"
     },
     "output_type": "display_data"
    }
   ],
   "source": [
    "#데이터 추출\n",
    "Year_df = list(df.year)\n",
    "Total_df = list(df.total)\n",
    "Seoul_df = list(df.seoul)\n",
    "Gyeonggi_df = list(df.gyeonggi)\n",
    "Jeolla_df = list(df.jeolla)\n",
    "Gyeongsang_df = list(df.gyeongsang)\n",
    "Gangwon_df = list(df.gangwon)\n",
    "Chungcheong_df = list(df.chungcheong)\n",
    "Jeju_df = list(df.jeju)\n",
    "\n",
    "#print(Year_df)\n",
    "#print(Total_df)\n",
    "#print(Seoul_df)\n",
    "#print(Gyeonggi_df)\n",
    "#print(Jeolla_df)\n",
    "#print(Gyeongsang_df)\n",
    "#print(Gangwon_df)\n",
    "#print(Chungcheong_df)\n",
    "#print(Jeju_df)\n",
    "\n",
    "plt.xticks([2013, 2014, 2015, 2016, 2017, 2018, 2019])\n",
    "#plt.yticks([1, 2, 3, 4, 5])\n",
    "Tit = \"서울시 저상버스 보급률 현황\"\n",
    "\n",
    "ax = plt.gca()\n",
    "ax.xaxis.grid(True)\n",
    "ax.yaxis.grid(True)\n",
    "\n",
    "plt.title(Tit, loc='center', pad=20)\n",
    "ax.set_xlabel(\"년도\")\n",
    "ax.set_ylabel(\"보급률(단위: %)\")\n",
    "\n",
    "#plt.ylim(0, 55)\n",
    "#plt.xlim(2013, 2019)\n",
    "#plt.bar(Year_df, Total_df, color = 'gold')\n",
    "plt.bar(Year_df, Seoul_df, color = 'gold')\n",
    "\n",
    "#plt.plot(Year_df, Total_df, '#4fb0ae', label='전국')\n",
    "#plt.plot(Year_df, Seoul_df,'#0f4c81', label='전라')\n",
    "#plt.plot(Year_df, Gyeonggi_df, '#EB3C27', label='경기')\n",
    "#plt.plot(Year_df, Jeolla_df, '#8E3C36', label='전라')\n",
    "#plt.plot(Year_df, Gyeongsang_df, '#D9AFCA', label='경상')\n",
    "#plt.plot(Year_df, Gangwon_df, '#00A28A', label='강원')\n",
    "#plt.plot(Year_df, Chungcheong_df, '#C0D725', label='충청')\n",
    "#plt.plot(Year_df, Jeju_df, '#BA69A1', label='제주')\n",
    "\n",
    "#plt.legend()\n",
    "plt.savefig('BUS_Status(dis).png')"
   ]
  }
 ],
 "metadata": {
  "kernelspec": {
   "display_name": "Python 3",
   "language": "python",
   "name": "python3"
  },
  "language_info": {
   "codemirror_mode": {
    "name": "ipython",
    "version": 3
   },
   "file_extension": ".py",
   "mimetype": "text/x-python",
   "name": "python",
   "nbconvert_exporter": "python",
   "pygments_lexer": "ipython3",
   "version": "3.7.10"
  }
 },
 "nbformat": 4,
 "nbformat_minor": 5
}
