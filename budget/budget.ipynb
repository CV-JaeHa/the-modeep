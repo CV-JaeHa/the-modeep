{
 "cells": [
  {
   "cell_type": "code",
   "execution_count": 1,
   "id": "f4124472-75a4-4e99-8984-05232c968e02",
   "metadata": {},
   "outputs": [],
   "source": [
    "# Import Library\n",
    "import pandas as pd\n",
    "import matplotlib.pyplot as plt"
   ]
  },
  {
   "cell_type": "code",
   "execution_count": null,
   "id": "409cacb2-6fd2-41e0-90e0-cecf899efbee",
   "metadata": {},
   "outputs": [],
   "source": [
    "# 한글설정\n",
    "!apt-get install -y fonts-nanum # 나눔 폰트 다운\n",
    "# !ls -l /usr/share/fonts/truetype/ # 설치 확인\n",
    "!rm -rf ~/.cache/matplotlib/* # 남아있는 폰트 캐시 제거\n",
    "!fc-cache -fv # 폰트 캐시 생성"
   ]
  },
  {
   "cell_type": "code",
   "execution_count": 2,
   "id": "9f0892a0-a2e7-479b-a12b-a482b72593ae",
   "metadata": {},
   "outputs": [],
   "source": [
    "import matplotlib as mpl\n",
    "\n",
    "# 유니코드 깨짐현상 해결\n",
    "mpl.rcParams['axes.unicode_minus'] = False\n",
    "\n",
    "# 나눔고딕 폰트 적용\n",
    "plt.rcParams[\"font.family\"] = 'NanumGothic'"
   ]
  },
  {
   "cell_type": "code",
   "execution_count": 3,
   "id": "f654825d-2c66-4a30-a56b-19cb877144c8",
   "metadata": {},
   "outputs": [
    {
     "data": {
      "text/html": [
       "<div>\n",
       "<style scoped>\n",
       "    .dataframe tbody tr th:only-of-type {\n",
       "        vertical-align: middle;\n",
       "    }\n",
       "\n",
       "    .dataframe tbody tr th {\n",
       "        vertical-align: top;\n",
       "    }\n",
       "\n",
       "    .dataframe thead th {\n",
       "        text-align: right;\n",
       "    }\n",
       "</style>\n",
       "<table border=\"1\" class=\"dataframe\">\n",
       "  <thead>\n",
       "    <tr style=\"text-align: right;\">\n",
       "      <th></th>\n",
       "      <th>년도</th>\n",
       "      <th>예산 (단위 : 억)</th>\n",
       "    </tr>\n",
       "  </thead>\n",
       "  <tbody>\n",
       "    <tr>\n",
       "      <th>0</th>\n",
       "      <td>2016</td>\n",
       "      <td>21806</td>\n",
       "    </tr>\n",
       "    <tr>\n",
       "      <th>1</th>\n",
       "      <td>2017</td>\n",
       "      <td>22869</td>\n",
       "    </tr>\n",
       "    <tr>\n",
       "      <th>2</th>\n",
       "      <td>2018</td>\n",
       "      <td>24614</td>\n",
       "    </tr>\n",
       "    <tr>\n",
       "      <th>3</th>\n",
       "      <td>2019</td>\n",
       "      <td>28656</td>\n",
       "    </tr>\n",
       "    <tr>\n",
       "      <th>4</th>\n",
       "      <td>2020</td>\n",
       "      <td>33595</td>\n",
       "    </tr>\n",
       "  </tbody>\n",
       "</table>\n",
       "</div>"
      ],
      "text/plain": [
       "     년도  예산 (단위 : 억)\n",
       "0  2016        21806\n",
       "1  2017        22869\n",
       "2  2018        24614\n",
       "3  2019        28656\n",
       "4  2020        33595"
      ]
     },
     "execution_count": 3,
     "metadata": {},
     "output_type": "execute_result"
    }
   ],
   "source": [
    "# Data Read\n",
    "data = pd.read_csv(\"../data/연도별장애인예산.csv\")\n",
    "data"
   ]
  },
  {
   "cell_type": "code",
   "execution_count": 4,
   "id": "617a5472-4d5a-4418-8a2c-4b539185f90e",
   "metadata": {},
   "outputs": [
    {
     "data": {
      "text/html": [
       "<div>\n",
       "<style scoped>\n",
       "    .dataframe tbody tr th:only-of-type {\n",
       "        vertical-align: middle;\n",
       "    }\n",
       "\n",
       "    .dataframe tbody tr th {\n",
       "        vertical-align: top;\n",
       "    }\n",
       "\n",
       "    .dataframe thead th {\n",
       "        text-align: right;\n",
       "    }\n",
       "</style>\n",
       "<table border=\"1\" class=\"dataframe\">\n",
       "  <thead>\n",
       "    <tr style=\"text-align: right;\">\n",
       "      <th></th>\n",
       "      <th>예산 (단위 : 억)</th>\n",
       "    </tr>\n",
       "  </thead>\n",
       "  <tbody>\n",
       "    <tr>\n",
       "      <th>0</th>\n",
       "      <td>21806</td>\n",
       "    </tr>\n",
       "    <tr>\n",
       "      <th>1</th>\n",
       "      <td>22869</td>\n",
       "    </tr>\n",
       "    <tr>\n",
       "      <th>2</th>\n",
       "      <td>24614</td>\n",
       "    </tr>\n",
       "    <tr>\n",
       "      <th>3</th>\n",
       "      <td>28656</td>\n",
       "    </tr>\n",
       "    <tr>\n",
       "      <th>4</th>\n",
       "      <td>33595</td>\n",
       "    </tr>\n",
       "  </tbody>\n",
       "</table>\n",
       "</div>"
      ],
      "text/plain": [
       "   예산 (단위 : 억)\n",
       "0        21806\n",
       "1        22869\n",
       "2        24614\n",
       "3        28656\n",
       "4        33595"
      ]
     },
     "execution_count": 4,
     "metadata": {},
     "output_type": "execute_result"
    }
   ],
   "source": [
    "# 년도 컬럼 지우기\n",
    "data_cp = data.copy()\n",
    "data_drop = data_cp.drop('년도', axis=1)\n",
    "data_drop"
   ]
  },
  {
   "cell_type": "code",
   "execution_count": 5,
   "id": "fe678fde-3543-485b-926e-1e3216e6ae30",
   "metadata": {},
   "outputs": [
    {
     "name": "stdout",
     "output_type": "stream",
     "text": [
      "y값 리스트\n",
      "[21806, 22869, 24614, 28656, 33595]\n",
      "증가율\n",
      "2016 : 1.6976028355563846\n",
      "2017 : 4.64821373912283\n",
      "2018 : 7.0894612821971235\n",
      "2019 : 14.105248464544948\n",
      "2020 : 14.70159249888376\n"
     ]
    }
   ],
   "source": [
    "# 장애인복지예산\n",
    "\n",
    "# x축\n",
    "x = [2016, 2017, 2018, 2019, 2020]\n",
    "# y축\n",
    "y_bar = list(data_drop['예산 (단위 : 억)'])\n",
    "\n",
    "# 2015년 자료\n",
    "money_2015 = 21442\n",
    "\n",
    "# 증가율\n",
    "up_2016 = ((y_bar[0] - money_2015)/money_2015)*100\n",
    "up_2017 = ((y_bar[1] - y_bar[0])/y_bar[1])*100\n",
    "up_2018 = ((y_bar[2] - y_bar[1])/y_bar[2])*100\n",
    "up_2019 = ((y_bar[3] - y_bar[2])/y_bar[3])*100\n",
    "up_2020 = ((y_bar[4] - y_bar[3])/y_bar[4])*100\n",
    "\n",
    "y_plot = (up_2016, up_2017, up_2018, up_2019, up_2020)\n",
    "\n",
    "print(f\"y값 리스트\\n{y_bar}\\n증가율\\n2016 : {up_2016}\\n2017 : {up_2017}\\n2018 : {up_2018}\\n2019 : {up_2019}\\n2020 : {up_2020}\")\n"
   ]
  },
  {
   "cell_type": "code",
   "execution_count": 6,
   "id": "0b56b18c-299b-4937-9c99-0574cf9ea2c0",
   "metadata": {},
   "outputs": [
    {
     "data": {
      "image/png": "[encoded data removed]",
      "text/plain": [
       "<Figure size 360x288 with 2 Axes>"
      ]
     },
     "metadata": {
      "needs_background": "light"
     },
     "output_type": "display_data"
    }
   ],
   "source": [
    "# 그래프 기본설정\n",
    "plt.rcParams['figure.figsize']=(5,4)\n",
    "\n",
    "# 1번\n",
    "# 예산 그래프\n",
    "fig, ax1 = plt.subplots()\n",
    "# 눈금 간격\n",
    "ax1.axis([2015, 2021, 20000, 35000])\n",
    "# 라벨\n",
    "ax1.set_xlabel(\"년도\")\n",
    "ax1.set_ylabel(\"예산 (단위 : 억)\")\n",
    "# 눈금\n",
    "ax1.grid(True)\n",
    "# 그래프 생성\n",
    "ax1.bar(x, y_bar, color=\"#8181F7\", label='예산')\n",
    "\n",
    "# 2번\n",
    "ax2 = ax1.twinx()\n",
    "# 라벨\n",
    "ax2.set_ylabel(\"전년 대비 증가율 (단위 : %)\")\n",
    "# 눈금 간격\n",
    "ax2.axis([2015, 2021, 1, 18])\n",
    "# 그래프 생성\n",
    "ax2.plot(x, y_plot, color='#FACC2E', marker='o', label='전년 대비 증가율')\n",
    "\n",
    "# x측 긴갹\n",
    "plt.xticks([2016, 2017, 2018, 2019, 2020])\n",
    "# 제목\n",
    "plt.title(\"장애인 복지 예산\", loc='center', pad=10)\n",
    "# 범례\n",
    "ax1.legend(loc='upper left')\n",
    "ax2.legend(loc='upper left', bbox_to_anchor=(0, 0.92))\n",
    "\n",
    "plt.tight_layout()\n",
    "# plt.show()\n",
    "plt.savefig('장애인 복지 예산 시각화.png', dpi=200, facecolor='#FFFFFF')"
   ]
  }
 ],
 "metadata": {
  "kernelspec": {
   "display_name": "Python 3",
   "language": "python",
   "name": "python3"
  },
  "language_info": {
   "codemirror_mode": {
    "name": "ipython",
    "version": 3
   },
   "file_extension": ".py",
   "mimetype": "text/x-python",
   "name": "python",
   "nbconvert_exporter": "python",
   "pygments_lexer": "ipython3",
   "version": "3.7.10"
  }
 },
 "nbformat": 4,
 "nbformat_minor": 5
}
