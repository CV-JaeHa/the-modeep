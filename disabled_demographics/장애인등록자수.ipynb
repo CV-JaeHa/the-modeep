{
 "cells": [
  {
   "cell_type": "code",
   "execution_count": 1,
   "id": "06a05be9",
   "metadata": {},
   "outputs": [],
   "source": [
    "import pandas as pd\n",
    "import numpy as np\n",
    "import matplotlib.pyplot as plt\n",
    "import seaborn as sns\n",
    "import glob, os\n",
    "import matplotlib\n",
    "\n",
    "%matplotlib inline"
   ]
  },
  {
   "cell_type": "code",
   "execution_count": 2,
   "id": "7d070537",
   "metadata": {},
   "outputs": [],
   "source": [
    "# color\n",
    "cmap = plt.get_cmap('Wistia')\n",
    "rescale = lambda y: (y - np.min(y)) / (np.max(y) - np.min(y))\n",
    "\n",
    "\n",
    "# fontsizes\n",
    "matplotlib.rc('xtick', labelsize=15) # x tick\n",
    "matplotlib.rc('ytick', labelsize=15) # y tick\n",
    "matplotlib.rc('font', size=10) # default text sizes\n",
    "matplotlib.rc('axes', titlesize=25) # axes title\n",
    "matplotlib.rc('axes', labelsize=20) # x,y labels\n",
    "matplotlib.rc('figure', titlesize=30) # figure title "
   ]
  },
  {
   "cell_type": "code",
   "execution_count": 3,
   "id": "e33ac8a0",
   "metadata": {},
   "outputs": [],
   "source": [
    "IMAGE_PATH = 'data/images'\n",
    "os.makedirs(IMAGE_PATH, exist_ok=True)\n",
    "\n",
    "def save_fig(fig_id, tight_layout=True, fig_extension='png', resolution=300):\n",
    "    path = os.path.join(IMAGE_PATH, fig_id + '.' + fig_extension)\n",
    "    print('Saving figure', fig_id)\n",
    "    if tight_layout:\n",
    "        plt.tight_layout()\n",
    "    plt.savefig(path, format=fig_extension, dpi=resolution)    "
   ]
  },
  {
   "cell_type": "code",
   "execution_count": 4,
   "id": "4db719e9-6a50-423c-b566-b18d06e9cc12",
   "metadata": {},
   "outputs": [
    {
     "name": "stderr",
     "output_type": "stream",
     "text": [
      "'sed'은(는) 내부 또는 외부 명령, 실행할 수 있는 프로그램, 또는\n",
      "배치 파일이 아닙니다.\n",
      "'apt-get'은(는) 내부 또는 외부 명령, 실행할 수 있는 프로그램, 또는\n",
      "배치 파일이 아닙니다.\n",
      "'fc-cache'은(는) 내부 또는 외부 명령, 실행할 수 있는 프로그램, 또는\n",
      "배치 파일이 아닙니다.\n",
      "'apt-get'은(는) 내부 또는 외부 명령, 실행할 수 있는 프로그램, 또는\n",
      "배치 파일이 아닙니다.\n",
      "'rm'은(는) 내부 또는 외부 명령, 실행할 수 있는 프로그램, 또는\n",
      "배치 파일이 아닙니다.\n"
     ]
    }
   ],
   "source": [
    "!sed -i 's/archive.ubuntu.com/ftp.daumkakao.com/g' /etc/apt/sources.list\n",
    "!apt-get update \n",
    "!fc-cache -fv\n",
    "!apt-get install -y fonts-nanum\n",
    "!rm -rf ~/.cache/matplotlib/*\n",
    "plt.rc('font', family='NanumBarunGothic')"
   ]
  },
  {
   "cell_type": "markdown",
   "id": "072f3bfd-5287-43b0-a681-ef9aef491e55",
   "metadata": {},
   "source": [
    "### 전부합쳐진 데이터 살펴보기"
   ]
  },
  {
   "cell_type": "code",
   "execution_count": 5,
   "id": "da323bd1-95c9-4849-90d1-5631f42d6e75",
   "metadata": {
    "scrolled": true
   },
   "outputs": [
    {
     "name": "stderr",
     "output_type": "stream",
     "text": [
      "D:\\Program Files\\Anaconda3\\envs\\ds\\lib\\site-packages\\IPython\\core\\interactiveshell.py:3169: DtypeWarning: Columns (3,4,6,7,8) have mixed types.Specify dtype option on import or set low_memory=False.\n",
      "  has_raised = await self.run_ast_nodes(code_ast.body, cell_name,\n"
     ]
    },
    {
     "data": {
      "text/html": [
       "<div>\n",
       "<style scoped>\n",
       "    .dataframe tbody tr th:only-of-type {\n",
       "        vertical-align: middle;\n",
       "    }\n",
       "\n",
       "    .dataframe tbody tr th {\n",
       "        vertical-align: top;\n",
       "    }\n",
       "\n",
       "    .dataframe thead th {\n",
       "        text-align: right;\n",
       "    }\n",
       "</style>\n",
       "<table border=\"1\" class=\"dataframe\">\n",
       "  <thead>\n",
       "    <tr style=\"text-align: right;\">\n",
       "      <th></th>\n",
       "      <th>통계년월</th>\n",
       "      <th>통계시도명</th>\n",
       "      <th>통계시군구명</th>\n",
       "      <th>장애등급명</th>\n",
       "      <th>장애유형명</th>\n",
       "      <th>등록장애인수</th>\n",
       "      <th>장애등급</th>\n",
       "      <th>장애유형</th>\n",
       "      <th>장애정도</th>\n",
       "    </tr>\n",
       "  </thead>\n",
       "  <tbody>\n",
       "    <tr>\n",
       "      <th>0</th>\n",
       "      <td>201401</td>\n",
       "      <td>서울특별시</td>\n",
       "      <td>종로구</td>\n",
       "      <td>1급</td>\n",
       "      <td>지체</td>\n",
       "      <td>58</td>\n",
       "      <td>NaN</td>\n",
       "      <td>NaN</td>\n",
       "      <td>NaN</td>\n",
       "    </tr>\n",
       "    <tr>\n",
       "      <th>1</th>\n",
       "      <td>201401</td>\n",
       "      <td>서울특별시</td>\n",
       "      <td>종로구</td>\n",
       "      <td>1급</td>\n",
       "      <td>시각</td>\n",
       "      <td>189</td>\n",
       "      <td>NaN</td>\n",
       "      <td>NaN</td>\n",
       "      <td>NaN</td>\n",
       "    </tr>\n",
       "    <tr>\n",
       "      <th>2</th>\n",
       "      <td>201401</td>\n",
       "      <td>서울특별시</td>\n",
       "      <td>종로구</td>\n",
       "      <td>1급</td>\n",
       "      <td>청각</td>\n",
       "      <td>29</td>\n",
       "      <td>NaN</td>\n",
       "      <td>NaN</td>\n",
       "      <td>NaN</td>\n",
       "    </tr>\n",
       "    <tr>\n",
       "      <th>3</th>\n",
       "      <td>201401</td>\n",
       "      <td>서울특별시</td>\n",
       "      <td>종로구</td>\n",
       "      <td>1급</td>\n",
       "      <td>지적</td>\n",
       "      <td>86</td>\n",
       "      <td>NaN</td>\n",
       "      <td>NaN</td>\n",
       "      <td>NaN</td>\n",
       "    </tr>\n",
       "    <tr>\n",
       "      <th>4</th>\n",
       "      <td>201401</td>\n",
       "      <td>서울특별시</td>\n",
       "      <td>종로구</td>\n",
       "      <td>1급</td>\n",
       "      <td>뇌병변</td>\n",
       "      <td>154</td>\n",
       "      <td>NaN</td>\n",
       "      <td>NaN</td>\n",
       "      <td>NaN</td>\n",
       "    </tr>\n",
       "  </tbody>\n",
       "</table>\n",
       "</div>"
      ],
      "text/plain": [
       "     통계년월  통계시도명 통계시군구명 장애등급명 장애유형명  등록장애인수 장애등급 장애유형 장애정도\n",
       "0  201401  서울특별시    종로구    1급    지체      58  NaN  NaN  NaN\n",
       "1  201401  서울특별시    종로구    1급    시각     189  NaN  NaN  NaN\n",
       "2  201401  서울특별시    종로구    1급    청각      29  NaN  NaN  NaN\n",
       "3  201401  서울특별시    종로구    1급    지적      86  NaN  NaN  NaN\n",
       "4  201401  서울특별시    종로구    1급   뇌병변     154  NaN  NaN  NaN"
      ]
     },
     "execution_count": 5,
     "metadata": {},
     "output_type": "execute_result"
    }
   ],
   "source": [
    "df = pd.read_csv('registration/disabled_numeric.csv')\n",
    "df.head()"
   ]
  },
  {
   "cell_type": "code",
   "execution_count": 6,
   "id": "7467e1bb-1883-4c51-8552-dc71ac195b80",
   "metadata": {},
   "outputs": [
    {
     "data": {
      "text/plain": [
       "0"
      ]
     },
     "execution_count": 6,
     "metadata": {},
     "output_type": "execute_result"
    }
   ],
   "source": [
    "df[df['장애유형명'].isnull()]['장애유형'].isnull().sum()"
   ]
  },
  {
   "cell_type": "code",
   "execution_count": 7,
   "id": "77181de0-7178-440e-8daf-5c387629cbc0",
   "metadata": {},
   "outputs": [
    {
     "data": {
      "text/plain": [
       "130319"
      ]
     },
     "execution_count": 7,
     "metadata": {},
     "output_type": "execute_result"
    }
   ],
   "source": [
    "df[df['장애등급명'].isnull()]['장애등급'].isnull().sum()"
   ]
  },
  {
   "cell_type": "code",
   "execution_count": 8,
   "id": "dfbe49f7-9370-4483-992e-5de5ba79d9e5",
   "metadata": {},
   "outputs": [
    {
     "name": "stdout",
     "output_type": "stream",
     "text": [
      "<class 'pandas.core.frame.DataFrame'>\n",
      "RangeIndex: 1039449 entries, 0 to 1039448\n",
      "Data columns (total 9 columns):\n",
      " #   Column  Non-Null Count    Dtype \n",
      "---  ------  --------------    ----- \n",
      " 0   통계년월    1039449 non-null  int64 \n",
      " 1   통계시도명   1039449 non-null  object\n",
      " 2   통계시군구명  1039449 non-null  object\n",
      " 3   장애등급명   592162 non-null   object\n",
      " 4   장애유형명   592162 non-null   object\n",
      " 5   등록장애인수  1039449 non-null  int64 \n",
      " 6   장애등급    316968 non-null   object\n",
      " 7   장애유형    447287 non-null   object\n",
      " 8   장애정도    130319 non-null   object\n",
      "dtypes: int64(2), object(7)\n",
      "memory usage: 71.4+ MB\n"
     ]
    }
   ],
   "source": [
    "df.info()"
   ]
  },
  {
   "cell_type": "markdown",
   "id": "97d4c3ec-7e89-40dc-a69a-f41f26363147",
   "metadata": {},
   "source": [
    "### 년도별로 나눈 데이터 불러오기"
   ]
  },
  {
   "cell_type": "code",
   "execution_count": 9,
   "id": "dae471c6-bbdc-4452-ad4a-8720b918d000",
   "metadata": {},
   "outputs": [
    {
     "data": {
      "text/plain": [
       "['registration\\\\regist2014.csv',\n",
       " 'registration\\\\regist2015.csv',\n",
       " 'registration\\\\regist2016.csv',\n",
       " 'registration\\\\regist2017.csv',\n",
       " 'registration\\\\regist2018.csv',\n",
       " 'registration\\\\regist2019.csv',\n",
       " 'registration\\\\regist2020.csv',\n",
       " 'registration\\\\regist2021.csv']"
      ]
     },
     "execution_count": 9,
     "metadata": {},
     "output_type": "execute_result"
    }
   ],
   "source": [
    "input_file = 'registration'\n",
    "aFile = glob.glob(os.path.join(input_file, 'regist*'))\n",
    "aFile"
   ]
  },
  {
   "cell_type": "code",
   "execution_count": 51,
   "id": "4b04b2ca-6a65-43c9-b3b6-bcd89038759f",
   "metadata": {
    "scrolled": true
   },
   "outputs": [
    {
     "data": {
      "text/html": [
       "<div>\n",
       "<style scoped>\n",
       "    .dataframe tbody tr th:only-of-type {\n",
       "        vertical-align: middle;\n",
       "    }\n",
       "\n",
       "    .dataframe tbody tr th {\n",
       "        vertical-align: top;\n",
       "    }\n",
       "\n",
       "    .dataframe thead th {\n",
       "        text-align: right;\n",
       "    }\n",
       "</style>\n",
       "<table border=\"1\" class=\"dataframe\">\n",
       "  <thead>\n",
       "    <tr style=\"text-align: right;\">\n",
       "      <th></th>\n",
       "      <th>통계년월</th>\n",
       "      <th>통계시도명</th>\n",
       "      <th>통계시군구명</th>\n",
       "      <th>장애유형</th>\n",
       "      <th>장애정도</th>\n",
       "      <th>등록장애인수</th>\n",
       "    </tr>\n",
       "  </thead>\n",
       "  <tbody>\n",
       "    <tr>\n",
       "      <th>0</th>\n",
       "      <td>202101</td>\n",
       "      <td>서울특별시</td>\n",
       "      <td>종로구</td>\n",
       "      <td>지적</td>\n",
       "      <td>심한 장애</td>\n",
       "      <td>399</td>\n",
       "    </tr>\n",
       "    <tr>\n",
       "      <th>1</th>\n",
       "      <td>202101</td>\n",
       "      <td>서울특별시</td>\n",
       "      <td>종로구</td>\n",
       "      <td>뇌병변</td>\n",
       "      <td>심한 장애</td>\n",
       "      <td>343</td>\n",
       "    </tr>\n",
       "    <tr>\n",
       "      <th>2</th>\n",
       "      <td>202101</td>\n",
       "      <td>서울특별시</td>\n",
       "      <td>종로구</td>\n",
       "      <td>자폐성</td>\n",
       "      <td>심한 장애</td>\n",
       "      <td>101</td>\n",
       "    </tr>\n",
       "    <tr>\n",
       "      <th>3</th>\n",
       "      <td>202101</td>\n",
       "      <td>서울특별시</td>\n",
       "      <td>종로구</td>\n",
       "      <td>정신</td>\n",
       "      <td>심한 장애</td>\n",
       "      <td>259</td>\n",
       "    </tr>\n",
       "    <tr>\n",
       "      <th>4</th>\n",
       "      <td>202101</td>\n",
       "      <td>서울특별시</td>\n",
       "      <td>종로구</td>\n",
       "      <td>신장</td>\n",
       "      <td>심한 장애</td>\n",
       "      <td>193</td>\n",
       "    </tr>\n",
       "  </tbody>\n",
       "</table>\n",
       "</div>"
      ],
      "text/plain": [
       "     통계년월  통계시도명 통계시군구명 장애유형   장애정도  등록장애인수\n",
       "0  202101  서울특별시    종로구   지적  심한 장애     399\n",
       "1  202101  서울특별시    종로구  뇌병변  심한 장애     343\n",
       "2  202101  서울특별시    종로구  자폐성  심한 장애     101\n",
       "3  202101  서울특별시    종로구   정신  심한 장애     259\n",
       "4  202101  서울특별시    종로구   신장  심한 장애     193"
      ]
     },
     "execution_count": 51,
     "metadata": {},
     "output_type": "execute_result"
    }
   ],
   "source": [
    "dfs = []\n",
    "\n",
    "for f in aFile:\n",
    "    data = pd.read_csv(f, engine='python', encoding='utf-8')\n",
    "    dfs.append(data)\n",
    "    \n",
    "dfs[-1].head()"
   ]
  },
  {
   "cell_type": "code",
   "execution_count": null,
   "id": "733bb781",
   "metadata": {},
   "outputs": [],
   "source": []
  },
  {
   "cell_type": "code",
   "execution_count": 52,
   "id": "803789f0",
   "metadata": {},
   "outputs": [
    {
     "data": {
      "text/plain": [
       "(23722, 6)"
      ]
     },
     "execution_count": 52,
     "metadata": {},
     "output_type": "execute_result"
    }
   ],
   "source": [
    "dfs[-1].shape"
   ]
  },
  {
   "cell_type": "code",
   "execution_count": 53,
   "id": "881f8210",
   "metadata": {
    "scrolled": true
   },
   "outputs": [
    {
     "data": {
      "text/plain": [
       "(165075, 6)"
      ]
     },
     "execution_count": 53,
     "metadata": {},
     "output_type": "execute_result"
    }
   ],
   "source": [
    "dfs[0].shape"
   ]
  },
  {
   "cell_type": "code",
   "execution_count": 58,
   "id": "aafe09ce",
   "metadata": {},
   "outputs": [
    {
     "data": {
      "text/plain": [
       "(71103, 6)"
      ]
     },
     "execution_count": 58,
     "metadata": {},
     "output_type": "execute_result"
    }
   ],
   "source": [
    "dfs[-2].shape"
   ]
  },
  {
   "cell_type": "markdown",
   "id": "dd004870-c685-4a96-a3f4-4f913758f40b",
   "metadata": {},
   "source": [
    "### 년도별 등록장애인수 & visualization"
   ]
  },
  {
   "cell_type": "code",
   "execution_count": 62,
   "id": "d101dc01",
   "metadata": {},
   "outputs": [
    {
     "data": {
      "text/plain": [
       "array(['서울특별시', '부산광역시', '대구광역시', '인천광역시', '광주광역시', '대전광역시', '울산광역시',\n",
       "       '세종특별자치시', '경기도', '강원도', '충청북도', '충청남도', '전라북도', '전라남도', '경상북도',\n",
       "       '경상남도', '제주특별자치도'], dtype=object)"
      ]
     },
     "execution_count": 62,
     "metadata": {},
     "output_type": "execute_result"
    }
   ],
   "source": [
    "dfs[-1]['통계시도명'].unique()"
   ]
  },
  {
   "cell_type": "code",
   "execution_count": 61,
   "id": "4818d5fa",
   "metadata": {
    "scrolled": true
   },
   "outputs": [
    {
     "data": {
      "text/plain": [
       "10534896"
      ]
     },
     "execution_count": 61,
     "metadata": {},
     "output_type": "execute_result"
    }
   ],
   "source": [
    "dfs[-1]['등록장애인수'].sum()"
   ]
  },
  {
   "cell_type": "code",
   "execution_count": 63,
   "id": "b1fe25f8",
   "metadata": {},
   "outputs": [
    {
     "data": {
      "text/plain": [
       "29938938"
      ]
     },
     "execution_count": 63,
     "metadata": {},
     "output_type": "execute_result"
    }
   ],
   "source": [
    "dfs[0]['등록장애인수'].sum()"
   ]
  },
  {
   "cell_type": "code",
   "execution_count": null,
   "id": "258dd898",
   "metadata": {},
   "outputs": [],
   "source": [
    "Number of registrants by disability type by region/month"
   ]
  },
  {
   "cell_type": "code",
   "execution_count": null,
   "id": "1e6b9ee1",
   "metadata": {},
   "outputs": [],
   "source": [
    "def numOfRegistBy_disabilityType_year_month_region(year, mont, region):\n",
    "    "
   ]
  },
  {
   "cell_type": "code",
   "execution_count": 70,
   "id": "28ffd228",
   "metadata": {},
   "outputs": [
    {
     "data": {
      "text/plain": [
       "[4816116,\n",
       " 1008279,\n",
       " 1593538,\n",
       " 871514,\n",
       " 998542,\n",
       " 125220,\n",
       " 414331,\n",
       " 393516,\n",
       " 46119,\n",
       " 55821,\n",
       " 90107,\n",
       " 20899,\n",
       " 28393,\n",
       " 10682,\n",
       " 61819]"
      ]
     },
     "execution_count": 70,
     "metadata": {},
     "output_type": "execute_result"
    }
   ],
   "source": [
    "df2021 = dfs[-1]\n",
    "\n",
    "r = []\n",
    "\n",
    "for i in range(len(types)):\n",
    "    r.append(df2021[df2021['장애유형']==types[i]]['등록장애인수'].sum())\n",
    "    \n",
    "r"
   ]
  },
  {
   "cell_type": "code",
   "execution_count": 67,
   "id": "1eb051f9-ecd8-494a-be3e-ddc32a02d07a",
   "metadata": {
    "scrolled": true
   },
   "outputs": [
    {
     "data": {
      "text/plain": [
       "[0,\n",
       " 0,\n",
       " 0,\n",
       " 0,\n",
       " 0,\n",
       " 0,\n",
       " 0,\n",
       " 0,\n",
       " 0,\n",
       " 0,\n",
       " 0,\n",
       " 0,\n",
       " 0,\n",
       " 0,\n",
       " 0,\n",
       " 0,\n",
       " 0,\n",
       " 0,\n",
       " 0,\n",
       " 0,\n",
       " 0,\n",
       " 0,\n",
       " 0,\n",
       " 0,\n",
       " 0,\n",
       " 0,\n",
       " 0,\n",
       " 0,\n",
       " 0,\n",
       " 0,\n",
       " 0,\n",
       " 0,\n",
       " 0,\n",
       " 0,\n",
       " 0,\n",
       " 0,\n",
       " 0,\n",
       " 0,\n",
       " 0,\n",
       " 0,\n",
       " 0,\n",
       " 0,\n",
       " 0,\n",
       " 0,\n",
       " 0,\n",
       " 0,\n",
       " 0,\n",
       " 0,\n",
       " 0,\n",
       " 0,\n",
       " 0,\n",
       " 0,\n",
       " 0,\n",
       " 0,\n",
       " 0,\n",
       " 0,\n",
       " 0,\n",
       " 0,\n",
       " 0,\n",
       " 0,\n",
       " 0,\n",
       " 0,\n",
       " 0,\n",
       " 0,\n",
       " 0,\n",
       " 0,\n",
       " 0,\n",
       " 0,\n",
       " 0,\n",
       " 0,\n",
       " 0,\n",
       " 0,\n",
       " 0,\n",
       " 0,\n",
       " 0,\n",
       " 0,\n",
       " 0,\n",
       " 0,\n",
       " 0,\n",
       " 0,\n",
       " 0,\n",
       " 0,\n",
       " 0,\n",
       " 0,\n",
       " 0,\n",
       " 0,\n",
       " 0,\n",
       " 0,\n",
       " 0,\n",
       " 0,\n",
       " 0,\n",
       " 0,\n",
       " 0,\n",
       " 0,\n",
       " 0,\n",
       " 0,\n",
       " 0,\n",
       " 0,\n",
       " 0,\n",
       " 0,\n",
       " 0,\n",
       " 0,\n",
       " 0,\n",
       " 0,\n",
       " 0]"
      ]
     },
     "execution_count": 67,
     "metadata": {},
     "output_type": "execute_result"
    }
   ],
   "source": [
    "sums = []\n",
    "\n",
    "for i in range(0, len(dfs)-1):\n",
    "    for j in range(0, len(types)):\n",
    "        sums.append(dfs[i][dfs[i]['통계시도명']==types[j]]['등록장애인수'].sum())\n",
    "\n",
    "        \n",
    "sums"
   ]
  },
  {
   "cell_type": "code",
   "execution_count": 33,
   "id": "f3e8b72a-c8a1-4b67-9880-61bed4cf6033",
   "metadata": {},
   "outputs": [
    {
     "data": {
      "text/plain": [
       "1583958"
      ]
     },
     "execution_count": 33,
     "metadata": {},
     "output_type": "execute_result"
    }
   ],
   "source": [
    "31522896 - 29938938"
   ]
  },
  {
   "cell_type": "code",
   "execution_count": 13,
   "id": "2f52629a-fdbb-4229-ad52-5fa4f1176973",
   "metadata": {},
   "outputs": [
    {
     "name": "stdout",
     "output_type": "stream",
     "text": [
      "181.36567014993184\n",
      "180.73530497286373\n",
      "181.25599482704442\n",
      "183.71796657381614\n",
      "185.98095836834375\n",
      "264.34516912094324\n",
      "443.3412936163031\n"
     ]
    }
   ],
   "source": [
    "avgs = []\n",
    "\n",
    "for i in range(0, len(dfs)-1):\n",
    "    avgs.append(dfs[i]['등록장애인수'].mean())\n",
    "    print(avgs[i])"
   ]
  },
  {
   "cell_type": "code",
   "execution_count": null,
   "id": "fac4c001",
   "metadata": {},
   "outputs": [],
   "source": [
    "df['장애등급']"
   ]
  },
  {
   "cell_type": "code",
   "execution_count": 14,
   "id": "09475a33-01cb-4962-b3ac-93b6e617c2fd",
   "metadata": {},
   "outputs": [
    {
     "data": {
      "text/plain": [
       "144.37706725468576"
      ]
     },
     "execution_count": 14,
     "metadata": {},
     "output_type": "execute_result"
    }
   ],
   "source": [
    "avgRateOfVar = (443.3 - 181.4) / 181.4 * 100\n",
    "avgRateOfVar"
   ]
  },
  {
   "cell_type": "code",
   "execution_count": 15,
   "id": "634b782c-a4b8-48b8-977a-9fb1487fed23",
   "metadata": {
    "scrolled": true,
    "tags": []
   },
   "outputs": [
    {
     "name": "stdout",
     "output_type": "stream",
     "text": [
      "Saving figure"
     ]
    },
    {
     "name": "stderr",
     "output_type": "stream",
     "text": [
      "findfont: Font family ['NanumBarunGothic'] not found. Falling back to DejaVu Sans.\n",
      "findfont: Font family ['NanumBarunGothic'] not found. Falling back to DejaVu Sans.\n"
     ]
    },
    {
     "name": "stdout",
     "output_type": "stream",
     "text": [
      " 연도별 등록장애인 수 총합\n"
     ]
    },
    {
     "name": "stderr",
     "output_type": "stream",
     "text": [
      "D:\\Program Files\\Anaconda3\\envs\\ds\\lib\\site-packages\\matplotlib\\backends\\backend_agg.py:238: RuntimeWarning: Glyph 45380 missing from current font.\n",
      "  font.set_text(s, 0.0, flags=flags)\n",
      "D:\\Program Files\\Anaconda3\\envs\\ds\\lib\\site-packages\\matplotlib\\backends\\backend_agg.py:238: RuntimeWarning: Glyph 46020 missing from current font.\n",
      "  font.set_text(s, 0.0, flags=flags)\n",
      "D:\\Program Files\\Anaconda3\\envs\\ds\\lib\\site-packages\\matplotlib\\backends\\backend_agg.py:238: RuntimeWarning: Glyph 52509 missing from current font.\n",
      "  font.set_text(s, 0.0, flags=flags)\n",
      "D:\\Program Files\\Anaconda3\\envs\\ds\\lib\\site-packages\\matplotlib\\backends\\backend_agg.py:238: RuntimeWarning: Glyph 54633 missing from current font.\n",
      "  font.set_text(s, 0.0, flags=flags)\n",
      "findfont: Font family ['NanumBarunGothic'] not found. Falling back to DejaVu Sans.\n",
      "D:\\Program Files\\Anaconda3\\envs\\ds\\lib\\site-packages\\matplotlib\\backends\\backend_agg.py:238: RuntimeWarning: Glyph 50672 missing from current font.\n",
      "  font.set_text(s, 0.0, flags=flags)\n",
      "D:\\Program Files\\Anaconda3\\envs\\ds\\lib\\site-packages\\matplotlib\\backends\\backend_agg.py:238: RuntimeWarning: Glyph 48324 missing from current font.\n",
      "  font.set_text(s, 0.0, flags=flags)\n",
      "D:\\Program Files\\Anaconda3\\envs\\ds\\lib\\site-packages\\matplotlib\\backends\\backend_agg.py:238: RuntimeWarning: Glyph 46321 missing from current font.\n",
      "  font.set_text(s, 0.0, flags=flags)\n",
      "D:\\Program Files\\Anaconda3\\envs\\ds\\lib\\site-packages\\matplotlib\\backends\\backend_agg.py:238: RuntimeWarning: Glyph 47197 missing from current font.\n",
      "  font.set_text(s, 0.0, flags=flags)\n",
      "D:\\Program Files\\Anaconda3\\envs\\ds\\lib\\site-packages\\matplotlib\\backends\\backend_agg.py:238: RuntimeWarning: Glyph 51109 missing from current font.\n",
      "  font.set_text(s, 0.0, flags=flags)\n",
      "D:\\Program Files\\Anaconda3\\envs\\ds\\lib\\site-packages\\matplotlib\\backends\\backend_agg.py:238: RuntimeWarning: Glyph 50528 missing from current font.\n",
      "  font.set_text(s, 0.0, flags=flags)\n",
      "D:\\Program Files\\Anaconda3\\envs\\ds\\lib\\site-packages\\matplotlib\\backends\\backend_agg.py:238: RuntimeWarning: Glyph 51064 missing from current font.\n",
      "  font.set_text(s, 0.0, flags=flags)\n",
      "D:\\Program Files\\Anaconda3\\envs\\ds\\lib\\site-packages\\matplotlib\\backends\\backend_agg.py:238: RuntimeWarning: Glyph 49688 missing from current font.\n",
      "  font.set_text(s, 0.0, flags=flags)\n",
      "D:\\Program Files\\Anaconda3\\envs\\ds\\lib\\site-packages\\matplotlib\\backends\\backend_agg.py:201: RuntimeWarning: Glyph 45380 missing from current font.\n",
      "  font.set_text(s, 0, flags=flags)\n",
      "D:\\Program Files\\Anaconda3\\envs\\ds\\lib\\site-packages\\matplotlib\\backends\\backend_agg.py:201: RuntimeWarning: Glyph 46020 missing from current font.\n",
      "  font.set_text(s, 0, flags=flags)\n",
      "D:\\Program Files\\Anaconda3\\envs\\ds\\lib\\site-packages\\matplotlib\\backends\\backend_agg.py:201: RuntimeWarning: Glyph 52509 missing from current font.\n",
      "  font.set_text(s, 0, flags=flags)\n",
      "D:\\Program Files\\Anaconda3\\envs\\ds\\lib\\site-packages\\matplotlib\\backends\\backend_agg.py:201: RuntimeWarning: Glyph 54633 missing from current font.\n",
      "  font.set_text(s, 0, flags=flags)\n",
      "D:\\Program Files\\Anaconda3\\envs\\ds\\lib\\site-packages\\matplotlib\\backends\\backend_agg.py:201: RuntimeWarning: Glyph 50672 missing from current font.\n",
      "  font.set_text(s, 0, flags=flags)\n",
      "D:\\Program Files\\Anaconda3\\envs\\ds\\lib\\site-packages\\matplotlib\\backends\\backend_agg.py:201: RuntimeWarning: Glyph 48324 missing from current font.\n",
      "  font.set_text(s, 0, flags=flags)\n",
      "D:\\Program Files\\Anaconda3\\envs\\ds\\lib\\site-packages\\matplotlib\\backends\\backend_agg.py:201: RuntimeWarning: Glyph 46321 missing from current font.\n",
      "  font.set_text(s, 0, flags=flags)\n",
      "D:\\Program Files\\Anaconda3\\envs\\ds\\lib\\site-packages\\matplotlib\\backends\\backend_agg.py:201: RuntimeWarning: Glyph 47197 missing from current font.\n",
      "  font.set_text(s, 0, flags=flags)\n",
      "D:\\Program Files\\Anaconda3\\envs\\ds\\lib\\site-packages\\matplotlib\\backends\\backend_agg.py:201: RuntimeWarning: Glyph 51109 missing from current font.\n",
      "  font.set_text(s, 0, flags=flags)\n",
      "D:\\Program Files\\Anaconda3\\envs\\ds\\lib\\site-packages\\matplotlib\\backends\\backend_agg.py:201: RuntimeWarning: Glyph 50528 missing from current font.\n",
      "  font.set_text(s, 0, flags=flags)\n",
      "D:\\Program Files\\Anaconda3\\envs\\ds\\lib\\site-packages\\matplotlib\\backends\\backend_agg.py:201: RuntimeWarning: Glyph 51064 missing from current font.\n",
      "  font.set_text(s, 0, flags=flags)\n",
      "D:\\Program Files\\Anaconda3\\envs\\ds\\lib\\site-packages\\matplotlib\\backends\\backend_agg.py:201: RuntimeWarning: Glyph 49688 missing from current font.\n",
      "  font.set_text(s, 0, flags=flags)\n"
     ]
    },
    {
     "data": {
      "image/png": "[encoded data removed]",
      "text/plain": [
       "<Figure size 432x288 with 1 Axes>"
      ]
     },
     "metadata": {
      "needs_background": "light"
     },
     "output_type": "display_data"
    }
   ],
   "source": [
    "years = ['2014', '2015', '2016','2017','2018', '2019', '2020']\n",
    "\n",
    "y = np.array([1,2,3,4,5,6,7])\n",
    "\n",
    "plt.ticklabel_format(style = 'plain')\n",
    "\n",
    "plt.bar(years, sums, color=cmap(rescale(y)))\n",
    "plt.title('연도별 등록장애인 수 총합')\n",
    "plt.xlabel('년도')\n",
    "plt.ylabel('총합')\n",
    "plt.ylim([27000000,32000000])\n",
    "\n",
    "save_fig('연도별 등록장애인 수 총합')"
   ]
  },
  {
   "cell_type": "code",
   "execution_count": 16,
   "id": "e5d31227-10ed-4c61-8494-8cc4a601d46f",
   "metadata": {},
   "outputs": [
    {
     "name": "stdout",
     "output_type": "stream",
     "text": [
      "Saving figure 연도별 등록장애인 수 평균\n"
     ]
    },
    {
     "name": "stderr",
     "output_type": "stream",
     "text": [
      "D:\\Program Files\\Anaconda3\\envs\\ds\\lib\\site-packages\\matplotlib\\backends\\backend_agg.py:238: RuntimeWarning: Glyph 54217 missing from current font.\n",
      "  font.set_text(s, 0.0, flags=flags)\n",
      "D:\\Program Files\\Anaconda3\\envs\\ds\\lib\\site-packages\\matplotlib\\backends\\backend_agg.py:238: RuntimeWarning: Glyph 44512 missing from current font.\n",
      "  font.set_text(s, 0.0, flags=flags)\n",
      "D:\\Program Files\\Anaconda3\\envs\\ds\\lib\\site-packages\\matplotlib\\backends\\backend_agg.py:201: RuntimeWarning: Glyph 54217 missing from current font.\n",
      "  font.set_text(s, 0, flags=flags)\n",
      "D:\\Program Files\\Anaconda3\\envs\\ds\\lib\\site-packages\\matplotlib\\backends\\backend_agg.py:201: RuntimeWarning: Glyph 44512 missing from current font.\n",
      "  font.set_text(s, 0, flags=flags)\n"
     ]
    },
    {
     "data": {
      "image/png": "[encoded data removed]",
      "text/plain": [
       "<Figure size 432x288 with 1 Axes>"
      ]
     },
     "metadata": {
      "needs_background": "light"
     },
     "output_type": "display_data"
    }
   ],
   "source": [
    "plt.ticklabel_format(style = 'plain')\n",
    "\n",
    "plt.bar(years, avgs, color=cmap(rescale(y)))\n",
    "plt.title('연도별 등록장애인 수 평균')\n",
    "plt.xlabel('년도')\n",
    "plt.ylabel('평균')\n",
    "\n",
    "save_fig('연도별 등록장애인 수 평균')"
   ]
  },
  {
   "cell_type": "markdown",
   "id": "0935fd17-6692-49d1-aa7a-00d85de0da44",
   "metadata": {},
   "source": [
    "### 장애인 등록자 들의 등급비율 & 시각화"
   ]
  },
  {
   "cell_type": "code",
   "execution_count": 17,
   "id": "2e16881c-83ac-4adb-9659-cc888f7f2eab",
   "metadata": {
    "scrolled": true
   },
   "outputs": [
    {
     "data": {
      "text/html": [
       "<div>\n",
       "<style scoped>\n",
       "    .dataframe tbody tr th:only-of-type {\n",
       "        vertical-align: middle;\n",
       "    }\n",
       "\n",
       "    .dataframe tbody tr th {\n",
       "        vertical-align: top;\n",
       "    }\n",
       "\n",
       "    .dataframe thead th {\n",
       "        text-align: right;\n",
       "    }\n",
       "</style>\n",
       "<table border=\"1\" class=\"dataframe\">\n",
       "  <thead>\n",
       "    <tr style=\"text-align: right;\">\n",
       "      <th></th>\n",
       "      <th>통계년월</th>\n",
       "      <th>통계시도명</th>\n",
       "      <th>통계시군구명</th>\n",
       "      <th>장애등급명</th>\n",
       "      <th>장애유형명</th>\n",
       "      <th>등록장애인수</th>\n",
       "      <th>장애등급</th>\n",
       "      <th>장애유형</th>\n",
       "      <th>장애정도</th>\n",
       "    </tr>\n",
       "  </thead>\n",
       "  <tbody>\n",
       "    <tr>\n",
       "      <th>0</th>\n",
       "      <td>201401</td>\n",
       "      <td>서울특별시</td>\n",
       "      <td>종로구</td>\n",
       "      <td>1급</td>\n",
       "      <td>지체</td>\n",
       "      <td>58</td>\n",
       "      <td>NaN</td>\n",
       "      <td>NaN</td>\n",
       "      <td>NaN</td>\n",
       "    </tr>\n",
       "    <tr>\n",
       "      <th>1</th>\n",
       "      <td>201401</td>\n",
       "      <td>서울특별시</td>\n",
       "      <td>종로구</td>\n",
       "      <td>1급</td>\n",
       "      <td>시각</td>\n",
       "      <td>189</td>\n",
       "      <td>NaN</td>\n",
       "      <td>NaN</td>\n",
       "      <td>NaN</td>\n",
       "    </tr>\n",
       "    <tr>\n",
       "      <th>2</th>\n",
       "      <td>201401</td>\n",
       "      <td>서울특별시</td>\n",
       "      <td>종로구</td>\n",
       "      <td>1급</td>\n",
       "      <td>청각</td>\n",
       "      <td>29</td>\n",
       "      <td>NaN</td>\n",
       "      <td>NaN</td>\n",
       "      <td>NaN</td>\n",
       "    </tr>\n",
       "    <tr>\n",
       "      <th>3</th>\n",
       "      <td>201401</td>\n",
       "      <td>서울특별시</td>\n",
       "      <td>종로구</td>\n",
       "      <td>1급</td>\n",
       "      <td>지적</td>\n",
       "      <td>86</td>\n",
       "      <td>NaN</td>\n",
       "      <td>NaN</td>\n",
       "      <td>NaN</td>\n",
       "    </tr>\n",
       "    <tr>\n",
       "      <th>4</th>\n",
       "      <td>201401</td>\n",
       "      <td>서울특별시</td>\n",
       "      <td>종로구</td>\n",
       "      <td>1급</td>\n",
       "      <td>뇌병변</td>\n",
       "      <td>154</td>\n",
       "      <td>NaN</td>\n",
       "      <td>NaN</td>\n",
       "      <td>NaN</td>\n",
       "    </tr>\n",
       "  </tbody>\n",
       "</table>\n",
       "</div>"
      ],
      "text/plain": [
       "     통계년월  통계시도명 통계시군구명 장애등급명 장애유형명  등록장애인수 장애등급 장애유형 장애정도\n",
       "0  201401  서울특별시    종로구    1급    지체      58  NaN  NaN  NaN\n",
       "1  201401  서울특별시    종로구    1급    시각     189  NaN  NaN  NaN\n",
       "2  201401  서울특별시    종로구    1급    청각      29  NaN  NaN  NaN\n",
       "3  201401  서울특별시    종로구    1급    지적      86  NaN  NaN  NaN\n",
       "4  201401  서울특별시    종로구    1급   뇌병변     154  NaN  NaN  NaN"
      ]
     },
     "execution_count": 17,
     "metadata": {},
     "output_type": "execute_result"
    }
   ],
   "source": [
    "df.head()"
   ]
  },
  {
   "cell_type": "code",
   "execution_count": 18,
   "id": "6b7e4a0c-83b2-4788-a8f4-f4a6ae42987a",
   "metadata": {},
   "outputs": [
    {
     "data": {
      "text/plain": [
       "3급    133583\n",
       "2급    128255\n",
       "1급    109210\n",
       "4급     92430\n",
       "5급     88950\n",
       "6급     39734\n",
       "Name: 장애등급명, dtype: int64"
      ]
     },
     "execution_count": 18,
     "metadata": {},
     "output_type": "execute_result"
    }
   ],
   "source": [
    "df['장애등급명'].value_counts()"
   ]
  },
  {
   "cell_type": "code",
   "execution_count": 57,
   "id": "479f4551",
   "metadata": {},
   "outputs": [
    {
     "data": {
      "text/html": [
       "<div>\n",
       "<style scoped>\n",
       "    .dataframe tbody tr th:only-of-type {\n",
       "        vertical-align: middle;\n",
       "    }\n",
       "\n",
       "    .dataframe tbody tr th {\n",
       "        vertical-align: top;\n",
       "    }\n",
       "\n",
       "    .dataframe thead th {\n",
       "        text-align: right;\n",
       "    }\n",
       "</style>\n",
       "<table border=\"1\" class=\"dataframe\">\n",
       "  <thead>\n",
       "    <tr style=\"text-align: right;\">\n",
       "      <th></th>\n",
       "      <th>통계년월</th>\n",
       "      <th>통계시도명</th>\n",
       "      <th>통계시군구명</th>\n",
       "      <th>장애유형</th>\n",
       "      <th>장애정도</th>\n",
       "      <th>등록장애인수</th>\n",
       "    </tr>\n",
       "  </thead>\n",
       "  <tbody>\n",
       "    <tr>\n",
       "      <th>0</th>\n",
       "      <td>202001</td>\n",
       "      <td>서울특별시</td>\n",
       "      <td>종로구</td>\n",
       "      <td>지적</td>\n",
       "      <td>심한 장애</td>\n",
       "      <td>394</td>\n",
       "    </tr>\n",
       "    <tr>\n",
       "      <th>1</th>\n",
       "      <td>202001</td>\n",
       "      <td>서울특별시</td>\n",
       "      <td>종로구</td>\n",
       "      <td>뇌병변</td>\n",
       "      <td>심한 장애</td>\n",
       "      <td>331</td>\n",
       "    </tr>\n",
       "    <tr>\n",
       "      <th>2</th>\n",
       "      <td>202001</td>\n",
       "      <td>서울특별시</td>\n",
       "      <td>종로구</td>\n",
       "      <td>자폐성</td>\n",
       "      <td>심한 장애</td>\n",
       "      <td>112</td>\n",
       "    </tr>\n",
       "    <tr>\n",
       "      <th>3</th>\n",
       "      <td>202001</td>\n",
       "      <td>서울특별시</td>\n",
       "      <td>종로구</td>\n",
       "      <td>정신</td>\n",
       "      <td>심한 장애</td>\n",
       "      <td>266</td>\n",
       "    </tr>\n",
       "    <tr>\n",
       "      <th>4</th>\n",
       "      <td>202001</td>\n",
       "      <td>서울특별시</td>\n",
       "      <td>종로구</td>\n",
       "      <td>신장</td>\n",
       "      <td>심한 장애</td>\n",
       "      <td>186</td>\n",
       "    </tr>\n",
       "    <tr>\n",
       "      <th>...</th>\n",
       "      <td>...</td>\n",
       "      <td>...</td>\n",
       "      <td>...</td>\n",
       "      <td>...</td>\n",
       "      <td>...</td>\n",
       "      <td>...</td>\n",
       "    </tr>\n",
       "    <tr>\n",
       "      <th>71098</th>\n",
       "      <td>202012</td>\n",
       "      <td>제주특별자치도</td>\n",
       "      <td>서귀포시</td>\n",
       "      <td>장루.요루</td>\n",
       "      <td>심하지 않은 장애</td>\n",
       "      <td>76</td>\n",
       "    </tr>\n",
       "    <tr>\n",
       "      <th>71099</th>\n",
       "      <td>202012</td>\n",
       "      <td>제주특별자치도</td>\n",
       "      <td>서귀포시</td>\n",
       "      <td>뇌전증</td>\n",
       "      <td>심하지 않은 장애</td>\n",
       "      <td>33</td>\n",
       "    </tr>\n",
       "    <tr>\n",
       "      <th>71100</th>\n",
       "      <td>202012</td>\n",
       "      <td>제주특별자치도</td>\n",
       "      <td>서귀포시</td>\n",
       "      <td>청각</td>\n",
       "      <td>심한 장애</td>\n",
       "      <td>423</td>\n",
       "    </tr>\n",
       "    <tr>\n",
       "      <th>71101</th>\n",
       "      <td>202012</td>\n",
       "      <td>제주특별자치도</td>\n",
       "      <td>서귀포시</td>\n",
       "      <td>언어</td>\n",
       "      <td>심한 장애</td>\n",
       "      <td>61</td>\n",
       "    </tr>\n",
       "    <tr>\n",
       "      <th>71102</th>\n",
       "      <td>202012</td>\n",
       "      <td>제주특별자치도</td>\n",
       "      <td>서귀포시</td>\n",
       "      <td>지적</td>\n",
       "      <td>심한 장애</td>\n",
       "      <td>1012</td>\n",
       "    </tr>\n",
       "  </tbody>\n",
       "</table>\n",
       "<p>71103 rows × 6 columns</p>\n",
       "</div>"
      ],
      "text/plain": [
       "         통계년월    통계시도명 통계시군구명   장애유형       장애정도  등록장애인수\n",
       "0      202001    서울특별시    종로구     지적      심한 장애     394\n",
       "1      202001    서울특별시    종로구    뇌병변      심한 장애     331\n",
       "2      202001    서울특별시    종로구    자폐성      심한 장애     112\n",
       "3      202001    서울특별시    종로구     정신      심한 장애     266\n",
       "4      202001    서울특별시    종로구     신장      심한 장애     186\n",
       "...       ...      ...    ...    ...        ...     ...\n",
       "71098  202012  제주특별자치도   서귀포시  장루.요루  심하지 않은 장애      76\n",
       "71099  202012  제주특별자치도   서귀포시    뇌전증  심하지 않은 장애      33\n",
       "71100  202012  제주특별자치도   서귀포시     청각      심한 장애     423\n",
       "71101  202012  제주특별자치도   서귀포시     언어      심한 장애      61\n",
       "71102  202012  제주특별자치도   서귀포시     지적      심한 장애    1012\n",
       "\n",
       "[71103 rows x 6 columns]"
      ]
     },
     "execution_count": 57,
     "metadata": {},
     "output_type": "execute_result"
    }
   ],
   "source": [
    "use_df"
   ]
  },
  {
   "cell_type": "code",
   "execution_count": null,
   "id": "3a7058b6",
   "metadata": {},
   "outputs": [],
   "source": [
    "use_df1 = pd.read_csv('')"
   ]
  },
  {
   "cell_type": "code",
   "execution_count": 59,
   "id": "e3fb0885-df27-4515-9f84-7c8e2aaadeec",
   "metadata": {
    "scrolled": true
   },
   "outputs": [
    {
     "ename": "KeyError",
     "evalue": "'장애등급명'",
     "output_type": "error",
     "traceback": [
      "\u001b[1;31m---------------------------------------------------------------------------\u001b[0m",
      "\u001b[1;31mKeyError\u001b[0m                                  Traceback (most recent call last)",
      "\u001b[1;32mD:\\Program Files\\Anaconda3\\envs\\ds\\lib\\site-packages\\pandas\\core\\indexes\\base.py\u001b[0m in \u001b[0;36mget_loc\u001b[1;34m(self, key, method, tolerance)\u001b[0m\n\u001b[0;32m   3079\u001b[0m             \u001b[1;32mtry\u001b[0m\u001b[1;33m:\u001b[0m\u001b[1;33m\u001b[0m\u001b[1;33m\u001b[0m\u001b[0m\n\u001b[1;32m-> 3080\u001b[1;33m                 \u001b[1;32mreturn\u001b[0m \u001b[0mself\u001b[0m\u001b[1;33m.\u001b[0m\u001b[0m_engine\u001b[0m\u001b[1;33m.\u001b[0m\u001b[0mget_loc\u001b[0m\u001b[1;33m(\u001b[0m\u001b[0mcasted_key\u001b[0m\u001b[1;33m)\u001b[0m\u001b[1;33m\u001b[0m\u001b[1;33m\u001b[0m\u001b[0m\n\u001b[0m\u001b[0;32m   3081\u001b[0m             \u001b[1;32mexcept\u001b[0m \u001b[0mKeyError\u001b[0m \u001b[1;32mas\u001b[0m \u001b[0merr\u001b[0m\u001b[1;33m:\u001b[0m\u001b[1;33m\u001b[0m\u001b[1;33m\u001b[0m\u001b[0m\n",
      "\u001b[1;32mpandas\\_libs\\index.pyx\u001b[0m in \u001b[0;36mpandas._libs.index.IndexEngine.get_loc\u001b[1;34m()\u001b[0m\n",
      "\u001b[1;32mpandas\\_libs\\index.pyx\u001b[0m in \u001b[0;36mpandas._libs.index.IndexEngine.get_loc\u001b[1;34m()\u001b[0m\n",
      "\u001b[1;32mpandas\\_libs\\hashtable_class_helper.pxi\u001b[0m in \u001b[0;36mpandas._libs.hashtable.PyObjectHashTable.get_item\u001b[1;34m()\u001b[0m\n",
      "\u001b[1;32mpandas\\_libs\\hashtable_class_helper.pxi\u001b[0m in \u001b[0;36mpandas._libs.hashtable.PyObjectHashTable.get_item\u001b[1;34m()\u001b[0m\n",
      "\u001b[1;31mKeyError\u001b[0m: '장애등급명'",
      "\nThe above exception was the direct cause of the following exception:\n",
      "\u001b[1;31mKeyError\u001b[0m                                  Traceback (most recent call last)",
      "\u001b[1;32m<ipython-input-59-9902b60e8c00>\u001b[0m in \u001b[0;36m<module>\u001b[1;34m\u001b[0m\n\u001b[0;32m      1\u001b[0m \u001b[0mrates\u001b[0m \u001b[1;33m=\u001b[0m \u001b[1;33m[\u001b[0m\u001b[1;33m]\u001b[0m\u001b[1;33m\u001b[0m\u001b[1;33m\u001b[0m\u001b[0m\n\u001b[0;32m      2\u001b[0m \u001b[1;32mfor\u001b[0m \u001b[0mi\u001b[0m \u001b[1;32min\u001b[0m \u001b[0mrange\u001b[0m\u001b[1;33m(\u001b[0m\u001b[1;36m0\u001b[0m\u001b[1;33m,\u001b[0m \u001b[1;36m6\u001b[0m\u001b[1;33m)\u001b[0m\u001b[1;33m:\u001b[0m\u001b[1;33m\u001b[0m\u001b[1;33m\u001b[0m\u001b[0m\n\u001b[1;32m----> 3\u001b[1;33m     \u001b[0mrates\u001b[0m\u001b[1;33m.\u001b[0m\u001b[0mappend\u001b[0m\u001b[1;33m(\u001b[0m\u001b[0muse_df\u001b[0m\u001b[1;33m[\u001b[0m\u001b[0muse_df\u001b[0m\u001b[1;33m[\u001b[0m\u001b[1;34m'장애등급명'\u001b[0m\u001b[1;33m]\u001b[0m\u001b[1;33m==\u001b[0m\u001b[1;34m'{}급'\u001b[0m\u001b[1;33m.\u001b[0m\u001b[0mformat\u001b[0m\u001b[1;33m(\u001b[0m\u001b[0mi\u001b[0m\u001b[1;33m+\u001b[0m\u001b[1;36m1\u001b[0m\u001b[1;33m)\u001b[0m\u001b[1;33m]\u001b[0m\u001b[1;33m)\u001b[0m\u001b[1;33m\u001b[0m\u001b[1;33m\u001b[0m\u001b[0m\n\u001b[0m\u001b[0;32m      4\u001b[0m \u001b[1;33m\u001b[0m\u001b[0m\n\u001b[0;32m      5\u001b[0m \u001b[0mrates\u001b[0m\u001b[1;33m[\u001b[0m\u001b[1;36m1\u001b[0m\u001b[1;33m]\u001b[0m\u001b[1;33m\u001b[0m\u001b[1;33m\u001b[0m\u001b[0m\n",
      "\u001b[1;32mD:\\Program Files\\Anaconda3\\envs\\ds\\lib\\site-packages\\pandas\\core\\frame.py\u001b[0m in \u001b[0;36m__getitem__\u001b[1;34m(self, key)\u001b[0m\n\u001b[0;32m   3022\u001b[0m             \u001b[1;32mif\u001b[0m \u001b[0mself\u001b[0m\u001b[1;33m.\u001b[0m\u001b[0mcolumns\u001b[0m\u001b[1;33m.\u001b[0m\u001b[0mnlevels\u001b[0m \u001b[1;33m>\u001b[0m \u001b[1;36m1\u001b[0m\u001b[1;33m:\u001b[0m\u001b[1;33m\u001b[0m\u001b[1;33m\u001b[0m\u001b[0m\n\u001b[0;32m   3023\u001b[0m                 \u001b[1;32mreturn\u001b[0m \u001b[0mself\u001b[0m\u001b[1;33m.\u001b[0m\u001b[0m_getitem_multilevel\u001b[0m\u001b[1;33m(\u001b[0m\u001b[0mkey\u001b[0m\u001b[1;33m)\u001b[0m\u001b[1;33m\u001b[0m\u001b[1;33m\u001b[0m\u001b[0m\n\u001b[1;32m-> 3024\u001b[1;33m             \u001b[0mindexer\u001b[0m \u001b[1;33m=\u001b[0m \u001b[0mself\u001b[0m\u001b[1;33m.\u001b[0m\u001b[0mcolumns\u001b[0m\u001b[1;33m.\u001b[0m\u001b[0mget_loc\u001b[0m\u001b[1;33m(\u001b[0m\u001b[0mkey\u001b[0m\u001b[1;33m)\u001b[0m\u001b[1;33m\u001b[0m\u001b[1;33m\u001b[0m\u001b[0m\n\u001b[0m\u001b[0;32m   3025\u001b[0m             \u001b[1;32mif\u001b[0m \u001b[0mis_integer\u001b[0m\u001b[1;33m(\u001b[0m\u001b[0mindexer\u001b[0m\u001b[1;33m)\u001b[0m\u001b[1;33m:\u001b[0m\u001b[1;33m\u001b[0m\u001b[1;33m\u001b[0m\u001b[0m\n\u001b[0;32m   3026\u001b[0m                 \u001b[0mindexer\u001b[0m \u001b[1;33m=\u001b[0m \u001b[1;33m[\u001b[0m\u001b[0mindexer\u001b[0m\u001b[1;33m]\u001b[0m\u001b[1;33m\u001b[0m\u001b[1;33m\u001b[0m\u001b[0m\n",
      "\u001b[1;32mD:\\Program Files\\Anaconda3\\envs\\ds\\lib\\site-packages\\pandas\\core\\indexes\\base.py\u001b[0m in \u001b[0;36mget_loc\u001b[1;34m(self, key, method, tolerance)\u001b[0m\n\u001b[0;32m   3080\u001b[0m                 \u001b[1;32mreturn\u001b[0m \u001b[0mself\u001b[0m\u001b[1;33m.\u001b[0m\u001b[0m_engine\u001b[0m\u001b[1;33m.\u001b[0m\u001b[0mget_loc\u001b[0m\u001b[1;33m(\u001b[0m\u001b[0mcasted_key\u001b[0m\u001b[1;33m)\u001b[0m\u001b[1;33m\u001b[0m\u001b[1;33m\u001b[0m\u001b[0m\n\u001b[0;32m   3081\u001b[0m             \u001b[1;32mexcept\u001b[0m \u001b[0mKeyError\u001b[0m \u001b[1;32mas\u001b[0m \u001b[0merr\u001b[0m\u001b[1;33m:\u001b[0m\u001b[1;33m\u001b[0m\u001b[1;33m\u001b[0m\u001b[0m\n\u001b[1;32m-> 3082\u001b[1;33m                 \u001b[1;32mraise\u001b[0m \u001b[0mKeyError\u001b[0m\u001b[1;33m(\u001b[0m\u001b[0mkey\u001b[0m\u001b[1;33m)\u001b[0m \u001b[1;32mfrom\u001b[0m \u001b[0merr\u001b[0m\u001b[1;33m\u001b[0m\u001b[1;33m\u001b[0m\u001b[0m\n\u001b[0m\u001b[0;32m   3083\u001b[0m \u001b[1;33m\u001b[0m\u001b[0m\n\u001b[0;32m   3084\u001b[0m         \u001b[1;32mif\u001b[0m \u001b[0mtolerance\u001b[0m \u001b[1;32mis\u001b[0m \u001b[1;32mnot\u001b[0m \u001b[1;32mNone\u001b[0m\u001b[1;33m:\u001b[0m\u001b[1;33m\u001b[0m\u001b[1;33m\u001b[0m\u001b[0m\n",
      "\u001b[1;31mKeyError\u001b[0m: '장애등급명'"
     ]
    }
   ],
   "source": [
    "rates = []\n",
    "for i in range(0, 6):\n",
    "    rates.append(use_df[use_df['장애등급명']=='{}급'.format(i+1)])\n",
    "\n",
    "rates[1]"
   ]
  },
  {
   "cell_type": "code",
   "execution_count": 20,
   "id": "201736d2-e0a7-4f3e-873a-08d3023beac0",
   "metadata": {},
   "outputs": [
    {
     "name": "stdout",
     "output_type": "stream",
     "text": [
      "8523216\n",
      "14445902\n",
      "18619089\n",
      "16050726\n",
      "22626233\n",
      "27184014\n"
     ]
    }
   ],
   "source": [
    "sums_by_rate = []\n",
    "\n",
    "for i in range(0,6):\n",
    "    sums_by_rate.append(rates[i]['등록장애인수'].sum())\n",
    "    print(sums_by_rate[i])"
   ]
  },
  {
   "cell_type": "code",
   "execution_count": 21,
   "id": "bef0c3f7-0411-497a-b59d-eeebad045610",
   "metadata": {},
   "outputs": [
    {
     "name": "stderr",
     "output_type": "stream",
     "text": [
      "D:\\Program Files\\Anaconda3\\envs\\ds\\lib\\site-packages\\matplotlib\\backends\\backend_agg.py:238: RuntimeWarning: Glyph 51109 missing from current font.\n",
      "  font.set_text(s, 0.0, flags=flags)\n",
      "D:\\Program Files\\Anaconda3\\envs\\ds\\lib\\site-packages\\matplotlib\\backends\\backend_agg.py:238: RuntimeWarning: Glyph 50528 missing from current font.\n",
      "  font.set_text(s, 0.0, flags=flags)\n",
      "D:\\Program Files\\Anaconda3\\envs\\ds\\lib\\site-packages\\matplotlib\\backends\\backend_agg.py:238: RuntimeWarning: Glyph 46321 missing from current font.\n",
      "  font.set_text(s, 0.0, flags=flags)\n",
      "D:\\Program Files\\Anaconda3\\envs\\ds\\lib\\site-packages\\matplotlib\\backends\\backend_agg.py:238: RuntimeWarning: Glyph 44553 missing from current font.\n",
      "  font.set_text(s, 0.0, flags=flags)\n",
      "D:\\Program Files\\Anaconda3\\envs\\ds\\lib\\site-packages\\matplotlib\\backends\\backend_agg.py:238: RuntimeWarning: Glyph 48324 missing from current font.\n",
      "  font.set_text(s, 0.0, flags=flags)\n",
      "D:\\Program Files\\Anaconda3\\envs\\ds\\lib\\site-packages\\matplotlib\\backends\\backend_agg.py:238: RuntimeWarning: Glyph 48708 missing from current font.\n",
      "  font.set_text(s, 0.0, flags=flags)\n",
      "D:\\Program Files\\Anaconda3\\envs\\ds\\lib\\site-packages\\matplotlib\\backends\\backend_agg.py:238: RuntimeWarning: Glyph 50984 missing from current font.\n",
      "  font.set_text(s, 0.0, flags=flags)\n",
      "findfont: Font family ['NanumBarunGothic'] not found. Falling back to DejaVu Sans.\n"
     ]
    },
    {
     "name": "stdout",
     "output_type": "stream",
     "text": [
      "Saving figure 장애인 등급별 비율\n"
     ]
    },
    {
     "name": "stderr",
     "output_type": "stream",
     "text": [
      "D:\\Program Files\\Anaconda3\\envs\\ds\\lib\\site-packages\\matplotlib\\backends\\backend_agg.py:201: RuntimeWarning: Glyph 46321 missing from current font.\n",
      "  font.set_text(s, 0, flags=flags)\n",
      "D:\\Program Files\\Anaconda3\\envs\\ds\\lib\\site-packages\\matplotlib\\backends\\backend_agg.py:201: RuntimeWarning: Glyph 44553 missing from current font.\n",
      "  font.set_text(s, 0, flags=flags)\n",
      "D:\\Program Files\\Anaconda3\\envs\\ds\\lib\\site-packages\\matplotlib\\backends\\backend_agg.py:201: RuntimeWarning: Glyph 51109 missing from current font.\n",
      "  font.set_text(s, 0, flags=flags)\n",
      "D:\\Program Files\\Anaconda3\\envs\\ds\\lib\\site-packages\\matplotlib\\backends\\backend_agg.py:201: RuntimeWarning: Glyph 50528 missing from current font.\n",
      "  font.set_text(s, 0, flags=flags)\n",
      "D:\\Program Files\\Anaconda3\\envs\\ds\\lib\\site-packages\\matplotlib\\backends\\backend_agg.py:201: RuntimeWarning: Glyph 48324 missing from current font.\n",
      "  font.set_text(s, 0, flags=flags)\n",
      "D:\\Program Files\\Anaconda3\\envs\\ds\\lib\\site-packages\\matplotlib\\backends\\backend_agg.py:201: RuntimeWarning: Glyph 48708 missing from current font.\n",
      "  font.set_text(s, 0, flags=flags)\n",
      "D:\\Program Files\\Anaconda3\\envs\\ds\\lib\\site-packages\\matplotlib\\backends\\backend_agg.py:201: RuntimeWarning: Glyph 50984 missing from current font.\n",
      "  font.set_text(s, 0, flags=flags)\n"
     ]
    },
    {
     "data": {
      "image/png": "[encoded data removed]",
      "text/plain": [
       "<Figure size 432x288 with 1 Axes>"
      ]
     },
     "metadata": {},
     "output_type": "display_data"
    }
   ],
   "source": [
    "rating = ['1등급', '2등급', '3등급', '4등급', '5등급', '6등급']\n",
    "\n",
    "plt.pie(sums_by_rate, labels=rating, autopct='%.1f%%', colors=cmap(rescale(y)))\n",
    "plt.title('2020년 장애 등급별 비율')\n",
    "\n",
    "save_fig('장애인 등급별 비율')"
   ]
  },
  {
   "cell_type": "markdown",
   "id": "1d607091-1dca-4892-a4d3-723ed355d52c",
   "metadata": {},
   "source": [
    "### 장애유형별 등록자수 "
   ]
  },
  {
   "cell_type": "code",
   "execution_count": 22,
   "id": "8b5f93e2-b56b-47df-8aad-9c2d0512d54c",
   "metadata": {},
   "outputs": [
    {
     "data": {
      "text/plain": [
       "array(['지체', '시각', '청각', '지적', '뇌병변', '자폐성', '정신', '신장', '호흡기', '간', '언어',\n",
       "       '심장', '뇌전증', '안면', '장루.요루', nan], dtype=object)"
      ]
     },
     "execution_count": 22,
     "metadata": {},
     "output_type": "execute_result"
    }
   ],
   "source": [
    "df['장애유형명'].unique()"
   ]
  },
  {
   "cell_type": "code",
   "execution_count": 23,
   "id": "7c75a136-326f-4db6-9e24-766455ed8439",
   "metadata": {},
   "outputs": [
    {
     "data": {
      "text/plain": [
       "55183863"
      ]
     },
     "execution_count": 23,
     "metadata": {},
     "output_type": "execute_result"
    }
   ],
   "source": [
    "df[df['장애유형명']=='지체']['등록장애인수'].sum()"
   ]
  },
  {
   "cell_type": "code",
   "execution_count": 64,
   "id": "499597a7-5f31-45fc-bef7-4ec8390d1f42",
   "metadata": {},
   "outputs": [
    {
     "data": {
      "text/plain": [
       "[55183863,\n",
       " 10866560,\n",
       " 11151778,\n",
       " 8119476,\n",
       " 10783171,\n",
       " 899314,\n",
       " 4224291,\n",
       " 3169409,\n",
       " 521760,\n",
       " 440908,\n",
       " 806141,\n",
       " 258953,\n",
       " 303151,\n",
       " 115426,\n",
       " 604979]"
      ]
     },
     "execution_count": 64,
     "metadata": {},
     "output_type": "execute_result"
    }
   ],
   "source": [
    "types = ['지체', '시각', '청각', '지적', '뇌병변', '자폐성', '정신', '신장', '호흡기', '간', '언어',\n",
    "       '심장', '뇌전증', '안면', '장루.요루']\n",
    "\n",
    "sum_per_type = []\n",
    "\n",
    "for i in range(0, len(types)):\n",
    "    sum_per_type.append(df[df['장애유형명']==types[i]]['등록장애인수'].sum())\n",
    "    \n",
    "sum_per_type"
   ]
  },
  {
   "cell_type": "code",
   "execution_count": 25,
   "id": "f76781e1-039c-4ca0-95f7-d1d38d7fac9c",
   "metadata": {},
   "outputs": [
    {
     "name": "stdout",
     "output_type": "stream",
     "text": [
      "[55183863, 11151778, 10866560, 10783171, 8119476, 4224291, 3169409, 899314, 806141, 604979, 521760, 440908, 303151, 258953, 115426]\n",
      "7120041\n"
     ]
    }
   ],
   "source": [
    "sum_per_type.sort(reverse=True)\n",
    "copyS = sum_per_type\n",
    "print(copyS)\n",
    "ectSum = sum(copyS[6:])\n",
    "print(ectSum)"
   ]
  },
  {
   "cell_type": "code",
   "execution_count": 26,
   "id": "8d5afa0a-45c0-4d41-b10b-bbec6d84ce9b",
   "metadata": {
    "scrolled": false
   },
   "outputs": [
    {
     "name": "stdout",
     "output_type": "stream",
     "text": [
      "Saving figure 장애 유형별 등록장애인 수 비율\n"
     ]
    },
    {
     "name": "stderr",
     "output_type": "stream",
     "text": [
      "D:\\Program Files\\Anaconda3\\envs\\ds\\lib\\site-packages\\matplotlib\\backends\\backend_agg.py:238: RuntimeWarning: Glyph 50976 missing from current font.\n",
      "  font.set_text(s, 0.0, flags=flags)\n",
      "D:\\Program Files\\Anaconda3\\envs\\ds\\lib\\site-packages\\matplotlib\\backends\\backend_agg.py:238: RuntimeWarning: Glyph 54805 missing from current font.\n",
      "  font.set_text(s, 0.0, flags=flags)\n",
      "D:\\Program Files\\Anaconda3\\envs\\ds\\lib\\site-packages\\matplotlib\\backends\\backend_agg.py:238: RuntimeWarning: Glyph 47197 missing from current font.\n",
      "  font.set_text(s, 0.0, flags=flags)\n",
      "D:\\Program Files\\Anaconda3\\envs\\ds\\lib\\site-packages\\matplotlib\\backends\\backend_agg.py:238: RuntimeWarning: Glyph 51064 missing from current font.\n",
      "  font.set_text(s, 0.0, flags=flags)\n",
      "D:\\Program Files\\Anaconda3\\envs\\ds\\lib\\site-packages\\matplotlib\\backends\\backend_agg.py:238: RuntimeWarning: Glyph 49688 missing from current font.\n",
      "  font.set_text(s, 0.0, flags=flags)\n",
      "D:\\Program Files\\Anaconda3\\envs\\ds\\lib\\site-packages\\matplotlib\\backends\\backend_agg.py:238: RuntimeWarning: Glyph 51648 missing from current font.\n",
      "  font.set_text(s, 0.0, flags=flags)\n",
      "D:\\Program Files\\Anaconda3\\envs\\ds\\lib\\site-packages\\matplotlib\\backends\\backend_agg.py:238: RuntimeWarning: Glyph 52404 missing from current font.\n",
      "  font.set_text(s, 0.0, flags=flags)\n",
      "D:\\Program Files\\Anaconda3\\envs\\ds\\lib\\site-packages\\matplotlib\\backends\\backend_agg.py:238: RuntimeWarning: Glyph 52397 missing from current font.\n",
      "  font.set_text(s, 0.0, flags=flags)\n",
      "D:\\Program Files\\Anaconda3\\envs\\ds\\lib\\site-packages\\matplotlib\\backends\\backend_agg.py:238: RuntimeWarning: Glyph 44033 missing from current font.\n",
      "  font.set_text(s, 0.0, flags=flags)\n",
      "D:\\Program Files\\Anaconda3\\envs\\ds\\lib\\site-packages\\matplotlib\\backends\\backend_agg.py:238: RuntimeWarning: Glyph 49884 missing from current font.\n",
      "  font.set_text(s, 0.0, flags=flags)\n",
      "D:\\Program Files\\Anaconda3\\envs\\ds\\lib\\site-packages\\matplotlib\\backends\\backend_agg.py:238: RuntimeWarning: Glyph 45516 missing from current font.\n",
      "  font.set_text(s, 0.0, flags=flags)\n",
      "D:\\Program Files\\Anaconda3\\envs\\ds\\lib\\site-packages\\matplotlib\\backends\\backend_agg.py:238: RuntimeWarning: Glyph 48337 missing from current font.\n",
      "  font.set_text(s, 0.0, flags=flags)\n",
      "D:\\Program Files\\Anaconda3\\envs\\ds\\lib\\site-packages\\matplotlib\\backends\\backend_agg.py:238: RuntimeWarning: Glyph 48320 missing from current font.\n",
      "  font.set_text(s, 0.0, flags=flags)\n",
      "D:\\Program Files\\Anaconda3\\envs\\ds\\lib\\site-packages\\matplotlib\\backends\\backend_agg.py:238: RuntimeWarning: Glyph 51201 missing from current font.\n",
      "  font.set_text(s, 0.0, flags=flags)\n",
      "D:\\Program Files\\Anaconda3\\envs\\ds\\lib\\site-packages\\matplotlib\\backends\\backend_agg.py:238: RuntimeWarning: Glyph 51221 missing from current font.\n",
      "  font.set_text(s, 0.0, flags=flags)\n",
      "D:\\Program Files\\Anaconda3\\envs\\ds\\lib\\site-packages\\matplotlib\\backends\\backend_agg.py:238: RuntimeWarning: Glyph 49888 missing from current font.\n",
      "  font.set_text(s, 0.0, flags=flags)\n",
      "D:\\Program Files\\Anaconda3\\envs\\ds\\lib\\site-packages\\matplotlib\\backends\\backend_agg.py:238: RuntimeWarning: Glyph 44592 missing from current font.\n",
      "  font.set_text(s, 0.0, flags=flags)\n",
      "D:\\Program Files\\Anaconda3\\envs\\ds\\lib\\site-packages\\matplotlib\\backends\\backend_agg.py:238: RuntimeWarning: Glyph 53440 missing from current font.\n",
      "  font.set_text(s, 0.0, flags=flags)\n",
      "D:\\Program Files\\Anaconda3\\envs\\ds\\lib\\site-packages\\matplotlib\\backends\\backend_agg.py:201: RuntimeWarning: Glyph 51648 missing from current font.\n",
      "  font.set_text(s, 0, flags=flags)\n",
      "D:\\Program Files\\Anaconda3\\envs\\ds\\lib\\site-packages\\matplotlib\\backends\\backend_agg.py:201: RuntimeWarning: Glyph 52404 missing from current font.\n",
      "  font.set_text(s, 0, flags=flags)\n",
      "D:\\Program Files\\Anaconda3\\envs\\ds\\lib\\site-packages\\matplotlib\\backends\\backend_agg.py:201: RuntimeWarning: Glyph 52397 missing from current font.\n",
      "  font.set_text(s, 0, flags=flags)\n",
      "D:\\Program Files\\Anaconda3\\envs\\ds\\lib\\site-packages\\matplotlib\\backends\\backend_agg.py:201: RuntimeWarning: Glyph 44033 missing from current font.\n",
      "  font.set_text(s, 0, flags=flags)\n",
      "D:\\Program Files\\Anaconda3\\envs\\ds\\lib\\site-packages\\matplotlib\\backends\\backend_agg.py:201: RuntimeWarning: Glyph 49884 missing from current font.\n",
      "  font.set_text(s, 0, flags=flags)\n",
      "D:\\Program Files\\Anaconda3\\envs\\ds\\lib\\site-packages\\matplotlib\\backends\\backend_agg.py:201: RuntimeWarning: Glyph 45516 missing from current font.\n",
      "  font.set_text(s, 0, flags=flags)\n",
      "D:\\Program Files\\Anaconda3\\envs\\ds\\lib\\site-packages\\matplotlib\\backends\\backend_agg.py:201: RuntimeWarning: Glyph 48337 missing from current font.\n",
      "  font.set_text(s, 0, flags=flags)\n",
      "D:\\Program Files\\Anaconda3\\envs\\ds\\lib\\site-packages\\matplotlib\\backends\\backend_agg.py:201: RuntimeWarning: Glyph 48320 missing from current font.\n",
      "  font.set_text(s, 0, flags=flags)\n",
      "D:\\Program Files\\Anaconda3\\envs\\ds\\lib\\site-packages\\matplotlib\\backends\\backend_agg.py:201: RuntimeWarning: Glyph 51201 missing from current font.\n",
      "  font.set_text(s, 0, flags=flags)\n",
      "D:\\Program Files\\Anaconda3\\envs\\ds\\lib\\site-packages\\matplotlib\\backends\\backend_agg.py:201: RuntimeWarning: Glyph 51221 missing from current font.\n",
      "  font.set_text(s, 0, flags=flags)\n",
      "D:\\Program Files\\Anaconda3\\envs\\ds\\lib\\site-packages\\matplotlib\\backends\\backend_agg.py:201: RuntimeWarning: Glyph 49888 missing from current font.\n",
      "  font.set_text(s, 0, flags=flags)\n",
      "D:\\Program Files\\Anaconda3\\envs\\ds\\lib\\site-packages\\matplotlib\\backends\\backend_agg.py:201: RuntimeWarning: Glyph 44592 missing from current font.\n",
      "  font.set_text(s, 0, flags=flags)\n",
      "D:\\Program Files\\Anaconda3\\envs\\ds\\lib\\site-packages\\matplotlib\\backends\\backend_agg.py:201: RuntimeWarning: Glyph 53440 missing from current font.\n",
      "  font.set_text(s, 0, flags=flags)\n",
      "D:\\Program Files\\Anaconda3\\envs\\ds\\lib\\site-packages\\matplotlib\\backends\\backend_agg.py:201: RuntimeWarning: Glyph 50976 missing from current font.\n",
      "  font.set_text(s, 0, flags=flags)\n",
      "D:\\Program Files\\Anaconda3\\envs\\ds\\lib\\site-packages\\matplotlib\\backends\\backend_agg.py:201: RuntimeWarning: Glyph 54805 missing from current font.\n",
      "  font.set_text(s, 0, flags=flags)\n",
      "D:\\Program Files\\Anaconda3\\envs\\ds\\lib\\site-packages\\matplotlib\\backends\\backend_agg.py:201: RuntimeWarning: Glyph 47197 missing from current font.\n",
      "  font.set_text(s, 0, flags=flags)\n",
      "D:\\Program Files\\Anaconda3\\envs\\ds\\lib\\site-packages\\matplotlib\\backends\\backend_agg.py:201: RuntimeWarning: Glyph 51064 missing from current font.\n",
      "  font.set_text(s, 0, flags=flags)\n",
      "D:\\Program Files\\Anaconda3\\envs\\ds\\lib\\site-packages\\matplotlib\\backends\\backend_agg.py:201: RuntimeWarning: Glyph 49688 missing from current font.\n",
      "  font.set_text(s, 0, flags=flags)\n"
     ]
    },
    {
     "data": {
      "image/png": "[encoded data removed]",
      "text/plain": [
       "<Figure size 576x576 with 1 Axes>"
      ]
     },
     "metadata": {},
     "output_type": "display_data"
    }
   ],
   "source": [
    "ltypes = ['지체','청각','시각','뇌병변','지적','정신', '기타']\n",
    "\n",
    "vals = [55183863, 11151778, 10866560, 10783171, 8119476, 4224291, 7120041]\n",
    "\n",
    "plt.rcParams['figure.figsize'] = (8,8)\n",
    "\n",
    "sum_per_type.sort(reverse=True)\n",
    "lspt = sum_per_type[:7]\n",
    "\n",
    "plt.pie(vals, labels=ltypes, autopct='%.1f%%',colors=cmap(rescale(y)))\n",
    "plt.title('장애 유형별 등록장애인 수 비율')\n",
    "\n",
    "save_fig('장애 유형별 등록장애인 수 비율')"
   ]
  },
  {
   "cell_type": "code",
   "execution_count": 27,
   "id": "44211a7b-4cf9-4e76-8060-38d74b1912ad",
   "metadata": {
    "scrolled": false
   },
   "outputs": [
    {
     "name": "stdout",
     "output_type": "stream",
     "text": [
      "Saving figure 장애 유형별 등록장애인 수\n"
     ]
    },
    {
     "name": "stderr",
     "output_type": "stream",
     "text": [
      "D:\\Program Files\\Anaconda3\\envs\\ds\\lib\\site-packages\\matplotlib\\backends\\backend_agg.py:238: RuntimeWarning: Glyph 51088 missing from current font.\n",
      "  font.set_text(s, 0.0, flags=flags)\n",
      "D:\\Program Files\\Anaconda3\\envs\\ds\\lib\\site-packages\\matplotlib\\backends\\backend_agg.py:238: RuntimeWarning: Glyph 54224 missing from current font.\n",
      "  font.set_text(s, 0.0, flags=flags)\n",
      "D:\\Program Files\\Anaconda3\\envs\\ds\\lib\\site-packages\\matplotlib\\backends\\backend_agg.py:238: RuntimeWarning: Glyph 49457 missing from current font.\n",
      "  font.set_text(s, 0.0, flags=flags)\n",
      "D:\\Program Files\\Anaconda3\\envs\\ds\\lib\\site-packages\\matplotlib\\backends\\backend_agg.py:238: RuntimeWarning: Glyph 54840 missing from current font.\n",
      "  font.set_text(s, 0.0, flags=flags)\n",
      "D:\\Program Files\\Anaconda3\\envs\\ds\\lib\\site-packages\\matplotlib\\backends\\backend_agg.py:238: RuntimeWarning: Glyph 55137 missing from current font.\n",
      "  font.set_text(s, 0.0, flags=flags)\n",
      "D:\\Program Files\\Anaconda3\\envs\\ds\\lib\\site-packages\\matplotlib\\backends\\backend_agg.py:238: RuntimeWarning: Glyph 44036 missing from current font.\n",
      "  font.set_text(s, 0.0, flags=flags)\n",
      "D:\\Program Files\\Anaconda3\\envs\\ds\\lib\\site-packages\\matplotlib\\backends\\backend_agg.py:238: RuntimeWarning: Glyph 50616 missing from current font.\n",
      "  font.set_text(s, 0.0, flags=flags)\n",
      "D:\\Program Files\\Anaconda3\\envs\\ds\\lib\\site-packages\\matplotlib\\backends\\backend_agg.py:238: RuntimeWarning: Glyph 50612 missing from current font.\n",
      "  font.set_text(s, 0.0, flags=flags)\n",
      "D:\\Program Files\\Anaconda3\\envs\\ds\\lib\\site-packages\\matplotlib\\backends\\backend_agg.py:238: RuntimeWarning: Glyph 49900 missing from current font.\n",
      "  font.set_text(s, 0.0, flags=flags)\n",
      "D:\\Program Files\\Anaconda3\\envs\\ds\\lib\\site-packages\\matplotlib\\backends\\backend_agg.py:238: RuntimeWarning: Glyph 51204 missing from current font.\n",
      "  font.set_text(s, 0.0, flags=flags)\n",
      "D:\\Program Files\\Anaconda3\\envs\\ds\\lib\\site-packages\\matplotlib\\backends\\backend_agg.py:238: RuntimeWarning: Glyph 51613 missing from current font.\n",
      "  font.set_text(s, 0.0, flags=flags)\n",
      "D:\\Program Files\\Anaconda3\\envs\\ds\\lib\\site-packages\\matplotlib\\backends\\backend_agg.py:238: RuntimeWarning: Glyph 50504 missing from current font.\n",
      "  font.set_text(s, 0.0, flags=flags)\n",
      "D:\\Program Files\\Anaconda3\\envs\\ds\\lib\\site-packages\\matplotlib\\backends\\backend_agg.py:238: RuntimeWarning: Glyph 47732 missing from current font.\n",
      "  font.set_text(s, 0.0, flags=flags)\n",
      "D:\\Program Files\\Anaconda3\\envs\\ds\\lib\\site-packages\\matplotlib\\backends\\backend_agg.py:238: RuntimeWarning: Glyph 47336 missing from current font.\n",
      "  font.set_text(s, 0.0, flags=flags)\n",
      "D:\\Program Files\\Anaconda3\\envs\\ds\\lib\\site-packages\\matplotlib\\backends\\backend_agg.py:238: RuntimeWarning: Glyph 50836 missing from current font.\n",
      "  font.set_text(s, 0.0, flags=flags)\n",
      "D:\\Program Files\\Anaconda3\\envs\\ds\\lib\\site-packages\\matplotlib\\backends\\backend_agg.py:201: RuntimeWarning: Glyph 51088 missing from current font.\n",
      "  font.set_text(s, 0, flags=flags)\n",
      "D:\\Program Files\\Anaconda3\\envs\\ds\\lib\\site-packages\\matplotlib\\backends\\backend_agg.py:201: RuntimeWarning: Glyph 54224 missing from current font.\n",
      "  font.set_text(s, 0, flags=flags)\n",
      "D:\\Program Files\\Anaconda3\\envs\\ds\\lib\\site-packages\\matplotlib\\backends\\backend_agg.py:201: RuntimeWarning: Glyph 49457 missing from current font.\n",
      "  font.set_text(s, 0, flags=flags)\n",
      "D:\\Program Files\\Anaconda3\\envs\\ds\\lib\\site-packages\\matplotlib\\backends\\backend_agg.py:201: RuntimeWarning: Glyph 54840 missing from current font.\n",
      "  font.set_text(s, 0, flags=flags)\n",
      "D:\\Program Files\\Anaconda3\\envs\\ds\\lib\\site-packages\\matplotlib\\backends\\backend_agg.py:201: RuntimeWarning: Glyph 55137 missing from current font.\n",
      "  font.set_text(s, 0, flags=flags)\n",
      "D:\\Program Files\\Anaconda3\\envs\\ds\\lib\\site-packages\\matplotlib\\backends\\backend_agg.py:201: RuntimeWarning: Glyph 44036 missing from current font.\n",
      "  font.set_text(s, 0, flags=flags)\n",
      "D:\\Program Files\\Anaconda3\\envs\\ds\\lib\\site-packages\\matplotlib\\backends\\backend_agg.py:201: RuntimeWarning: Glyph 50616 missing from current font.\n",
      "  font.set_text(s, 0, flags=flags)\n",
      "D:\\Program Files\\Anaconda3\\envs\\ds\\lib\\site-packages\\matplotlib\\backends\\backend_agg.py:201: RuntimeWarning: Glyph 50612 missing from current font.\n",
      "  font.set_text(s, 0, flags=flags)\n",
      "D:\\Program Files\\Anaconda3\\envs\\ds\\lib\\site-packages\\matplotlib\\backends\\backend_agg.py:201: RuntimeWarning: Glyph 49900 missing from current font.\n",
      "  font.set_text(s, 0, flags=flags)\n",
      "D:\\Program Files\\Anaconda3\\envs\\ds\\lib\\site-packages\\matplotlib\\backends\\backend_agg.py:201: RuntimeWarning: Glyph 51204 missing from current font.\n",
      "  font.set_text(s, 0, flags=flags)\n",
      "D:\\Program Files\\Anaconda3\\envs\\ds\\lib\\site-packages\\matplotlib\\backends\\backend_agg.py:201: RuntimeWarning: Glyph 51613 missing from current font.\n",
      "  font.set_text(s, 0, flags=flags)\n",
      "D:\\Program Files\\Anaconda3\\envs\\ds\\lib\\site-packages\\matplotlib\\backends\\backend_agg.py:201: RuntimeWarning: Glyph 50504 missing from current font.\n",
      "  font.set_text(s, 0, flags=flags)\n",
      "D:\\Program Files\\Anaconda3\\envs\\ds\\lib\\site-packages\\matplotlib\\backends\\backend_agg.py:201: RuntimeWarning: Glyph 47732 missing from current font.\n",
      "  font.set_text(s, 0, flags=flags)\n",
      "D:\\Program Files\\Anaconda3\\envs\\ds\\lib\\site-packages\\matplotlib\\backends\\backend_agg.py:201: RuntimeWarning: Glyph 47336 missing from current font.\n",
      "  font.set_text(s, 0, flags=flags)\n",
      "D:\\Program Files\\Anaconda3\\envs\\ds\\lib\\site-packages\\matplotlib\\backends\\backend_agg.py:201: RuntimeWarning: Glyph 50836 missing from current font.\n",
      "  font.set_text(s, 0, flags=flags)\n"
     ]
    },
    {
     "data": {
      "image/png": "[encoded data removed]",
      "text/plain": [
       "<Figure size 720x432 with 1 Axes>"
      ]
     },
     "metadata": {
      "needs_background": "light"
     },
     "output_type": "display_data"
    }
   ],
   "source": [
    "plt.rcParams['figure.figsize'] = (10,6)\n",
    "plt.ticklabel_format(style = 'plain')\n",
    "\n",
    "y = np.array([1,2,3,4,5,6,7,8,9])\n",
    "\n",
    "plt.barh(types, sum_per_type, color=cmap(rescale(y)))\n",
    "\n",
    "plt.title('장애 유형별 등록장애인 수')\n",
    "plt.xlabel('등록장애인 수')\n",
    "plt.ylabel('장애 유형')\n",
    "\n",
    "save_fig('장애 유형별 등록장애인 수')\n",
    "\n",
    "plt.show()"
   ]
  },
  {
   "cell_type": "code",
   "execution_count": 44,
   "id": "4644b795",
   "metadata": {},
   "outputs": [],
   "source": [
    "import matplotlib.font_manager as fm"
   ]
  },
  {
   "cell_type": "code",
   "execution_count": 43,
   "id": "c1e6f04f",
   "metadata": {
    "scrolled": true
   },
   "outputs": [
    {
     "data": {
      "text/html": [
       "<div>\n",
       "<style scoped>\n",
       "    .dataframe tbody tr th:only-of-type {\n",
       "        vertical-align: middle;\n",
       "    }\n",
       "\n",
       "    .dataframe tbody tr th {\n",
       "        vertical-align: top;\n",
       "    }\n",
       "\n",
       "    .dataframe thead th {\n",
       "        text-align: right;\n",
       "    }\n",
       "</style>\n",
       "<table border=\"1\" class=\"dataframe\">\n",
       "  <thead>\n",
       "    <tr style=\"text-align: right;\">\n",
       "      <th></th>\n",
       "      <th>통계년월</th>\n",
       "      <th>통계시도명</th>\n",
       "      <th>통계시군구명</th>\n",
       "      <th>장애등급명</th>\n",
       "      <th>장애유형명</th>\n",
       "      <th>등록장애인수</th>\n",
       "      <th>장애등급</th>\n",
       "      <th>장애유형</th>\n",
       "      <th>장애정도</th>\n",
       "    </tr>\n",
       "  </thead>\n",
       "  <tbody>\n",
       "    <tr>\n",
       "      <th>0</th>\n",
       "      <td>201401</td>\n",
       "      <td>서울특별시</td>\n",
       "      <td>종로구</td>\n",
       "      <td>1급</td>\n",
       "      <td>지체</td>\n",
       "      <td>58</td>\n",
       "      <td>NaN</td>\n",
       "      <td>NaN</td>\n",
       "      <td>NaN</td>\n",
       "    </tr>\n",
       "    <tr>\n",
       "      <th>1</th>\n",
       "      <td>201401</td>\n",
       "      <td>서울특별시</td>\n",
       "      <td>종로구</td>\n",
       "      <td>1급</td>\n",
       "      <td>시각</td>\n",
       "      <td>189</td>\n",
       "      <td>NaN</td>\n",
       "      <td>NaN</td>\n",
       "      <td>NaN</td>\n",
       "    </tr>\n",
       "    <tr>\n",
       "      <th>2</th>\n",
       "      <td>201401</td>\n",
       "      <td>서울특별시</td>\n",
       "      <td>종로구</td>\n",
       "      <td>1급</td>\n",
       "      <td>청각</td>\n",
       "      <td>29</td>\n",
       "      <td>NaN</td>\n",
       "      <td>NaN</td>\n",
       "      <td>NaN</td>\n",
       "    </tr>\n",
       "    <tr>\n",
       "      <th>3</th>\n",
       "      <td>201401</td>\n",
       "      <td>서울특별시</td>\n",
       "      <td>종로구</td>\n",
       "      <td>1급</td>\n",
       "      <td>지적</td>\n",
       "      <td>86</td>\n",
       "      <td>NaN</td>\n",
       "      <td>NaN</td>\n",
       "      <td>NaN</td>\n",
       "    </tr>\n",
       "    <tr>\n",
       "      <th>4</th>\n",
       "      <td>201401</td>\n",
       "      <td>서울특별시</td>\n",
       "      <td>종로구</td>\n",
       "      <td>1급</td>\n",
       "      <td>뇌병변</td>\n",
       "      <td>154</td>\n",
       "      <td>NaN</td>\n",
       "      <td>NaN</td>\n",
       "      <td>NaN</td>\n",
       "    </tr>\n",
       "    <tr>\n",
       "      <th>...</th>\n",
       "      <td>...</td>\n",
       "      <td>...</td>\n",
       "      <td>...</td>\n",
       "      <td>...</td>\n",
       "      <td>...</td>\n",
       "      <td>...</td>\n",
       "      <td>...</td>\n",
       "      <td>...</td>\n",
       "      <td>...</td>\n",
       "    </tr>\n",
       "    <tr>\n",
       "      <th>1039444</th>\n",
       "      <td>202104</td>\n",
       "      <td>제주특별자치도</td>\n",
       "      <td>서귀포시</td>\n",
       "      <td>NaN</td>\n",
       "      <td>NaN</td>\n",
       "      <td>71</td>\n",
       "      <td>NaN</td>\n",
       "      <td>장루.요루</td>\n",
       "      <td>심하지 않은 장애</td>\n",
       "    </tr>\n",
       "    <tr>\n",
       "      <th>1039445</th>\n",
       "      <td>202104</td>\n",
       "      <td>제주특별자치도</td>\n",
       "      <td>서귀포시</td>\n",
       "      <td>NaN</td>\n",
       "      <td>NaN</td>\n",
       "      <td>32</td>\n",
       "      <td>NaN</td>\n",
       "      <td>뇌전증</td>\n",
       "      <td>심하지 않은 장애</td>\n",
       "    </tr>\n",
       "    <tr>\n",
       "      <th>1039446</th>\n",
       "      <td>202104</td>\n",
       "      <td>제주특별자치도</td>\n",
       "      <td>서귀포시</td>\n",
       "      <td>NaN</td>\n",
       "      <td>NaN</td>\n",
       "      <td>419</td>\n",
       "      <td>NaN</td>\n",
       "      <td>청각</td>\n",
       "      <td>심한 장애</td>\n",
       "    </tr>\n",
       "    <tr>\n",
       "      <th>1039447</th>\n",
       "      <td>202104</td>\n",
       "      <td>제주특별자치도</td>\n",
       "      <td>서귀포시</td>\n",
       "      <td>NaN</td>\n",
       "      <td>NaN</td>\n",
       "      <td>61</td>\n",
       "      <td>NaN</td>\n",
       "      <td>언어</td>\n",
       "      <td>심한 장애</td>\n",
       "    </tr>\n",
       "    <tr>\n",
       "      <th>1039448</th>\n",
       "      <td>202104</td>\n",
       "      <td>제주특별자치도</td>\n",
       "      <td>서귀포시</td>\n",
       "      <td>NaN</td>\n",
       "      <td>NaN</td>\n",
       "      <td>1026</td>\n",
       "      <td>NaN</td>\n",
       "      <td>지적</td>\n",
       "      <td>심한 장애</td>\n",
       "    </tr>\n",
       "  </tbody>\n",
       "</table>\n",
       "<p>1039449 rows × 9 columns</p>\n",
       "</div>"
      ],
      "text/plain": [
       "           통계년월    통계시도명 통계시군구명 장애등급명 장애유형명  등록장애인수 장애등급   장애유형       장애정도\n",
       "0        201401    서울특별시    종로구    1급    지체      58  NaN    NaN        NaN\n",
       "1        201401    서울특별시    종로구    1급    시각     189  NaN    NaN        NaN\n",
       "2        201401    서울특별시    종로구    1급    청각      29  NaN    NaN        NaN\n",
       "3        201401    서울특별시    종로구    1급    지적      86  NaN    NaN        NaN\n",
       "4        201401    서울특별시    종로구    1급   뇌병변     154  NaN    NaN        NaN\n",
       "...         ...      ...    ...   ...   ...     ...  ...    ...        ...\n",
       "1039444  202104  제주특별자치도   서귀포시   NaN   NaN      71  NaN  장루.요루  심하지 않은 장애\n",
       "1039445  202104  제주특별자치도   서귀포시   NaN   NaN      32  NaN    뇌전증  심하지 않은 장애\n",
       "1039446  202104  제주특별자치도   서귀포시   NaN   NaN     419  NaN     청각      심한 장애\n",
       "1039447  202104  제주특별자치도   서귀포시   NaN   NaN      61  NaN     언어      심한 장애\n",
       "1039448  202104  제주특별자치도   서귀포시   NaN   NaN    1026  NaN     지적      심한 장애\n",
       "\n",
       "[1039449 rows x 9 columns]"
      ]
     },
     "execution_count": 43,
     "metadata": {},
     "output_type": "execute_result"
    }
   ],
   "source": [
    "df"
   ]
  },
  {
   "cell_type": "markdown",
   "id": "8d5b401e-6a24-4e06-bd59-27bbf10d94c7",
   "metadata": {},
   "source": [
    "### 시도별 등록자수"
   ]
  },
  {
   "cell_type": "code",
   "execution_count": 28,
   "id": "835d0778-c4c7-4033-916e-18a5e55e1f47",
   "metadata": {},
   "outputs": [
    {
     "data": {
      "text/plain": [
       "17"
      ]
     },
     "execution_count": 28,
     "metadata": {},
     "output_type": "execute_result"
    }
   ],
   "source": [
    "len(df['통계시도명'].unique())"
   ]
  },
  {
   "cell_type": "code",
   "execution_count": 29,
   "id": "7175adc9-acd6-417c-ac23-806a8be0d9c5",
   "metadata": {
    "tags": []
   },
   "outputs": [],
   "source": [
    "# plt.rcParams['figure.figsize'] = (10, 5)\n",
    "# plt.style.use('tableau-colorblind10')\n",
    "\n",
    "# sns.countplot(df['통계시도명'], palette='RdPu')\n",
    "# plt.title('시도별 등장 빈도수')\n",
    "# plt.xticks(rotation=90)\n",
    "\n",
    "# save_fig('시도별 등장 빈도수')\n",
    "\n",
    "# plt.show()"
   ]
  },
  {
   "cell_type": "code",
   "execution_count": 30,
   "id": "4c6083a4-b8c7-46c6-80c2-2fac8b1606f7",
   "metadata": {
    "scrolled": true
   },
   "outputs": [
    {
     "data": {
      "text/plain": [
       "array(['서울특별시', '부산광역시', '대구광역시', '인천광역시', '광주광역시', '대전광역시', '울산광역시',\n",
       "       '세종특별자치시', '경기도', '강원도', '충청북도', '충청남도', '전라북도', '전라남도', '경상북도',\n",
       "       '경상남도', '제주특별자치도'], dtype=object)"
      ]
     },
     "execution_count": 30,
     "metadata": {},
     "output_type": "execute_result"
    }
   ],
   "source": [
    "df['통계시도명'].unique()"
   ]
  },
  {
   "cell_type": "code",
   "execution_count": 42,
   "id": "4393d8cf",
   "metadata": {},
   "outputs": [
    {
     "data": {
      "text/plain": [
       "898658"
      ]
     },
     "execution_count": 42,
     "metadata": {},
     "output_type": "execute_result"
    }
   ],
   "source": [
    "df[df['통계시도명']=='세종특별자치시']['등록장애인수'].sum()"
   ]
  },
  {
   "cell_type": "code",
   "execution_count": 54,
   "id": "cc391958-a1a3-4441-8f83-4e0ce943b742",
   "metadata": {
    "scrolled": true
   },
   "outputs": [
    {
     "data": {
      "text/plain": [
       "[4736077,\n",
       " 2111701,\n",
       " 1512168,\n",
       " 1746362,\n",
       " 841921,\n",
       " 876671,\n",
       " 613039,\n",
       " 145765,\n",
       " 6784906,\n",
       " 1218698,\n",
       " 1172324,\n",
       " 1608299,\n",
       " 1587462,\n",
       " 1696022,\n",
       " 2173705,\n",
       " 2260482,\n",
       " 437294]"
      ]
     },
     "execution_count": 54,
     "metadata": {},
     "output_type": "execute_result"
    }
   ],
   "source": [
    "city = ['서울특별시', '부산광역시', '대구광역시', '인천광역시', '광주광역시', '대전광역시', '울산광역시',\n",
    "       '세종특별자치시', '경기도', '강원도', '충청북도', '충청남도', '전라북도', '전라남도', '경상북도',\n",
    "       '경상남도', '제주특별자치도']\n",
    "\n",
    "sum_by_city = []\n",
    "\n",
    "use_df = dfs[-2]\n",
    "\n",
    "for i in range(0, len(city)):\n",
    "    sum_by_city.append(use_df[use_df['통계시도명']==city[i]]['등록장애인수'].sum())\n",
    "    \n",
    "sum_by_city"
   ]
  },
  {
   "cell_type": "code",
   "execution_count": 36,
   "id": "740f3d5f",
   "metadata": {},
   "outputs": [
    {
     "data": {
      "text/plain": [
       "[898658,\n",
       " 3057472,\n",
       " 4399403,\n",
       " 6079517,\n",
       " 6335861,\n",
       " 8404594,\n",
       " 8788416,\n",
       " 10568508,\n",
       " 11334527,\n",
       " 11545036,\n",
       " 12205989,\n",
       " 12499255,\n",
       " 15089954,\n",
       " 15262638,\n",
       " 16117449,\n",
       " 34689633,\n",
       " 46943448]"
      ]
     },
     "execution_count": 36,
     "metadata": {},
     "output_type": "execute_result"
    }
   ],
   "source": [
    "sum_by_city.sort()\n",
    "sum_by_city"
   ]
  },
  {
   "cell_type": "code",
   "execution_count": 55,
   "id": "83f3cbd9-57ac-4f9a-a5e8-3eab32fedd5d",
   "metadata": {},
   "outputs": [
    {
     "name": "stdout",
     "output_type": "stream",
     "text": [
      "Saving figure 2020, 시도별 등록장애인 수\n"
     ]
    },
    {
     "data": {
      "image/png": "[encoded data removed]",
      "text/plain": [
       "<Figure size 1440x576 with 1 Axes>"
      ]
     },
     "metadata": {
      "image/png": {
       "height": 566,
       "width": 1431
      },
      "needs_background": "light"
     },
     "output_type": "display_data"
    }
   ],
   "source": [
    "plt.rcParams['figure.figsize'] = (20,8)\n",
    "plt.ticklabel_format(style = 'plain')\n",
    "\n",
    "plt.bar(city, sum_by_city, color=cmap(rescale(y)))\n",
    "plt.title('2020년 시도별 등록장애인 수')\n",
    "plt.xlabel('통계시도명')\n",
    "plt.ylabel('2020년 등록장애인 수')\n",
    "plt.xticks(rotation = 90)\n",
    "\n",
    "save_fig('2020, 시도별 등록장애인 수')\n",
    "\n",
    "plt.show()"
   ]
  },
  {
   "cell_type": "code",
   "execution_count": 49,
   "id": "cf82258e-a6b3-4c8a-93fb-3c0a04e71a8d",
   "metadata": {},
   "outputs": [],
   "source": [
    "plt.rc('font', family='Malgun Gothic')\n",
    "\n",
    "%config InlineBackend.figure_format = 'retina'"
   ]
  }
 ],
 "metadata": {
  "kernelspec": {
   "display_name": "Python 3",
   "language": "python",
   "name": "python3"
  },
  "language_info": {
   "codemirror_mode": {
    "name": "ipython",
    "version": 3
   },
   "file_extension": ".py",
   "mimetype": "text/x-python",
   "name": "python",
   "nbconvert_exporter": "python",
   "pygments_lexer": "ipython3",
   "version": "3.8.8"
  }
 },
 "nbformat": 4,
 "nbformat_minor": 5
}
