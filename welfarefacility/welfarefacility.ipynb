{
 "cells": [
  {
   "cell_type": "code",
   "execution_count": 9,
   "id": "cebe14d6-de6a-4d56-84d9-74d95876e6a3",
   "metadata": {},
   "outputs": [],
   "source": [
    "# Import Library\n",
    "import pandas as pd\n",
    "import matplotlib.pyplot as plt"
   ]
  },
  {
   "cell_type": "code",
   "execution_count": 5,
   "id": "de24f922-2276-4328-ad79-3ed45cc2aa4b",
   "metadata": {},
   "outputs": [],
   "source": [
    "# Data Read\n",
    "data = pd.read_csv(\"../data/장애인복지시설현황.csv\")"
   ]
  },
  {
   "cell_type": "code",
   "execution_count": 6,
   "id": "b0c47403-f7cb-4fdf-905d-92a37a4c331f",
   "metadata": {},
   "outputs": [
    {
     "data": {
      "text/html": [
       "<div>\n",
       "<style scoped>\n",
       "    .dataframe tbody tr th:only-of-type {\n",
       "        vertical-align: middle;\n",
       "    }\n",
       "\n",
       "    .dataframe tbody tr th {\n",
       "        vertical-align: top;\n",
       "    }\n",
       "\n",
       "    .dataframe thead th {\n",
       "        text-align: right;\n",
       "    }\n",
       "</style>\n",
       "<table border=\"1\" class=\"dataframe\">\n",
       "  <thead>\n",
       "    <tr style=\"text-align: right;\">\n",
       "      <th></th>\n",
       "      <th>년도</th>\n",
       "      <th>거주시설</th>\n",
       "      <th>직업재활시설</th>\n",
       "      <th>지역사회재활시설</th>\n",
       "      <th>생산품판매시설</th>\n",
       "      <th>의료재활시설</th>\n",
       "    </tr>\n",
       "  </thead>\n",
       "  <tbody>\n",
       "    <tr>\n",
       "      <th>0</th>\n",
       "      <td>2016</td>\n",
       "      <td>1505</td>\n",
       "      <td>582</td>\n",
       "      <td>1303</td>\n",
       "      <td>17</td>\n",
       "      <td>20</td>\n",
       "    </tr>\n",
       "    <tr>\n",
       "      <th>1</th>\n",
       "      <td>2017</td>\n",
       "      <td>1517</td>\n",
       "      <td>625</td>\n",
       "      <td>1333</td>\n",
       "      <td>17</td>\n",
       "      <td>19</td>\n",
       "    </tr>\n",
       "    <tr>\n",
       "      <th>2</th>\n",
       "      <td>2018</td>\n",
       "      <td>1527</td>\n",
       "      <td>651</td>\n",
       "      <td>1373</td>\n",
       "      <td>17</td>\n",
       "      <td>19</td>\n",
       "    </tr>\n",
       "    <tr>\n",
       "      <th>3</th>\n",
       "      <td>2019</td>\n",
       "      <td>1557</td>\n",
       "      <td>683</td>\n",
       "      <td>1486</td>\n",
       "      <td>17</td>\n",
       "      <td>18</td>\n",
       "    </tr>\n",
       "  </tbody>\n",
       "</table>\n",
       "</div>"
      ],
      "text/plain": [
       "     년도  거주시설  직업재활시설  지역사회재활시설  생산품판매시설  의료재활시설\n",
       "0  2016  1505     582      1303       17      20\n",
       "1  2017  1517     625      1333       17      19\n",
       "2  2018  1527     651      1373       17      19\n",
       "3  2019  1557     683      1486       17      18"
      ]
     },
     "execution_count": 6,
     "metadata": {},
     "output_type": "execute_result"
    }
   ],
   "source": [
    "data.head()"
   ]
  },
  {
   "cell_type": "code",
   "execution_count": 30,
   "id": "f6cd17e0-224b-4ab4-bb29-cda0091c6443",
   "metadata": {},
   "outputs": [],
   "source": [
    "# 년도 컬럼 지우기\n",
    "data_drop = data.copy()\n",
    "data_sum = data_drop.drop('년도', axis=1)"
   ]
  },
  {
   "cell_type": "code",
   "execution_count": 31,
   "id": "ac25fef2-57dd-4f27-a97f-86d95c845e15",
   "metadata": {},
   "outputs": [
    {
     "data": {
      "text/html": [
       "<div>\n",
       "<style scoped>\n",
       "    .dataframe tbody tr th:only-of-type {\n",
       "        vertical-align: middle;\n",
       "    }\n",
       "\n",
       "    .dataframe tbody tr th {\n",
       "        vertical-align: top;\n",
       "    }\n",
       "\n",
       "    .dataframe thead th {\n",
       "        text-align: right;\n",
       "    }\n",
       "</style>\n",
       "<table border=\"1\" class=\"dataframe\">\n",
       "  <thead>\n",
       "    <tr style=\"text-align: right;\">\n",
       "      <th></th>\n",
       "      <th>거주시설</th>\n",
       "      <th>직업재활시설</th>\n",
       "      <th>지역사회재활시설</th>\n",
       "      <th>생산품판매시설</th>\n",
       "      <th>의료재활시설</th>\n",
       "    </tr>\n",
       "  </thead>\n",
       "  <tbody>\n",
       "    <tr>\n",
       "      <th>0</th>\n",
       "      <td>1505</td>\n",
       "      <td>582</td>\n",
       "      <td>1303</td>\n",
       "      <td>17</td>\n",
       "      <td>20</td>\n",
       "    </tr>\n",
       "    <tr>\n",
       "      <th>1</th>\n",
       "      <td>1517</td>\n",
       "      <td>625</td>\n",
       "      <td>1333</td>\n",
       "      <td>17</td>\n",
       "      <td>19</td>\n",
       "    </tr>\n",
       "    <tr>\n",
       "      <th>2</th>\n",
       "      <td>1527</td>\n",
       "      <td>651</td>\n",
       "      <td>1373</td>\n",
       "      <td>17</td>\n",
       "      <td>19</td>\n",
       "    </tr>\n",
       "    <tr>\n",
       "      <th>3</th>\n",
       "      <td>1557</td>\n",
       "      <td>683</td>\n",
       "      <td>1486</td>\n",
       "      <td>17</td>\n",
       "      <td>18</td>\n",
       "    </tr>\n",
       "  </tbody>\n",
       "</table>\n",
       "</div>"
      ],
      "text/plain": [
       "   거주시설  직업재활시설  지역사회재활시설  생산품판매시설  의료재활시설\n",
       "0  1505     582      1303       17      20\n",
       "1  1517     625      1333       17      19\n",
       "2  1527     651      1373       17      19\n",
       "3  1557     683      1486       17      18"
      ]
     },
     "execution_count": 31,
     "metadata": {},
     "output_type": "execute_result"
    }
   ],
   "source": [
    "data_sum.head()"
   ]
  },
  {
   "cell_type": "code",
   "execution_count": 50,
   "id": "52ebda11-ea69-4241-8287-8febbc3759da",
   "metadata": {},
   "outputs": [
    {
     "name": "stdout",
     "output_type": "stream",
     "text": [
      "토탈 값\n",
      "2015 : 3327\n",
      "2016 : 3427\n",
      "2017 : 3511\n",
      "2018 : 3587\n",
      "2019 : 3761\n"
     ]
    }
   ],
   "source": [
    "# 년도별 토탈값\n",
    "total_2015 = 3327\n",
    "\n",
    "total_2016 = data_sum.iloc[0].sum()\n",
    "total_2017 = data_sum.iloc[1].sum()\n",
    "total_2018 = data_sum.iloc[2].sum()\n",
    "total_2019 = data_sum.iloc[3].sum()\n",
    "\n",
    "print(f\"토탈 값\\n2015 : {total_2015}\\n2016 : {total_2016}\\n2017 : {total_2017}\\n2018 : {total_2018}\\n2019 : {total_2019}\")"
   ]
  },
  {
   "cell_type": "code",
   "execution_count": 51,
   "id": "b9224a5e-2dff-41fe-92d4-26aa9715bb85",
   "metadata": {},
   "outputs": [
    {
     "name": "stdout",
     "output_type": "stream",
     "text": [
      "증가률\n",
      "2016 : 3.005710850616171\n",
      "2017 : 2.451123431572804\n",
      "2018 : 2.1646254628311024\n",
      "2019 : 4.850850292723725\n"
     ]
    }
   ],
   "source": [
    "# 전년도 대비 증가율\n",
    "\n",
    "up_2019 = ((total_2019 - total_2018) / total_2018) * 100\n",
    "up_2018 = ((total_2018 - total_2017) / total_2017) * 100\n",
    "up_2017 = ((total_2017 - total_2016) / total_2016) * 100\n",
    "up_2016 = ((total_2016 - total_2015) / total_2015) * 100\n",
    "\n",
    "print(f\"증가률\\n2016 : {up_2016}\\n2017 : {up_2017}\\n2018 : {up_2018}\\n2019 : {up_2019}\")"
   ]
  },
  {
   "cell_type": "code",
   "execution_count": 55,
   "id": "b92640c2-f305-42a8-bd91-259a53824b61",
   "metadata": {},
   "outputs": [
    {
     "data": {
      "text/plain": [
       "[<matplotlib.lines.Line2D at 0xffff62912390>]"
      ]
     },
     "execution_count": 55,
     "metadata": {},
     "output_type": "execute_result"
    },
    {
     "data": {
      "image/png": "[encoded data removed]",
      "text/plain": [
       "<Figure size 432x288 with 1 Axes>"
      ]
     },
     "metadata": {
      "needs_background": "light"
     },
     "output_type": "display_data"
    }
   ],
   "source": [
    "# 시각화 (년도별 토탈값 : 막대그래프 / 전년도 대비 증가율 : 꺾은선 그래프)\n",
    "x = (2016, 2017, 2018, 2019)\n",
    "bar_y = (total_2016, total_2017, total_2018, total_2019)\n",
    "plot_y = (up_2016, up_2017, up_2018, up_2019)\n",
    "\n",
    "plt.bar(x, bar_y, color=['red', 'yellow', 'green', 'blue'])\n",
    "plt.plot(x, plot_y, color='black', marker='o')"
   ]
  }
 ],
 "metadata": {
  "kernelspec": {
   "display_name": "Python 3",
   "language": "python",
   "name": "python3"
  },
  "language_info": {
   "codemirror_mode": {
    "name": "ipython",
    "version": 3
   },
   "file_extension": ".py",
   "mimetype": "text/x-python",
   "name": "python",
   "nbconvert_exporter": "python",
   "pygments_lexer": "ipython3",
   "version": "3.7.10"
  }
 },
 "nbformat": 4,
 "nbformat_minor": 5
}
