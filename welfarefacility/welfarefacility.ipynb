{
 "cells": [
  {
   "cell_type": "code",
   "execution_count": 2,
   "id": "211c025e-2d14-4043-b0a6-a1a7f519e652",
   "metadata": {},
   "outputs": [],
   "source": [
    "# Import Library\n",
    "import pandas as pd\n",
    "import matplotlib.pyplot as plt"
   ]
  },
  {
   "cell_type": "code",
   "execution_count": 3,
   "id": "ea0742f7-8e11-4c38-bd98-e0277813f705",
   "metadata": {},
   "outputs": [
    {
     "name": "stdout",
     "output_type": "stream",
     "text": [
      "Reading package lists... Done\n",
      "Building dependency tree       \n",
      "Reading state information... Done\n",
      "fonts-nanum is already the newest version (20180306-1).\n",
      "0 upgraded, 0 newly installed, 0 to remove and 1 not upgraded.\n",
      "/usr/share/fonts: caching, new cache contents: 0 fonts, 1 dirs\n",
      "/usr/share/fonts/truetype: caching, new cache contents: 0 fonts, 2 dirs\n",
      "/usr/share/fonts/truetype/dejavu: caching, new cache contents: 6 fonts, 0 dirs\n",
      "/usr/share/fonts/truetype/nanum: caching, new cache contents: 31 fonts, 0 dirs\n",
      "/usr/X11R6/lib/X11/fonts: skipping, no such directory\n",
      "/usr/local/share/fonts: caching, new cache contents: 0 fonts, 0 dirs\n",
      "/root/.local/share/fonts: skipping, no such directory\n",
      "/root/.fonts: skipping, no such directory\n",
      "/usr/share/fonts/truetype: skipping, looped directory detected\n",
      "/usr/share/fonts/truetype/dejavu: skipping, looped directory detected\n",
      "/usr/share/fonts/truetype/nanum: skipping, looped directory detected\n",
      "/var/cache/fontconfig: cleaning cache directory\n",
      "/root/.cache/fontconfig: not cleaning non-existent cache directory\n",
      "/root/.fontconfig: not cleaning non-existent cache directory\n",
      "fc-cache: succeeded\n"
     ]
    }
   ],
   "source": [
    "# 한글설정\n",
    "!apt-get install -y fonts-nanum # 나눔 폰트 다운\n",
    "# !ls -l /usr/share/fonts/truetype/ # 설치 확인\n",
    "!rm -rf ~/.cache/matplotlib/* # 남아있는 폰트 캐시 제거\n",
    "!fc-cache -fv # 폰트 캐시 생성"
   ]
  },
  {
   "cell_type": "code",
   "execution_count": 4,
   "id": "52b6af4b-02a9-4ad1-9039-6fd2755385c5",
   "metadata": {},
   "outputs": [],
   "source": [
    "import matplotlib as mpl\n",
    "\n",
    "# 유니코드 깨짐현상 해결\n",
    "mpl.rcParams['axes.unicode_minus'] = False\n",
    "\n",
    "# 나눔고딕 폰트 적용\n",
    "plt.rcParams[\"font.family\"] = 'NanumGothic'"
   ]
  },
  {
   "cell_type": "code",
   "execution_count": 5,
   "id": "de24f922-2276-4328-ad79-3ed45cc2aa4b",
   "metadata": {},
   "outputs": [],
   "source": [
    "# Data Read\n",
    "data = pd.read_csv(\"../data/장애인복지시설현황.csv\")"
   ]
  },
  {
   "cell_type": "code",
   "execution_count": 6,
   "id": "b0c47403-f7cb-4fdf-905d-92a37a4c331f",
   "metadata": {},
   "outputs": [
    {
     "data": {
      "text/html": [
       "<div>\n",
       "<style scoped>\n",
       "    .dataframe tbody tr th:only-of-type {\n",
       "        vertical-align: middle;\n",
       "    }\n",
       "\n",
       "    .dataframe tbody tr th {\n",
       "        vertical-align: top;\n",
       "    }\n",
       "\n",
       "    .dataframe thead th {\n",
       "        text-align: right;\n",
       "    }\n",
       "</style>\n",
       "<table border=\"1\" class=\"dataframe\">\n",
       "  <thead>\n",
       "    <tr style=\"text-align: right;\">\n",
       "      <th></th>\n",
       "      <th>년도</th>\n",
       "      <th>거주시설</th>\n",
       "      <th>직업재활시설</th>\n",
       "      <th>지역사회재활시설</th>\n",
       "      <th>생산품판매시설</th>\n",
       "      <th>의료재활시설</th>\n",
       "    </tr>\n",
       "  </thead>\n",
       "  <tbody>\n",
       "    <tr>\n",
       "      <th>0</th>\n",
       "      <td>2016</td>\n",
       "      <td>1505</td>\n",
       "      <td>582</td>\n",
       "      <td>1303</td>\n",
       "      <td>17</td>\n",
       "      <td>20</td>\n",
       "    </tr>\n",
       "    <tr>\n",
       "      <th>1</th>\n",
       "      <td>2017</td>\n",
       "      <td>1517</td>\n",
       "      <td>625</td>\n",
       "      <td>1333</td>\n",
       "      <td>17</td>\n",
       "      <td>19</td>\n",
       "    </tr>\n",
       "    <tr>\n",
       "      <th>2</th>\n",
       "      <td>2018</td>\n",
       "      <td>1527</td>\n",
       "      <td>651</td>\n",
       "      <td>1373</td>\n",
       "      <td>17</td>\n",
       "      <td>19</td>\n",
       "    </tr>\n",
       "    <tr>\n",
       "      <th>3</th>\n",
       "      <td>2019</td>\n",
       "      <td>1557</td>\n",
       "      <td>683</td>\n",
       "      <td>1486</td>\n",
       "      <td>17</td>\n",
       "      <td>18</td>\n",
       "    </tr>\n",
       "  </tbody>\n",
       "</table>\n",
       "</div>"
      ],
      "text/plain": [
       "     년도  거주시설  직업재활시설  지역사회재활시설  생산품판매시설  의료재활시설\n",
       "0  2016  1505     582      1303       17      20\n",
       "1  2017  1517     625      1333       17      19\n",
       "2  2018  1527     651      1373       17      19\n",
       "3  2019  1557     683      1486       17      18"
      ]
     },
     "execution_count": 6,
     "metadata": {},
     "output_type": "execute_result"
    }
   ],
   "source": [
    "data.head()"
   ]
  },
  {
   "cell_type": "code",
   "execution_count": 7,
   "id": "f6cd17e0-224b-4ab4-bb29-cda0091c6443",
   "metadata": {},
   "outputs": [],
   "source": [
    "# 년도 컬럼 지우기\n",
    "data_drop = data.copy()\n",
    "data_sum = data_drop.drop('년도', axis=1)"
   ]
  },
  {
   "cell_type": "code",
   "execution_count": 8,
   "id": "ac25fef2-57dd-4f27-a97f-86d95c845e15",
   "metadata": {},
   "outputs": [
    {
     "data": {
      "text/html": [
       "<div>\n",
       "<style scoped>\n",
       "    .dataframe tbody tr th:only-of-type {\n",
       "        vertical-align: middle;\n",
       "    }\n",
       "\n",
       "    .dataframe tbody tr th {\n",
       "        vertical-align: top;\n",
       "    }\n",
       "\n",
       "    .dataframe thead th {\n",
       "        text-align: right;\n",
       "    }\n",
       "</style>\n",
       "<table border=\"1\" class=\"dataframe\">\n",
       "  <thead>\n",
       "    <tr style=\"text-align: right;\">\n",
       "      <th></th>\n",
       "      <th>거주시설</th>\n",
       "      <th>직업재활시설</th>\n",
       "      <th>지역사회재활시설</th>\n",
       "      <th>생산품판매시설</th>\n",
       "      <th>의료재활시설</th>\n",
       "    </tr>\n",
       "  </thead>\n",
       "  <tbody>\n",
       "    <tr>\n",
       "      <th>0</th>\n",
       "      <td>1505</td>\n",
       "      <td>582</td>\n",
       "      <td>1303</td>\n",
       "      <td>17</td>\n",
       "      <td>20</td>\n",
       "    </tr>\n",
       "    <tr>\n",
       "      <th>1</th>\n",
       "      <td>1517</td>\n",
       "      <td>625</td>\n",
       "      <td>1333</td>\n",
       "      <td>17</td>\n",
       "      <td>19</td>\n",
       "    </tr>\n",
       "    <tr>\n",
       "      <th>2</th>\n",
       "      <td>1527</td>\n",
       "      <td>651</td>\n",
       "      <td>1373</td>\n",
       "      <td>17</td>\n",
       "      <td>19</td>\n",
       "    </tr>\n",
       "    <tr>\n",
       "      <th>3</th>\n",
       "      <td>1557</td>\n",
       "      <td>683</td>\n",
       "      <td>1486</td>\n",
       "      <td>17</td>\n",
       "      <td>18</td>\n",
       "    </tr>\n",
       "  </tbody>\n",
       "</table>\n",
       "</div>"
      ],
      "text/plain": [
       "   거주시설  직업재활시설  지역사회재활시설  생산품판매시설  의료재활시설\n",
       "0  1505     582      1303       17      20\n",
       "1  1517     625      1333       17      19\n",
       "2  1527     651      1373       17      19\n",
       "3  1557     683      1486       17      18"
      ]
     },
     "execution_count": 8,
     "metadata": {},
     "output_type": "execute_result"
    }
   ],
   "source": [
    "data_sum.head()"
   ]
  },
  {
   "cell_type": "code",
   "execution_count": 29,
   "id": "35484ebb-17a0-4893-8ef5-eab173d6006b",
   "metadata": {},
   "outputs": [
    {
     "name": "stdout",
     "output_type": "stream",
     "text": [
      "시설 년도별 개수\n",
      "거주시설 : [1505, 1517, 1527, 1557]\n",
      "직업재활시설 : [582, 625, 651, 683]\n",
      "지역사회재활시설 : [1303, 1333, 1373, 1486]\n",
      "생산품판매시설 : [17, 17, 17, 17]\n",
      "의료재활시설 : [20, 19, 19, 18]\n"
     ]
    }
   ],
   "source": [
    "# 시설 년도별 개수\n",
    "cat1 = list(data_sum['거주시설'])\n",
    "cat2 = list(data_sum['직업재활시설'])\n",
    "cat3 = list(data_sum['지역사회재활시설'])\n",
    "cat4 = list(data_sum['생산품판매시설'])\n",
    "cat5 = list(data_sum['의료재활시설'])\n",
    "\n",
    "print(f\"시설 년도별 개수\\n거주시설 : {cat1}\\n직업재활시설 : {cat2}\\n지역사회재활시설 : {cat3}\\n생산품판매시설 : {cat4}\\n의료재활시설 : {cat5}\")"
   ]
  },
  {
   "cell_type": "code",
   "execution_count": 88,
   "id": "43157def-dfc9-42c4-89ad-19081d2b5ec0",
   "metadata": {},
   "outputs": [
    {
     "data": {
      "image/png": "[encoded data removed]",
      "text/plain": [
       "<Figure size 576x792 with 5 Axes>"
      ]
     },
     "metadata": {
      "needs_background": "light"
     },
     "output_type": "display_data"
    }
   ],
   "source": [
    "# 장애인복지시설 개별 시각화\n",
    "# x축\n",
    "x = (2016, 2017, 2018, 2019)\n",
    "\n",
    "plt.rcParams['figure.figsize']=(8,11)\n",
    "\n",
    "# 거주시설\n",
    "plt.xticks([2016, 2017, 2018, 2019])\n",
    "gp1 = plt.subplot(321)\n",
    "graph1 = plt.bar(x, cat1, color=['#F2F5A9', '#D8D8D8', '#F2F5A9', '#D8D8D8'])\n",
    "plt.grid(True)\n",
    "gp1.axis([2015, 2020, 1500, 1560])\n",
    "plt.title(\"거주시설\", loc='center', pad=10)\n",
    "\n",
    "# 직업재활시설\n",
    "plt.xticks([2016, 2017, 2018, 2019])\n",
    "gp2 = plt.subplot(322)\n",
    "graph2 = plt.bar(x, cat2, color=['#F2F5A9', '#D8D8D8', '#F2F5A9', '#D8D8D8'])\n",
    "plt.grid(True)\n",
    "gp2.axis([2015, 2020, 550, 700])\n",
    "plt.title(\"직업재활시설\", loc='center', pad=10)\n",
    "\n",
    "# 지역사회재활시설\n",
    "plt.xticks([2016, 2017, 2018, 2019])\n",
    "gp3 = plt.subplot(323)\n",
    "graph3 = plt.bar(x, cat3, color=['#F2F5A9', '#D8D8D8', '#F2F5A9', '#D8D8D8'])\n",
    "plt.grid(True)\n",
    "gp3.axis([2015, 2020, 1000, 1600])\n",
    "plt.title(\"지역사회재활시설\", loc='center', pad=10)\n",
    "\n",
    "# 생산품판매시설\n",
    "plt.xticks([2016, 2017, 2018, 2019])\n",
    "gp4 = plt.subplot(324)\n",
    "graph4 = plt.bar(x, cat4, color=['#F2F5A9', '#D8D8D8', '#F2F5A9', '#D8D8D8'])\n",
    "plt.grid(True)\n",
    "gp4.axis([2015, 2020, 15, 18])\n",
    "plt.title(\"생산품판매시설\", loc='center', pad=10)\n",
    "\n",
    "# 의료재활시설\n",
    "plt.xticks([2016, 2017, 2018, 2019])\n",
    "gp5 = plt.subplot(325)\n",
    "graph5 = plt.bar(x, cat5, color=['#F2F5A9', '#D8D8D8', '#F2F5A9', '#D8D8D8'])\n",
    "plt.grid(True)\n",
    "gp5.axis([2015, 2020, 15, 22])\n",
    "plt.title(\"의료재활시설\", loc='center', pad=10)\n",
    "\n",
    "plt.tight_layout()\n",
    "# plt.show()\n",
    "plt.savefig('장애인복지시설현황 개별 시각화.png', dpi=200, facecolor='#FFFFFF')"
   ]
  },
  {
   "cell_type": "code",
   "execution_count": 9,
   "id": "52ebda11-ea69-4241-8287-8febbc3759da",
   "metadata": {},
   "outputs": [
    {
     "name": "stdout",
     "output_type": "stream",
     "text": [
      "토탈 값\n",
      "2015 : 3327\n",
      "2016 : 3427\n",
      "2017 : 3511\n",
      "2018 : 3587\n",
      "2019 : 3761\n"
     ]
    }
   ],
   "source": [
    "# 년도별 토탈값\n",
    "total_2015 = 3327\n",
    "\n",
    "total_2016 = data_sum.iloc[0].sum()\n",
    "total_2017 = data_sum.iloc[1].sum()\n",
    "total_2018 = data_sum.iloc[2].sum()\n",
    "total_2019 = data_sum.iloc[3].sum()\n",
    "\n",
    "print(f\"토탈 값\\n2015 : {total_2015}\\n2016 : {total_2016}\\n2017 : {total_2017}\\n2018 : {total_2018}\\n2019 : {total_2019}\")"
   ]
  },
  {
   "cell_type": "code",
   "execution_count": 10,
   "id": "b9224a5e-2dff-41fe-92d4-26aa9715bb85",
   "metadata": {},
   "outputs": [
    {
     "name": "stdout",
     "output_type": "stream",
     "text": [
      "증가률\n",
      "2016 : 3.005710850616171\n",
      "2017 : 2.451123431572804\n",
      "2018 : 2.1646254628311024\n",
      "2019 : 4.850850292723725\n"
     ]
    }
   ],
   "source": [
    "# 전년도 대비 증가율\n",
    "\n",
    "up_2019 = ((total_2019 - total_2018) / total_2018) * 100\n",
    "up_2018 = ((total_2018 - total_2017) / total_2017) * 100\n",
    "up_2017 = ((total_2017 - total_2016) / total_2016) * 100\n",
    "up_2016 = ((total_2016 - total_2015) / total_2015) * 100\n",
    "\n",
    "print(f\"증가률\\n2016 : {up_2016}\\n2017 : {up_2017}\\n2018 : {up_2018}\\n2019 : {up_2019}\")"
   ]
  },
  {
   "cell_type": "code",
   "execution_count": 89,
   "id": "b92640c2-f305-42a8-bd91-259a53824b61",
   "metadata": {},
   "outputs": [
    {
     "data": {
      "image/png": "[encoded data removed]",
      "text/plain": [
       "<Figure size 360x288 with 2 Axes>"
      ]
     },
     "metadata": {
      "needs_background": "light"
     },
     "output_type": "display_data"
    }
   ],
   "source": [
    "# 시각화 (년도별 토탈값 : 막대그래프 / 전년도 대비 증가율 : 꺾은선 그래프)\n",
    "plt.rcParams['figure.figsize']=(5,4)\n",
    "\n",
    "# 년도별 개수\n",
    "bar_y = (total_2016, total_2017, total_2018, total_2019)\n",
    "# 전년도 대비 증가율\n",
    "plot_y = (up_2016, up_2017, up_2018, up_2019)\n",
    "\n",
    "# 1번\n",
    "fig, ax1 = plt.subplots()\n",
    "# 눈금 간격\n",
    "ax1.axis([2015, 2020, 3200, 3800])\n",
    "# 라벨\n",
    "ax1.set_xlabel(\"년도\")\n",
    "ax1.set_ylabel(\"시설 (단위 : 개)\")\n",
    "# 눈금\n",
    "ax1.grid(True)\n",
    "# 그래프 생성\n",
    "ax1.bar(x, bar_y, color='#F6CED8', label='시설 개수')\n",
    "\n",
    "# 2번\n",
    "ax2 = ax1.twinx()\n",
    "# 라벨\n",
    "ax2.set_ylabel(\"전년 대비 증가율 (단위 : %)\")\n",
    "# 눈금 간격\n",
    "ax2.axis([2015, 2020, 2, 5])\n",
    "# 그래프 생성\n",
    "ax2.plot(x, plot_y, color='#8181F7', marker='o', label='전년 대비 증가율')\n",
    "\n",
    "# X축 간격\n",
    "plt.xticks([2016, 2017, 2018, 2019])\n",
    "# 제목\n",
    "plt.title(\"장애인복지시설 현황\", loc='center', pad=10)\n",
    "# 범례\n",
    "ax1.legend(loc='upper left')\n",
    "ax2.legend(loc='upper left', bbox_to_anchor=(0, 0.92))\n",
    "\n",
    "plt.tight_layout()\n",
    "# plt.show()\n",
    "plt.savefig('장애인복지시설현황 시각화.png', dpi=200, facecolor='#FFFFFF')"
   ]
  }
 ],
 "metadata": {
  "kernelspec": {
   "display_name": "Python 3",
   "language": "python",
   "name": "python3"
  },
  "language_info": {
   "codemirror_mode": {
    "name": "ipython",
    "version": 3
   },
   "file_extension": ".py",
   "mimetype": "text/x-python",
   "name": "python",
   "nbconvert_exporter": "python",
   "pygments_lexer": "ipython3",
   "version": "3.7.10"
  }
 },
 "nbformat": 4,
 "nbformat_minor": 5
}
