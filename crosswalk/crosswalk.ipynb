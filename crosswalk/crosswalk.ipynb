{
 "cells": [
  {
   "cell_type": "code",
   "execution_count": 1,
   "id": "c8d6e795-8ec0-4816-8382-8e1f5197d121",
   "metadata": {},
   "outputs": [],
   "source": [
    "import matplotlib.pyplot as plt\n",
    "import pandas as pd\n",
    "import numpy as np\n",
    "import random"
   ]
  },
  {
   "cell_type": "code",
   "execution_count": 2,
   "id": "6c92f950-db08-40d4-aa05-cdef4de5e9da",
   "metadata": {},
   "outputs": [
    {
     "name": "stdout",
     "output_type": "stream",
     "text": [
      "Hit:1 http://deb.debian.org/debian buster InRelease\n",
      "Hit:2 http://security.debian.org/debian-security buster/updates InRelease\n",
      "Hit:3 http://deb.debian.org/debian buster-updates InRelease\n",
      "Reading package lists... Done\n",
      "/usr/share/fonts: caching, new cache contents: 0 fonts, 1 dirs\n",
      "/usr/share/fonts/truetype: caching, new cache contents: 0 fonts, 2 dirs\n",
      "/usr/share/fonts/truetype/dejavu: caching, new cache contents: 6 fonts, 0 dirs\n",
      "/usr/share/fonts/truetype/nanum: caching, new cache contents: 10 fonts, 0 dirs\n",
      "/usr/X11R6/lib/X11/fonts: skipping, no such directory\n",
      "/usr/local/share/fonts: caching, new cache contents: 0 fonts, 0 dirs\n",
      "/root/.local/share/fonts: skipping, no such directory\n",
      "/root/.fonts: skipping, no such directory\n",
      "/usr/share/fonts/truetype: skipping, looped directory detected\n",
      "/usr/share/fonts/truetype/dejavu: skipping, looped directory detected\n",
      "/usr/share/fonts/truetype/nanum: skipping, looped directory detected\n",
      "/var/cache/fontconfig: cleaning cache directory\n",
      "/root/.cache/fontconfig: not cleaning non-existent cache directory\n",
      "/root/.fontconfig: not cleaning non-existent cache directory\n",
      "fc-cache: succeeded\n",
      "Reading package lists... Done\n",
      "Building dependency tree       \n",
      "Reading state information... Done\n",
      "fonts-nanum is already the newest version (20180306-1).\n",
      "0 upgraded, 0 newly installed, 0 to remove and 6 not upgraded.\n"
     ]
    }
   ],
   "source": [
    "!sed -i 's/archive.ubuntu.com/ftp.daumkakao.com/g' /etc/apt/sources.list\n",
    "!apt-get update \n",
    "!fc-cache -fv\n",
    "!apt-get install -y fonts-nanum\n",
    "!rm -rf ~/.cache/matplotlib/*\n",
    "plt.rc('font', family='NanumBarunGothic') "
   ]
  },
  {
   "cell_type": "code",
   "execution_count": 3,
   "id": "b5d39a9c-cae2-4f32-9caa-e3b4b7a0c90a",
   "metadata": {},
   "outputs": [
    {
     "data": {
      "text/html": [
       "<div>\n",
       "<style scoped>\n",
       "    .dataframe tbody tr th:only-of-type {\n",
       "        vertical-align: middle;\n",
       "    }\n",
       "\n",
       "    .dataframe tbody tr th {\n",
       "        vertical-align: top;\n",
       "    }\n",
       "\n",
       "    .dataframe thead th {\n",
       "        text-align: right;\n",
       "    }\n",
       "</style>\n",
       "<table border=\"1\" class=\"dataframe\">\n",
       "  <thead>\n",
       "    <tr style=\"text-align: right;\">\n",
       "      <th></th>\n",
       "      <th>시도명</th>\n",
       "      <th>시군구명</th>\n",
       "      <th>도로명</th>\n",
       "      <th>소재지도로명주소</th>\n",
       "      <th>소재지지번주소</th>\n",
       "      <th>횡단보도관리번호</th>\n",
       "      <th>횡단보도종류</th>\n",
       "      <th>자전거횡단도겸용여부</th>\n",
       "      <th>고원식적용여부</th>\n",
       "      <th>위도</th>\n",
       "      <th>...</th>\n",
       "      <th>적색신호시간</th>\n",
       "      <th>교통섬유무</th>\n",
       "      <th>보도턱낮춤여부</th>\n",
       "      <th>점자블록유무</th>\n",
       "      <th>집중조명시설유무</th>\n",
       "      <th>관리기관명</th>\n",
       "      <th>관리기관전화번호</th>\n",
       "      <th>데이터기준일자</th>\n",
       "      <th>제공기관코드</th>\n",
       "      <th>제공기관명</th>\n",
       "    </tr>\n",
       "  </thead>\n",
       "  <tbody>\n",
       "    <tr>\n",
       "      <th>0</th>\n",
       "      <td>경상남도</td>\n",
       "      <td>양산시</td>\n",
       "      <td>양산대로</td>\n",
       "      <td>NaN</td>\n",
       "      <td>경상남도 양산시 하북면 용연리 1089-8</td>\n",
       "      <td>양산신-1001</td>\n",
       "      <td>1</td>\n",
       "      <td>N</td>\n",
       "      <td>N</td>\n",
       "      <td>35.431776</td>\n",
       "      <td>...</td>\n",
       "      <td>NaN</td>\n",
       "      <td>Y</td>\n",
       "      <td>Y</td>\n",
       "      <td>N</td>\n",
       "      <td>Y</td>\n",
       "      <td>양산시 교통과</td>\n",
       "      <td>055-392-2883</td>\n",
       "      <td>2021-05-10</td>\n",
       "      <td>5380000</td>\n",
       "      <td>경상남도 양산시</td>\n",
       "    </tr>\n",
       "    <tr>\n",
       "      <th>1</th>\n",
       "      <td>경상남도</td>\n",
       "      <td>양산시</td>\n",
       "      <td>양산대로</td>\n",
       "      <td>NaN</td>\n",
       "      <td>경상남도 양산시 하북면 용연리 1012-4</td>\n",
       "      <td>양산신-1002</td>\n",
       "      <td>1</td>\n",
       "      <td>N</td>\n",
       "      <td>N</td>\n",
       "      <td>35.433768</td>\n",
       "      <td>...</td>\n",
       "      <td>NaN</td>\n",
       "      <td>N</td>\n",
       "      <td>Y</td>\n",
       "      <td>N</td>\n",
       "      <td>Y</td>\n",
       "      <td>양산시 교통과</td>\n",
       "      <td>055-392-2883</td>\n",
       "      <td>2021-05-10</td>\n",
       "      <td>5380000</td>\n",
       "      <td>경상남도 양산시</td>\n",
       "    </tr>\n",
       "    <tr>\n",
       "      <th>2</th>\n",
       "      <td>경상남도</td>\n",
       "      <td>양산시</td>\n",
       "      <td>양산대로</td>\n",
       "      <td>NaN</td>\n",
       "      <td>경상남도 양산시 하북면 용연리 1145-3</td>\n",
       "      <td>양산신-1005</td>\n",
       "      <td>1</td>\n",
       "      <td>N</td>\n",
       "      <td>N</td>\n",
       "      <td>35.442733</td>\n",
       "      <td>...</td>\n",
       "      <td>NaN</td>\n",
       "      <td>N</td>\n",
       "      <td>Y</td>\n",
       "      <td>N</td>\n",
       "      <td>Y</td>\n",
       "      <td>양산시 교통과</td>\n",
       "      <td>055-392-2883</td>\n",
       "      <td>2021-05-10</td>\n",
       "      <td>5380000</td>\n",
       "      <td>경상남도 양산시</td>\n",
       "    </tr>\n",
       "    <tr>\n",
       "      <th>3</th>\n",
       "      <td>경상남도</td>\n",
       "      <td>양산시</td>\n",
       "      <td>양산대로</td>\n",
       "      <td>NaN</td>\n",
       "      <td>경상남도 양산시 하북면 백록리 1040-1</td>\n",
       "      <td>양산신-1007</td>\n",
       "      <td>1</td>\n",
       "      <td>N</td>\n",
       "      <td>N</td>\n",
       "      <td>35.455274</td>\n",
       "      <td>...</td>\n",
       "      <td>NaN</td>\n",
       "      <td>N</td>\n",
       "      <td>Y</td>\n",
       "      <td>N</td>\n",
       "      <td>Y</td>\n",
       "      <td>양산시 교통과</td>\n",
       "      <td>055-392-2883</td>\n",
       "      <td>2021-05-10</td>\n",
       "      <td>5380000</td>\n",
       "      <td>경상남도 양산시</td>\n",
       "    </tr>\n",
       "    <tr>\n",
       "      <th>4</th>\n",
       "      <td>경상남도</td>\n",
       "      <td>양산시</td>\n",
       "      <td>양산대로</td>\n",
       "      <td>NaN</td>\n",
       "      <td>경상남도 양산시 하북면 백록리 1009-3</td>\n",
       "      <td>양산신-1008</td>\n",
       "      <td>1</td>\n",
       "      <td>N</td>\n",
       "      <td>N</td>\n",
       "      <td>35.460196</td>\n",
       "      <td>...</td>\n",
       "      <td>NaN</td>\n",
       "      <td>N</td>\n",
       "      <td>Y</td>\n",
       "      <td>N</td>\n",
       "      <td>Y</td>\n",
       "      <td>양산시 교통과</td>\n",
       "      <td>055-392-2883</td>\n",
       "      <td>2021-05-10</td>\n",
       "      <td>5380000</td>\n",
       "      <td>경상남도 양산시</td>\n",
       "    </tr>\n",
       "    <tr>\n",
       "      <th>...</th>\n",
       "      <td>...</td>\n",
       "      <td>...</td>\n",
       "      <td>...</td>\n",
       "      <td>...</td>\n",
       "      <td>...</td>\n",
       "      <td>...</td>\n",
       "      <td>...</td>\n",
       "      <td>...</td>\n",
       "      <td>...</td>\n",
       "      <td>...</td>\n",
       "      <td>...</td>\n",
       "      <td>...</td>\n",
       "      <td>...</td>\n",
       "      <td>...</td>\n",
       "      <td>...</td>\n",
       "      <td>...</td>\n",
       "      <td>...</td>\n",
       "      <td>...</td>\n",
       "      <td>...</td>\n",
       "      <td>...</td>\n",
       "      <td>...</td>\n",
       "    </tr>\n",
       "    <tr>\n",
       "      <th>10320</th>\n",
       "      <td>경상남도</td>\n",
       "      <td>양산시</td>\n",
       "      <td>시도</td>\n",
       "      <td>NaN</td>\n",
       "      <td>경상남도 양산시 물금읍 범어리 2751</td>\n",
       "      <td>양산신-9013</td>\n",
       "      <td>1</td>\n",
       "      <td>N</td>\n",
       "      <td>N</td>\n",
       "      <td>35.324749</td>\n",
       "      <td>...</td>\n",
       "      <td>NaN</td>\n",
       "      <td>N</td>\n",
       "      <td>Y</td>\n",
       "      <td>Y</td>\n",
       "      <td>N</td>\n",
       "      <td>양산시 교통과</td>\n",
       "      <td>055-392-2883</td>\n",
       "      <td>2021-05-10</td>\n",
       "      <td>5380000</td>\n",
       "      <td>경상남도 양산시</td>\n",
       "    </tr>\n",
       "    <tr>\n",
       "      <th>10321</th>\n",
       "      <td>경상남도</td>\n",
       "      <td>양산시</td>\n",
       "      <td>시도</td>\n",
       "      <td>NaN</td>\n",
       "      <td>경상남도 양산시 물금읍 범어리 2751</td>\n",
       "      <td>양산신-9013</td>\n",
       "      <td>1</td>\n",
       "      <td>N</td>\n",
       "      <td>N</td>\n",
       "      <td>35.324749</td>\n",
       "      <td>...</td>\n",
       "      <td>NaN</td>\n",
       "      <td>N</td>\n",
       "      <td>Y</td>\n",
       "      <td>Y</td>\n",
       "      <td>N</td>\n",
       "      <td>양산시 교통과</td>\n",
       "      <td>055-392-2883</td>\n",
       "      <td>2021-05-10</td>\n",
       "      <td>5380000</td>\n",
       "      <td>경상남도 양산시</td>\n",
       "    </tr>\n",
       "    <tr>\n",
       "      <th>10322</th>\n",
       "      <td>경상남도</td>\n",
       "      <td>양산시</td>\n",
       "      <td>시도</td>\n",
       "      <td>NaN</td>\n",
       "      <td>경상남도 양산시 물금읍 범어리 2751</td>\n",
       "      <td>양산신-9014</td>\n",
       "      <td>1</td>\n",
       "      <td>N</td>\n",
       "      <td>N</td>\n",
       "      <td>35.324893</td>\n",
       "      <td>...</td>\n",
       "      <td>NaN</td>\n",
       "      <td>N</td>\n",
       "      <td>Y</td>\n",
       "      <td>N</td>\n",
       "      <td>N</td>\n",
       "      <td>양산시 교통과</td>\n",
       "      <td>055-392-2883</td>\n",
       "      <td>2021-05-10</td>\n",
       "      <td>5380000</td>\n",
       "      <td>경상남도 양산시</td>\n",
       "    </tr>\n",
       "    <tr>\n",
       "      <th>10323</th>\n",
       "      <td>경상남도</td>\n",
       "      <td>양산시</td>\n",
       "      <td>시도</td>\n",
       "      <td>NaN</td>\n",
       "      <td>경상남도 양산시 물금읍 범어리 2749</td>\n",
       "      <td>양산신-9015</td>\n",
       "      <td>1</td>\n",
       "      <td>Y</td>\n",
       "      <td>N</td>\n",
       "      <td>35.326391</td>\n",
       "      <td>...</td>\n",
       "      <td>NaN</td>\n",
       "      <td>N</td>\n",
       "      <td>Y</td>\n",
       "      <td>Y</td>\n",
       "      <td>N</td>\n",
       "      <td>양산시 교통과</td>\n",
       "      <td>055-392-2883</td>\n",
       "      <td>2021-05-10</td>\n",
       "      <td>5380000</td>\n",
       "      <td>경상남도 양산시</td>\n",
       "    </tr>\n",
       "    <tr>\n",
       "      <th>10324</th>\n",
       "      <td>경상남도</td>\n",
       "      <td>양산시</td>\n",
       "      <td>시도</td>\n",
       "      <td>NaN</td>\n",
       "      <td>경상남도 양산시 물금읍 범어리 2749</td>\n",
       "      <td>양산신-9015</td>\n",
       "      <td>1</td>\n",
       "      <td>Y</td>\n",
       "      <td>N</td>\n",
       "      <td>35.326391</td>\n",
       "      <td>...</td>\n",
       "      <td>NaN</td>\n",
       "      <td>N</td>\n",
       "      <td>Y</td>\n",
       "      <td>Y</td>\n",
       "      <td>N</td>\n",
       "      <td>양산시 교통과</td>\n",
       "      <td>055-392-2883</td>\n",
       "      <td>2021-05-10</td>\n",
       "      <td>5380000</td>\n",
       "      <td>경상남도 양산시</td>\n",
       "    </tr>\n",
       "  </tbody>\n",
       "</table>\n",
       "<p>10325 rows × 28 columns</p>\n",
       "</div>"
      ],
      "text/plain": [
       "        시도명 시군구명   도로명 소재지도로명주소                  소재지지번주소  횡단보도관리번호  횡단보도종류  \\\n",
       "0      경상남도  양산시  양산대로      NaN  경상남도 양산시 하북면 용연리 1089-8  양산신-1001       1   \n",
       "1      경상남도  양산시  양산대로      NaN  경상남도 양산시 하북면 용연리 1012-4  양산신-1002       1   \n",
       "2      경상남도  양산시  양산대로      NaN  경상남도 양산시 하북면 용연리 1145-3  양산신-1005       1   \n",
       "3      경상남도  양산시  양산대로      NaN  경상남도 양산시 하북면 백록리 1040-1  양산신-1007       1   \n",
       "4      경상남도  양산시  양산대로      NaN  경상남도 양산시 하북면 백록리 1009-3  양산신-1008       1   \n",
       "...     ...  ...   ...      ...                      ...       ...     ...   \n",
       "10320  경상남도  양산시    시도      NaN    경상남도 양산시 물금읍 범어리 2751  양산신-9013       1   \n",
       "10321  경상남도  양산시    시도      NaN    경상남도 양산시 물금읍 범어리 2751  양산신-9013       1   \n",
       "10322  경상남도  양산시    시도      NaN    경상남도 양산시 물금읍 범어리 2751  양산신-9014       1   \n",
       "10323  경상남도  양산시    시도      NaN    경상남도 양산시 물금읍 범어리 2749  양산신-9015       1   \n",
       "10324  경상남도  양산시    시도      NaN    경상남도 양산시 물금읍 범어리 2749  양산신-9015       1   \n",
       "\n",
       "      자전거횡단도겸용여부 고원식적용여부         위도  ...  적색신호시간  교통섬유무  보도턱낮춤여부  점자블록유무  \\\n",
       "0              N       N  35.431776  ...     NaN      Y        Y       N   \n",
       "1              N       N  35.433768  ...     NaN      N        Y       N   \n",
       "2              N       N  35.442733  ...     NaN      N        Y       N   \n",
       "3              N       N  35.455274  ...     NaN      N        Y       N   \n",
       "4              N       N  35.460196  ...     NaN      N        Y       N   \n",
       "...          ...     ...        ...  ...     ...    ...      ...     ...   \n",
       "10320          N       N  35.324749  ...     NaN      N        Y       Y   \n",
       "10321          N       N  35.324749  ...     NaN      N        Y       Y   \n",
       "10322          N       N  35.324893  ...     NaN      N        Y       N   \n",
       "10323          Y       N  35.326391  ...     NaN      N        Y       Y   \n",
       "10324          Y       N  35.326391  ...     NaN      N        Y       Y   \n",
       "\n",
       "      집중조명시설유무    관리기관명      관리기관전화번호     데이터기준일자   제공기관코드     제공기관명  \n",
       "0            Y  양산시 교통과  055-392-2883  2021-05-10  5380000  경상남도 양산시  \n",
       "1            Y  양산시 교통과  055-392-2883  2021-05-10  5380000  경상남도 양산시  \n",
       "2            Y  양산시 교통과  055-392-2883  2021-05-10  5380000  경상남도 양산시  \n",
       "3            Y  양산시 교통과  055-392-2883  2021-05-10  5380000  경상남도 양산시  \n",
       "4            Y  양산시 교통과  055-392-2883  2021-05-10  5380000  경상남도 양산시  \n",
       "...        ...      ...           ...         ...      ...       ...  \n",
       "10320        N  양산시 교통과  055-392-2883  2021-05-10  5380000  경상남도 양산시  \n",
       "10321        N  양산시 교통과  055-392-2883  2021-05-10  5380000  경상남도 양산시  \n",
       "10322        N  양산시 교통과  055-392-2883  2021-05-10  5380000  경상남도 양산시  \n",
       "10323        N  양산시 교통과  055-392-2883  2021-05-10  5380000  경상남도 양산시  \n",
       "10324        N  양산시 교통과  055-392-2883  2021-05-10  5380000  경상남도 양산시  \n",
       "\n",
       "[10325 rows x 28 columns]"
      ]
     },
     "execution_count": 3,
     "metadata": {},
     "output_type": "execute_result"
    }
   ],
   "source": [
    "df = pd.read_csv('/The_MoDeep/data/전국횡단보도표준데이터.csv', encoding='cp949')\n",
    "df"
   ]
  },
  {
   "cell_type": "markdown",
   "id": "97d4ba15-19cb-420c-a0ad-6274a2efa08d",
   "metadata": {},
   "source": [
    "# 분석 절차\n",
    "\n",
    "## 분석 주제\n",
    "1. 데이터 전처리\n",
    "    - null 값 처리\n",
    "    - Y/N를 boolean으로 변환\n",
    " \n",
    "2. 데이터 시각화\n",
    "    - 그래프 시각화\n",
    "   \n",
    "3. 결론 도출"
   ]
  },
  {
   "cell_type": "code",
   "execution_count": 4,
   "id": "b7a2a4ed-d968-4dd3-8801-e492ca1ea9f5",
   "metadata": {},
   "outputs": [
    {
     "data": {
      "text/html": [
       "<div>\n",
       "<style scoped>\n",
       "    .dataframe tbody tr th:only-of-type {\n",
       "        vertical-align: middle;\n",
       "    }\n",
       "\n",
       "    .dataframe tbody tr th {\n",
       "        vertical-align: top;\n",
       "    }\n",
       "\n",
       "    .dataframe thead th {\n",
       "        text-align: right;\n",
       "    }\n",
       "</style>\n",
       "<table border=\"1\" class=\"dataframe\">\n",
       "  <thead>\n",
       "    <tr style=\"text-align: right;\">\n",
       "      <th></th>\n",
       "      <th>횡단보도연장</th>\n",
       "      <th>녹색신호시간</th>\n",
       "      <th>제공기관코드</th>\n",
       "    </tr>\n",
       "  </thead>\n",
       "  <tbody>\n",
       "    <tr>\n",
       "      <th>count</th>\n",
       "      <td>10325.000000</td>\n",
       "      <td>1604.000000</td>\n",
       "      <td>1.032500e+04</td>\n",
       "    </tr>\n",
       "    <tr>\n",
       "      <th>mean</th>\n",
       "      <td>13.382370</td>\n",
       "      <td>23.221945</td>\n",
       "      <td>4.601964e+06</td>\n",
       "    </tr>\n",
       "    <tr>\n",
       "      <th>std</th>\n",
       "      <td>8.090786</td>\n",
       "      <td>9.855126</td>\n",
       "      <td>7.477878e+05</td>\n",
       "    </tr>\n",
       "    <tr>\n",
       "      <th>min</th>\n",
       "      <td>0.000000</td>\n",
       "      <td>0.000000</td>\n",
       "      <td>3.530000e+06</td>\n",
       "    </tr>\n",
       "    <tr>\n",
       "      <th>25%</th>\n",
       "      <td>7.200000</td>\n",
       "      <td>20.000000</td>\n",
       "      <td>4.000000e+06</td>\n",
       "    </tr>\n",
       "    <tr>\n",
       "      <th>50%</th>\n",
       "      <td>12.000000</td>\n",
       "      <td>24.000000</td>\n",
       "      <td>4.610000e+06</td>\n",
       "    </tr>\n",
       "    <tr>\n",
       "      <th>75%</th>\n",
       "      <td>17.000000</td>\n",
       "      <td>28.000000</td>\n",
       "      <td>5.020000e+06</td>\n",
       "    </tr>\n",
       "    <tr>\n",
       "      <th>max</th>\n",
       "      <td>64.100000</td>\n",
       "      <td>115.000000</td>\n",
       "      <td>6.510000e+06</td>\n",
       "    </tr>\n",
       "  </tbody>\n",
       "</table>\n",
       "</div>"
      ],
      "text/plain": [
       "             횡단보도연장       녹색신호시간        제공기관코드\n",
       "count  10325.000000  1604.000000  1.032500e+04\n",
       "mean      13.382370    23.221945  4.601964e+06\n",
       "std        8.090786     9.855126  7.477878e+05\n",
       "min        0.000000     0.000000  3.530000e+06\n",
       "25%        7.200000    20.000000  4.000000e+06\n",
       "50%       12.000000    24.000000  4.610000e+06\n",
       "75%       17.000000    28.000000  5.020000e+06\n",
       "max       64.100000   115.000000  6.510000e+06"
      ]
     },
     "execution_count": 4,
     "metadata": {},
     "output_type": "execute_result"
    }
   ],
   "source": [
    "crosswalk = df.drop([\"시도명\", \"시군구명\", \"도로명\", \"소재지도로명주소\", \"횡단보도관리번호\", \"횡단보도종류\", \"위도\", \"경도\", \"자전거횡단도겸용여부\",\n",
    "        \"고원식적용여부\", \"교통섬유무\", \"적색신호시간\", \"제공기관명\", \"데이터기준일자\", \"관리기관전화번호\", \"소재지지번주소\", \"차로수\",\n",
    "        \"횡단보도폭\", \"보행자신호등유무\"], axis=1)\n",
    "crosswalk.describe()"
   ]
  },
  {
   "cell_type": "code",
   "execution_count": 5,
   "id": "50217c8f-9bc7-4dc6-9a7b-2685bad9df4d",
   "metadata": {},
   "outputs": [],
   "source": [
    "def samples_with_weight(series):\n",
    "    total = len(series)\n",
    "    missing = sum(series==' ')\n",
    "    not_missing = total-missing\n",
    "    \n",
    "    samples = random.choices([0, 1], [missing/total, not_missing/total], k=missing)\n",
    "    return samples"
   ]
  },
  {
   "cell_type": "markdown",
   "id": "d7384884-2aca-4f79-80d9-15b3c0c105b4",
   "metadata": {},
   "source": [
    "# 횡단 보도 점자 블록 비율"
   ]
  },
  {
   "cell_type": "code",
   "execution_count": 16,
   "id": "3b722866-b2bd-4265-9099-38862135da15",
   "metadata": {},
   "outputs": [
    {
     "data": {
      "text/plain": [
       "0"
      ]
     },
     "execution_count": 16,
     "metadata": {},
     "output_type": "execute_result"
    }
   ],
   "source": [
    "braille = crosswalk['점자블록유무'].copy()\n",
    "samples = samples_with_weight(braille)\n",
    "if samples != [] :\n",
    "    braille[braille==' '] = samples\n",
    "sum(braille==' ') # 결측치 수"
   ]
  },
  {
   "cell_type": "code",
   "execution_count": 17,
   "id": "426537ee-6983-4204-baa9-d3381658d229",
   "metadata": {},
   "outputs": [],
   "source": [
    "#Y=1 N=0\n",
    "braille.replace('Y', 1, inplace=True)\n",
    "braille.replace('y', 1, inplace=True)\n",
    "\n",
    "braille.replace('N', 0, inplace=True)\n",
    "braille.replace('n', 0, inplace=True)"
   ]
  },
  {
   "cell_type": "code",
   "execution_count": 28,
   "id": "0632d9b1-2422-47a6-9eae-8d4295696b87",
   "metadata": {},
   "outputs": [
    {
     "data": {
      "text/plain": [
       "([<matplotlib.patches.Wedge at 0x7fa246fa2d50>,\n",
       "  <matplotlib.patches.Wedge at 0x7fa246f2ff10>],\n",
       " [Text(-0.5691732757645384, 0.9529647329022544, '점자블록 있음'),\n",
       "  Text(0.5691733649875337, -0.952964679612402, '점자블록 없음')],\n",
       " [Text(-0.31278891731204356, 0.5237013397030407, '67.1%'),\n",
       "  Text(0.31278896634450043, -0.5237013104176262, '32.9%')])"
      ]
     },
     "execution_count": 28,
     "metadata": {},
     "output_type": "execute_result"
    },
    {
     "data": {
      "image/png": "[encoded data removed]",
      "text/plain": [
       "<Figure size 432x288 with 1 Axes>"
      ]
     },
     "metadata": {},
     "output_type": "display_data"
    }
   ],
   "source": [
    "wedgeprops={'width': 0.7, 'edgecolor': 'w', 'linewidth': 5}\n",
    "plt.pie([braille[braille==1].count(), braille[braille==0].count()], labels=[\"점자블록 있음\", \"점자블록 없음\"], \n",
    "        explode=[0.01, 0.01], colors=['gold', 'silver'], autopct='%.1f%%', wedgeprops=wedgeprops)"
   ]
  },
  {
   "cell_type": "markdown",
   "id": "20901d72-7860-4c75-852f-172ed14d4ba5",
   "metadata": {},
   "source": [
    "# 횡단 보도 낮춤 턱 비율"
   ]
  },
  {
   "cell_type": "code",
   "execution_count": 10,
   "id": "b675cb32-978a-4dc6-bf06-ac57eb82071f",
   "metadata": {},
   "outputs": [
    {
     "data": {
      "text/plain": [
       "0"
      ]
     },
     "execution_count": 10,
     "metadata": {},
     "output_type": "execute_result"
    }
   ],
   "source": [
    "threshold = crosswalk['보도턱낮춤여부'].copy()\n",
    "samples = samples_with_weight(threshold)\n",
    "if samples != [] :\n",
    "    threshold[threshold==' '] = samples\n",
    "sum(threshold==' ') # 결측치 수"
   ]
  },
  {
   "cell_type": "code",
   "execution_count": 11,
   "id": "58189e42-9aab-4438-9424-f9773e43c95f",
   "metadata": {},
   "outputs": [],
   "source": [
    "#Y=1 N=0\n",
    "threshold.replace('Y', 1, inplace=True)\n",
    "threshold.replace('y', 1, inplace=True)\n",
    "\n",
    "threshold.replace('N', 0, inplace=True)\n",
    "threshold.replace('n', 0, inplace=True)"
   ]
  },
  {
   "cell_type": "code",
   "execution_count": 30,
   "id": "b94fb645-8ad9-4979-9ee2-a26402a93ebe",
   "metadata": {},
   "outputs": [
    {
     "data": {
      "text/plain": [
       "([<matplotlib.patches.Wedge at 0x7fa246e37310>,\n",
       "  <matplotlib.patches.Wedge at 0x7fa246e1f7d0>],\n",
       " [Text(-0.955294725033995, 0.5652539149110104, '낮춤 턱 있음'),\n",
       "  Text(0.955294777956882, -0.5652538254698606, '낮춤 턱 없음')],\n",
       " [Text(-0.5249817858294927, 0.3106350343204652, '83.0%'),\n",
       "  Text(0.5249818149132414, -0.31063498516812155, '17.0%')])"
      ]
     },
     "execution_count": 30,
     "metadata": {},
     "output_type": "execute_result"
    },
    {
     "data": {
      "image/png": "[encoded data removed]",
      "text/plain": [
       "<Figure size 432x288 with 1 Axes>"
      ]
     },
     "metadata": {},
     "output_type": "display_data"
    }
   ],
   "source": [
    "plt.pie([threshold[threshold==1].count(), threshold[threshold==0].count()], labels=[\"낮춤 턱 있음\", \"낮춤 턱 없음\"], \n",
    "        explode=[0.01, 0.01], colors=['gold', 'silver'], autopct='%.1f%%', wedgeprops=wedgeprops)"
   ]
  },
  {
   "cell_type": "markdown",
   "id": "2556e32a-4ffc-4932-b80a-1af6b1ed05d8",
   "metadata": {},
   "source": [
    "# 음향 신호기 설치 여부"
   ]
  },
  {
   "cell_type": "code",
   "execution_count": 12,
   "id": "98df9f84-4d03-4426-8f24-d988ced4e0ae",
   "metadata": {},
   "outputs": [
    {
     "data": {
      "text/plain": [
       "0"
      ]
     },
     "execution_count": 12,
     "metadata": {},
     "output_type": "execute_result"
    }
   ],
   "source": [
    "semaphore = crosswalk['음향신호기설치여부'].copy()\n",
    "samples = samples_with_weight(semaphore)\n",
    "if samples != [] :\n",
    "    semaphore[semaphore==' '] = samples\n",
    "sum(semaphore==' ')"
   ]
  },
  {
   "cell_type": "code",
   "execution_count": 13,
   "id": "47d68b61-ee1b-4c95-8571-3663b119d6c0",
   "metadata": {},
   "outputs": [],
   "source": [
    "#Y=1 N=0\n",
    "semaphore.replace('Y', 1, inplace=True)\n",
    "semaphore.replace('y', 1, inplace=True)\n",
    "\n",
    "semaphore.replace('N', 0, inplace=True)\n",
    "semaphore.replace('n', 0, inplace=True)"
   ]
  },
  {
   "cell_type": "code",
   "execution_count": 31,
   "id": "b285455c-b4b7-4bfe-b2a7-6e563569cf09",
   "metadata": {},
   "outputs": [
    {
     "data": {
      "text/plain": [
       "([<matplotlib.patches.Wedge at 0x7fa245db0610>,\n",
       "  <matplotlib.patches.Wedge at 0x7fa245db0fd0>],\n",
       " [Text(0.6440799278829193, 0.9040249147553033, '음향 신호기 있음'),\n",
       "  Text(-0.6440800125238376, -0.9040248544521845, '음향 신호기 없음')],\n",
       " [Text(0.3539538342419647, 0.4968064846853468, '30.3%'),\n",
       "  Text(-0.35395388075634315, -0.49680645154579506, '69.7%')])"
      ]
     },
     "execution_count": 31,
     "metadata": {},
     "output_type": "execute_result"
    },
    {
     "data": {
      "image/png": "[encoded data removed]",
      "text/plain": [
       "<Figure size 432x288 with 1 Axes>"
      ]
     },
     "metadata": {},
     "output_type": "display_data"
    }
   ],
   "source": [
    "plt.pie([semaphore[semaphore==1].count(), semaphore[semaphore==0].count()], labels=[\"음향 신호기 있음\", \"음향 신호기 없음\"], \n",
    "        explode=[0.01, 0.01], colors=['gold', 'silver'], autopct='%.1f%%', wedgeprops=wedgeprops)"
   ]
  },
  {
   "cell_type": "markdown",
   "id": "d9809882-1b1d-4f50-8086-470592d33e53",
   "metadata": {},
   "source": [
    "# 집중 조명 시설 설치 여부"
   ]
  },
  {
   "cell_type": "code",
   "execution_count": 14,
   "id": "bef1f2c3-0b72-4ad8-9c3d-db0c1fa17fd8",
   "metadata": {},
   "outputs": [
    {
     "data": {
      "text/plain": [
       "0"
      ]
     },
     "execution_count": 14,
     "metadata": {},
     "output_type": "execute_result"
    }
   ],
   "source": [
    "light = crosswalk['집중조명시설유무'].copy()\n",
    "samples = samples_with_weight(light)\n",
    "if samples != [] :\n",
    "    light[light==' '] = samples\n",
    "sum(light==' ')"
   ]
  },
  {
   "cell_type": "code",
   "execution_count": 15,
   "id": "47e4e4ed-fb27-4aec-b21f-eacc128d0924",
   "metadata": {},
   "outputs": [],
   "source": [
    "#Y=1 N=0\n",
    "light.replace('Y', 1, inplace=True)\n",
    "light.replace('y', 1, inplace=True)\n",
    "\n",
    "light.replace('N', 0, inplace=True)\n",
    "light.replace('n', 0, inplace=True)"
   ]
  },
  {
   "cell_type": "code",
   "execution_count": 33,
   "id": "7be8b288-2fc6-4654-a11e-d9128ceab72a",
   "metadata": {},
   "outputs": [
    {
     "data": {
      "text/plain": [
       "([<matplotlib.patches.Wedge at 0x7fa245cec710>,\n",
       "  <matplotlib.patches.Wedge at 0x7fa245c7a150>],\n",
       " [Text(0.45204323582302347, 1.0137834645261536, '집중 조명 있음'),\n",
       "  Text(-0.4520432358230238, -1.0137834645261534, '집중 조명 없음')],\n",
       " [Text(0.24842015662346334, 0.5571242462711293, '36.6%'),\n",
       "  Text(-0.2484201566234635, -0.5571242462711292, '63.4%')])"
      ]
     },
     "execution_count": 33,
     "metadata": {},
     "output_type": "execute_result"
    },
    {
     "data": {
      "image/png": "[encoded data removed]",
      "text/plain": [
       "<Figure size 432x288 with 1 Axes>"
      ]
     },
     "metadata": {},
     "output_type": "display_data"
    }
   ],
   "source": [
    "plt.pie([light[light==1].count(), light[light==0].count()], labels=[\"집중 조명 있음\", \"집중 조명 없음\"], \n",
    "        explode=[0.01, 0.01], colors=['gold', 'silver'], autopct='%.1f%%', wedgeprops=wedgeprops)"
   ]
  }
 ],
 "metadata": {
  "kernelspec": {
   "display_name": "Python 3",
   "language": "python",
   "name": "python3"
  },
  "language_info": {
   "codemirror_mode": {
    "name": "ipython",
    "version": 3
   },
   "file_extension": ".py",
   "mimetype": "text/x-python",
   "name": "python",
   "nbconvert_exporter": "python",
   "pygments_lexer": "ipython3",
   "version": "3.7.10"
  }
 },
 "nbformat": 4,
 "nbformat_minor": 5
}
