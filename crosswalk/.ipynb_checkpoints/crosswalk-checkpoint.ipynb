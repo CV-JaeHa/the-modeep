{
 "cells": [
  {
   "cell_type": "code",
   "execution_count": 1,
   "id": "c8d6e795-8ec0-4816-8382-8e1f5197d121",
   "metadata": {},
   "outputs": [],
   "source": [
    "import matplotlib.pyplot as plt\n",
    "import pandas as pd\n",
    "import numpy as np\n",
    "import random"
   ]
  },
  {
   "cell_type": "code",
   "execution_count": 2,
   "id": "b5d39a9c-cae2-4f32-9caa-e3b4b7a0c90a",
   "metadata": {},
   "outputs": [
    {
     "data": {
      "text/html": [
       "<div>\n",
       "<style scoped>\n",
       "    .dataframe tbody tr th:only-of-type {\n",
       "        vertical-align: middle;\n",
       "    }\n",
       "\n",
       "    .dataframe tbody tr th {\n",
       "        vertical-align: top;\n",
       "    }\n",
       "\n",
       "    .dataframe thead th {\n",
       "        text-align: right;\n",
       "    }\n",
       "</style>\n",
       "<table border=\"1\" class=\"dataframe\">\n",
       "  <thead>\n",
       "    <tr style=\"text-align: right;\">\n",
       "      <th></th>\n",
       "      <th>시도명</th>\n",
       "      <th>시군구명</th>\n",
       "      <th>도로명</th>\n",
       "      <th>소재지도로명주소</th>\n",
       "      <th>소재지지번주소</th>\n",
       "      <th>횡단보도관리번호</th>\n",
       "      <th>횡단보도종류</th>\n",
       "      <th>자전거횡단도겸용여부</th>\n",
       "      <th>고원식적용여부</th>\n",
       "      <th>위도</th>\n",
       "      <th>...</th>\n",
       "      <th>적색신호시간</th>\n",
       "      <th>교통섬유무</th>\n",
       "      <th>보도턱낮춤여부</th>\n",
       "      <th>점자블록유무</th>\n",
       "      <th>집중조명시설유무</th>\n",
       "      <th>관리기관명</th>\n",
       "      <th>관리기관전화번호</th>\n",
       "      <th>데이터기준일자</th>\n",
       "      <th>제공기관코드</th>\n",
       "      <th>제공기관명</th>\n",
       "    </tr>\n",
       "  </thead>\n",
       "  <tbody>\n",
       "    <tr>\n",
       "      <th>0</th>\n",
       "      <td>경상남도</td>\n",
       "      <td>양산시</td>\n",
       "      <td>양산대로</td>\n",
       "      <td>NaN</td>\n",
       "      <td>경상남도 양산시 하북면 용연리 1089-8</td>\n",
       "      <td>양산신-1001</td>\n",
       "      <td>1</td>\n",
       "      <td>N</td>\n",
       "      <td>N</td>\n",
       "      <td>35.431776</td>\n",
       "      <td>...</td>\n",
       "      <td>NaN</td>\n",
       "      <td>Y</td>\n",
       "      <td>Y</td>\n",
       "      <td>N</td>\n",
       "      <td>Y</td>\n",
       "      <td>양산시 교통과</td>\n",
       "      <td>055-392-2883</td>\n",
       "      <td>2021-05-10</td>\n",
       "      <td>5380000</td>\n",
       "      <td>경상남도 양산시</td>\n",
       "    </tr>\n",
       "    <tr>\n",
       "      <th>1</th>\n",
       "      <td>경상남도</td>\n",
       "      <td>양산시</td>\n",
       "      <td>양산대로</td>\n",
       "      <td>NaN</td>\n",
       "      <td>경상남도 양산시 하북면 용연리 1012-4</td>\n",
       "      <td>양산신-1002</td>\n",
       "      <td>1</td>\n",
       "      <td>N</td>\n",
       "      <td>N</td>\n",
       "      <td>35.433768</td>\n",
       "      <td>...</td>\n",
       "      <td>NaN</td>\n",
       "      <td>N</td>\n",
       "      <td>Y</td>\n",
       "      <td>N</td>\n",
       "      <td>Y</td>\n",
       "      <td>양산시 교통과</td>\n",
       "      <td>055-392-2883</td>\n",
       "      <td>2021-05-10</td>\n",
       "      <td>5380000</td>\n",
       "      <td>경상남도 양산시</td>\n",
       "    </tr>\n",
       "    <tr>\n",
       "      <th>2</th>\n",
       "      <td>경상남도</td>\n",
       "      <td>양산시</td>\n",
       "      <td>양산대로</td>\n",
       "      <td>NaN</td>\n",
       "      <td>경상남도 양산시 하북면 용연리 1145-3</td>\n",
       "      <td>양산신-1005</td>\n",
       "      <td>1</td>\n",
       "      <td>N</td>\n",
       "      <td>N</td>\n",
       "      <td>35.442733</td>\n",
       "      <td>...</td>\n",
       "      <td>NaN</td>\n",
       "      <td>N</td>\n",
       "      <td>Y</td>\n",
       "      <td>N</td>\n",
       "      <td>Y</td>\n",
       "      <td>양산시 교통과</td>\n",
       "      <td>055-392-2883</td>\n",
       "      <td>2021-05-10</td>\n",
       "      <td>5380000</td>\n",
       "      <td>경상남도 양산시</td>\n",
       "    </tr>\n",
       "    <tr>\n",
       "      <th>3</th>\n",
       "      <td>경상남도</td>\n",
       "      <td>양산시</td>\n",
       "      <td>양산대로</td>\n",
       "      <td>NaN</td>\n",
       "      <td>경상남도 양산시 하북면 백록리 1040-1</td>\n",
       "      <td>양산신-1007</td>\n",
       "      <td>1</td>\n",
       "      <td>N</td>\n",
       "      <td>N</td>\n",
       "      <td>35.455274</td>\n",
       "      <td>...</td>\n",
       "      <td>NaN</td>\n",
       "      <td>N</td>\n",
       "      <td>Y</td>\n",
       "      <td>N</td>\n",
       "      <td>Y</td>\n",
       "      <td>양산시 교통과</td>\n",
       "      <td>055-392-2883</td>\n",
       "      <td>2021-05-10</td>\n",
       "      <td>5380000</td>\n",
       "      <td>경상남도 양산시</td>\n",
       "    </tr>\n",
       "    <tr>\n",
       "      <th>4</th>\n",
       "      <td>경상남도</td>\n",
       "      <td>양산시</td>\n",
       "      <td>양산대로</td>\n",
       "      <td>NaN</td>\n",
       "      <td>경상남도 양산시 하북면 백록리 1009-3</td>\n",
       "      <td>양산신-1008</td>\n",
       "      <td>1</td>\n",
       "      <td>N</td>\n",
       "      <td>N</td>\n",
       "      <td>35.460196</td>\n",
       "      <td>...</td>\n",
       "      <td>NaN</td>\n",
       "      <td>N</td>\n",
       "      <td>Y</td>\n",
       "      <td>N</td>\n",
       "      <td>Y</td>\n",
       "      <td>양산시 교통과</td>\n",
       "      <td>055-392-2883</td>\n",
       "      <td>2021-05-10</td>\n",
       "      <td>5380000</td>\n",
       "      <td>경상남도 양산시</td>\n",
       "    </tr>\n",
       "    <tr>\n",
       "      <th>...</th>\n",
       "      <td>...</td>\n",
       "      <td>...</td>\n",
       "      <td>...</td>\n",
       "      <td>...</td>\n",
       "      <td>...</td>\n",
       "      <td>...</td>\n",
       "      <td>...</td>\n",
       "      <td>...</td>\n",
       "      <td>...</td>\n",
       "      <td>...</td>\n",
       "      <td>...</td>\n",
       "      <td>...</td>\n",
       "      <td>...</td>\n",
       "      <td>...</td>\n",
       "      <td>...</td>\n",
       "      <td>...</td>\n",
       "      <td>...</td>\n",
       "      <td>...</td>\n",
       "      <td>...</td>\n",
       "      <td>...</td>\n",
       "      <td>...</td>\n",
       "    </tr>\n",
       "    <tr>\n",
       "      <th>10320</th>\n",
       "      <td>경상남도</td>\n",
       "      <td>양산시</td>\n",
       "      <td>시도</td>\n",
       "      <td>NaN</td>\n",
       "      <td>경상남도 양산시 물금읍 범어리 2751</td>\n",
       "      <td>양산신-9013</td>\n",
       "      <td>1</td>\n",
       "      <td>N</td>\n",
       "      <td>N</td>\n",
       "      <td>35.324749</td>\n",
       "      <td>...</td>\n",
       "      <td>NaN</td>\n",
       "      <td>N</td>\n",
       "      <td>Y</td>\n",
       "      <td>Y</td>\n",
       "      <td>N</td>\n",
       "      <td>양산시 교통과</td>\n",
       "      <td>055-392-2883</td>\n",
       "      <td>2021-05-10</td>\n",
       "      <td>5380000</td>\n",
       "      <td>경상남도 양산시</td>\n",
       "    </tr>\n",
       "    <tr>\n",
       "      <th>10321</th>\n",
       "      <td>경상남도</td>\n",
       "      <td>양산시</td>\n",
       "      <td>시도</td>\n",
       "      <td>NaN</td>\n",
       "      <td>경상남도 양산시 물금읍 범어리 2751</td>\n",
       "      <td>양산신-9013</td>\n",
       "      <td>1</td>\n",
       "      <td>N</td>\n",
       "      <td>N</td>\n",
       "      <td>35.324749</td>\n",
       "      <td>...</td>\n",
       "      <td>NaN</td>\n",
       "      <td>N</td>\n",
       "      <td>Y</td>\n",
       "      <td>Y</td>\n",
       "      <td>N</td>\n",
       "      <td>양산시 교통과</td>\n",
       "      <td>055-392-2883</td>\n",
       "      <td>2021-05-10</td>\n",
       "      <td>5380000</td>\n",
       "      <td>경상남도 양산시</td>\n",
       "    </tr>\n",
       "    <tr>\n",
       "      <th>10322</th>\n",
       "      <td>경상남도</td>\n",
       "      <td>양산시</td>\n",
       "      <td>시도</td>\n",
       "      <td>NaN</td>\n",
       "      <td>경상남도 양산시 물금읍 범어리 2751</td>\n",
       "      <td>양산신-9014</td>\n",
       "      <td>1</td>\n",
       "      <td>N</td>\n",
       "      <td>N</td>\n",
       "      <td>35.324893</td>\n",
       "      <td>...</td>\n",
       "      <td>NaN</td>\n",
       "      <td>N</td>\n",
       "      <td>Y</td>\n",
       "      <td>N</td>\n",
       "      <td>N</td>\n",
       "      <td>양산시 교통과</td>\n",
       "      <td>055-392-2883</td>\n",
       "      <td>2021-05-10</td>\n",
       "      <td>5380000</td>\n",
       "      <td>경상남도 양산시</td>\n",
       "    </tr>\n",
       "    <tr>\n",
       "      <th>10323</th>\n",
       "      <td>경상남도</td>\n",
       "      <td>양산시</td>\n",
       "      <td>시도</td>\n",
       "      <td>NaN</td>\n",
       "      <td>경상남도 양산시 물금읍 범어리 2749</td>\n",
       "      <td>양산신-9015</td>\n",
       "      <td>1</td>\n",
       "      <td>Y</td>\n",
       "      <td>N</td>\n",
       "      <td>35.326391</td>\n",
       "      <td>...</td>\n",
       "      <td>NaN</td>\n",
       "      <td>N</td>\n",
       "      <td>Y</td>\n",
       "      <td>Y</td>\n",
       "      <td>N</td>\n",
       "      <td>양산시 교통과</td>\n",
       "      <td>055-392-2883</td>\n",
       "      <td>2021-05-10</td>\n",
       "      <td>5380000</td>\n",
       "      <td>경상남도 양산시</td>\n",
       "    </tr>\n",
       "    <tr>\n",
       "      <th>10324</th>\n",
       "      <td>경상남도</td>\n",
       "      <td>양산시</td>\n",
       "      <td>시도</td>\n",
       "      <td>NaN</td>\n",
       "      <td>경상남도 양산시 물금읍 범어리 2749</td>\n",
       "      <td>양산신-9015</td>\n",
       "      <td>1</td>\n",
       "      <td>Y</td>\n",
       "      <td>N</td>\n",
       "      <td>35.326391</td>\n",
       "      <td>...</td>\n",
       "      <td>NaN</td>\n",
       "      <td>N</td>\n",
       "      <td>Y</td>\n",
       "      <td>Y</td>\n",
       "      <td>N</td>\n",
       "      <td>양산시 교통과</td>\n",
       "      <td>055-392-2883</td>\n",
       "      <td>2021-05-10</td>\n",
       "      <td>5380000</td>\n",
       "      <td>경상남도 양산시</td>\n",
       "    </tr>\n",
       "  </tbody>\n",
       "</table>\n",
       "<p>10325 rows × 28 columns</p>\n",
       "</div>"
      ],
      "text/plain": [
       "        시도명 시군구명   도로명 소재지도로명주소                  소재지지번주소  횡단보도관리번호  횡단보도종류  \\\n",
       "0      경상남도  양산시  양산대로      NaN  경상남도 양산시 하북면 용연리 1089-8  양산신-1001       1   \n",
       "1      경상남도  양산시  양산대로      NaN  경상남도 양산시 하북면 용연리 1012-4  양산신-1002       1   \n",
       "2      경상남도  양산시  양산대로      NaN  경상남도 양산시 하북면 용연리 1145-3  양산신-1005       1   \n",
       "3      경상남도  양산시  양산대로      NaN  경상남도 양산시 하북면 백록리 1040-1  양산신-1007       1   \n",
       "4      경상남도  양산시  양산대로      NaN  경상남도 양산시 하북면 백록리 1009-3  양산신-1008       1   \n",
       "...     ...  ...   ...      ...                      ...       ...     ...   \n",
       "10320  경상남도  양산시    시도      NaN    경상남도 양산시 물금읍 범어리 2751  양산신-9013       1   \n",
       "10321  경상남도  양산시    시도      NaN    경상남도 양산시 물금읍 범어리 2751  양산신-9013       1   \n",
       "10322  경상남도  양산시    시도      NaN    경상남도 양산시 물금읍 범어리 2751  양산신-9014       1   \n",
       "10323  경상남도  양산시    시도      NaN    경상남도 양산시 물금읍 범어리 2749  양산신-9015       1   \n",
       "10324  경상남도  양산시    시도      NaN    경상남도 양산시 물금읍 범어리 2749  양산신-9015       1   \n",
       "\n",
       "      자전거횡단도겸용여부 고원식적용여부         위도  ...  적색신호시간  교통섬유무  보도턱낮춤여부  점자블록유무  \\\n",
       "0              N       N  35.431776  ...     NaN      Y        Y       N   \n",
       "1              N       N  35.433768  ...     NaN      N        Y       N   \n",
       "2              N       N  35.442733  ...     NaN      N        Y       N   \n",
       "3              N       N  35.455274  ...     NaN      N        Y       N   \n",
       "4              N       N  35.460196  ...     NaN      N        Y       N   \n",
       "...          ...     ...        ...  ...     ...    ...      ...     ...   \n",
       "10320          N       N  35.324749  ...     NaN      N        Y       Y   \n",
       "10321          N       N  35.324749  ...     NaN      N        Y       Y   \n",
       "10322          N       N  35.324893  ...     NaN      N        Y       N   \n",
       "10323          Y       N  35.326391  ...     NaN      N        Y       Y   \n",
       "10324          Y       N  35.326391  ...     NaN      N        Y       Y   \n",
       "\n",
       "      집중조명시설유무    관리기관명      관리기관전화번호     데이터기준일자   제공기관코드     제공기관명  \n",
       "0            Y  양산시 교통과  055-392-2883  2021-05-10  5380000  경상남도 양산시  \n",
       "1            Y  양산시 교통과  055-392-2883  2021-05-10  5380000  경상남도 양산시  \n",
       "2            Y  양산시 교통과  055-392-2883  2021-05-10  5380000  경상남도 양산시  \n",
       "3            Y  양산시 교통과  055-392-2883  2021-05-10  5380000  경상남도 양산시  \n",
       "4            Y  양산시 교통과  055-392-2883  2021-05-10  5380000  경상남도 양산시  \n",
       "...        ...      ...           ...         ...      ...       ...  \n",
       "10320        N  양산시 교통과  055-392-2883  2021-05-10  5380000  경상남도 양산시  \n",
       "10321        N  양산시 교통과  055-392-2883  2021-05-10  5380000  경상남도 양산시  \n",
       "10322        N  양산시 교통과  055-392-2883  2021-05-10  5380000  경상남도 양산시  \n",
       "10323        N  양산시 교통과  055-392-2883  2021-05-10  5380000  경상남도 양산시  \n",
       "10324        N  양산시 교통과  055-392-2883  2021-05-10  5380000  경상남도 양산시  \n",
       "\n",
       "[10325 rows x 28 columns]"
      ]
     },
     "execution_count": 2,
     "metadata": {},
     "output_type": "execute_result"
    }
   ],
   "source": [
    "df = pd.read_csv('/The_MoDeep/data/전국횡단보도표준데이터.csv', encoding='cp949')\n",
    "df"
   ]
  },
  {
   "cell_type": "markdown",
   "id": "97d4ba15-19cb-420c-a0ad-6274a2efa08d",
   "metadata": {},
   "source": [
    "# 분석 절차\n",
    "\n",
    "## 분석 주제\n",
    "1. 데이터 전처리\n",
    "    - null 값 처리\n",
    "    - Y/N를 boolean으로 변환\n",
    " \n",
    "2. 데이터 시각화\n",
    "    - 그래프 시각화\n",
    "   \n",
    "3. 결론 도출"
   ]
  },
  {
   "cell_type": "code",
   "execution_count": 3,
   "id": "c551d9f9-7a42-4084-9f2b-d6edf52d1a5a",
   "metadata": {},
   "outputs": [
    {
     "name": "stdout",
     "output_type": "stream",
     "text": [
      "[' ']\n"
     ]
    }
   ],
   "source": [
    "a=df[df['소재지지번주소']=='경상북도 상주시 남성동 235-17']['보도턱낮춤여부']\n",
    "print(a.values)"
   ]
  },
  {
   "cell_type": "code",
   "execution_count": 4,
   "id": "b7a2a4ed-d968-4dd3-8801-e492ca1ea9f5",
   "metadata": {},
   "outputs": [
    {
     "data": {
      "text/html": [
       "<div>\n",
       "<style scoped>\n",
       "    .dataframe tbody tr th:only-of-type {\n",
       "        vertical-align: middle;\n",
       "    }\n",
       "\n",
       "    .dataframe tbody tr th {\n",
       "        vertical-align: top;\n",
       "    }\n",
       "\n",
       "    .dataframe thead th {\n",
       "        text-align: right;\n",
       "    }\n",
       "</style>\n",
       "<table border=\"1\" class=\"dataframe\">\n",
       "  <thead>\n",
       "    <tr style=\"text-align: right;\">\n",
       "      <th></th>\n",
       "      <th>횡단보도연장</th>\n",
       "      <th>녹색신호시간</th>\n",
       "      <th>제공기관코드</th>\n",
       "    </tr>\n",
       "  </thead>\n",
       "  <tbody>\n",
       "    <tr>\n",
       "      <th>count</th>\n",
       "      <td>10325.000000</td>\n",
       "      <td>1604.000000</td>\n",
       "      <td>1.032500e+04</td>\n",
       "    </tr>\n",
       "    <tr>\n",
       "      <th>mean</th>\n",
       "      <td>13.382370</td>\n",
       "      <td>23.221945</td>\n",
       "      <td>4.601964e+06</td>\n",
       "    </tr>\n",
       "    <tr>\n",
       "      <th>std</th>\n",
       "      <td>8.090786</td>\n",
       "      <td>9.855126</td>\n",
       "      <td>7.477878e+05</td>\n",
       "    </tr>\n",
       "    <tr>\n",
       "      <th>min</th>\n",
       "      <td>0.000000</td>\n",
       "      <td>0.000000</td>\n",
       "      <td>3.530000e+06</td>\n",
       "    </tr>\n",
       "    <tr>\n",
       "      <th>25%</th>\n",
       "      <td>7.200000</td>\n",
       "      <td>20.000000</td>\n",
       "      <td>4.000000e+06</td>\n",
       "    </tr>\n",
       "    <tr>\n",
       "      <th>50%</th>\n",
       "      <td>12.000000</td>\n",
       "      <td>24.000000</td>\n",
       "      <td>4.610000e+06</td>\n",
       "    </tr>\n",
       "    <tr>\n",
       "      <th>75%</th>\n",
       "      <td>17.000000</td>\n",
       "      <td>28.000000</td>\n",
       "      <td>5.020000e+06</td>\n",
       "    </tr>\n",
       "    <tr>\n",
       "      <th>max</th>\n",
       "      <td>64.100000</td>\n",
       "      <td>115.000000</td>\n",
       "      <td>6.510000e+06</td>\n",
       "    </tr>\n",
       "  </tbody>\n",
       "</table>\n",
       "</div>"
      ],
      "text/plain": [
       "             횡단보도연장       녹색신호시간        제공기관코드\n",
       "count  10325.000000  1604.000000  1.032500e+04\n",
       "mean      13.382370    23.221945  4.601964e+06\n",
       "std        8.090786     9.855126  7.477878e+05\n",
       "min        0.000000     0.000000  3.530000e+06\n",
       "25%        7.200000    20.000000  4.000000e+06\n",
       "50%       12.000000    24.000000  4.610000e+06\n",
       "75%       17.000000    28.000000  5.020000e+06\n",
       "max       64.100000   115.000000  6.510000e+06"
      ]
     },
     "execution_count": 4,
     "metadata": {},
     "output_type": "execute_result"
    }
   ],
   "source": [
    "crosswalk = df.drop([\"시도명\", \"시군구명\", \"도로명\", \"소재지도로명주소\", \"횡단보도관리번호\", \"횡단보도종류\", \"위도\", \"경도\", \"자전거횡단도겸용여부\",\n",
    "        \"고원식적용여부\", \"교통섬유무\", \"적색신호시간\", \"제공기관명\", \"데이터기준일자\", \"관리기관전화번호\", \"소재지지번주소\", \"차로수\",\n",
    "        \"횡단보도폭\", \"보행자신호등유무\"], axis=1)\n",
    "crosswalk.describe()"
   ]
  },
  {
   "cell_type": "code",
   "execution_count": 5,
   "id": "50217c8f-9bc7-4dc6-9a7b-2685bad9df4d",
   "metadata": {},
   "outputs": [],
   "source": [
    "def samples_with_weight(series):\n",
    "    total = len(series)\n",
    "    missing = sum(series==' ')\n",
    "    not_missing = total-missing\n",
    "    \n",
    "    samples = random.choices([0, 1], [missing/total, not_missing/total], k=missing)\n",
    "    return samples"
   ]
  },
  {
   "cell_type": "markdown",
   "id": "d7384884-2aca-4f79-80d9-15b3c0c105b4",
   "metadata": {},
   "source": [
    "# 횡단 보도 점자 블록 비율"
   ]
  },
  {
   "cell_type": "code",
   "execution_count": 6,
   "id": "3b722866-b2bd-4265-9099-38862135da15",
   "metadata": {},
   "outputs": [
    {
     "data": {
      "text/plain": [
       "0"
      ]
     },
     "execution_count": 6,
     "metadata": {},
     "output_type": "execute_result"
    }
   ],
   "source": [
    "braille = crosswalk['보도턱낮춤여부'].copy()\n",
    "samples = samples_with_weight(braille)\n",
    "if samples != [] :\n",
    "    braille[braille==' '] = samples\n",
    "sum(braille==' ') # 결측치 수"
   ]
  },
  {
   "cell_type": "code",
   "execution_count": 21,
   "id": "426537ee-6983-4204-baa9-d3381658d229",
   "metadata": {},
   "outputs": [
    {
     "name": "stdout",
     "output_type": "stream",
     "text": [
      "0        1\n",
      "1        1\n",
      "2        1\n",
      "3        1\n",
      "4        1\n",
      "        ..\n",
      "10320    1\n",
      "10321    1\n",
      "10322    1\n",
      "10323    1\n",
      "10324    1\n",
      "Name: 보도턱낮춤여부, Length: 8541, dtype: int64\n"
     ]
    }
   ],
   "source": [
    "#Y=1 N=0\n",
    "braille.replace('Y', 1, inplace=True)\n",
    "braille.replace('y', 1, inplace=True)\n",
    "\n",
    "braille.replace('N', 0, inplace=True)\n",
    "braille.replace('n', 0, inplace=True)"
   ]
  },
  {
   "cell_type": "code",
   "execution_count": 20,
   "id": "0632d9b1-2422-47a6-9eae-8d4295696b87",
   "metadata": {},
   "outputs": [
    {
     "data": {
      "text/plain": [
       "([<matplotlib.patches.Wedge at 0x7fd48c65b090>,\n",
       "  <matplotlib.patches.Wedge at 0x7fd48c65b690>],\n",
       " [Text(-1.1, 1.3471114790620887e-16, ''),\n",
       "  Text(1.1, -2.6942229581241775e-16, '')])"
      ]
     },
     "execution_count": 20,
     "metadata": {},
     "output_type": "execute_result"
    },
    {
     "data": {
      "image/png": "[encoded data removed]",
      "text/plain": [
       "<Figure size 432x288 with 1 Axes>"
      ]
     },
     "metadata": {},
     "output_type": "display_data"
    }
   ],
   "source": [
    "plt.pie([braille[braille==1].sum(), braille[braille==0].sum()])"
   ]
  },
  {
   "cell_type": "code",
   "execution_count": 16,
   "id": "b1825766-7969-4110-b3d3-2f5402df8d0c",
   "metadata": {},
   "outputs": [
    {
     "data": {
      "text/plain": [
       "([<matplotlib.patches.Wedge at 0x7fd48c7aed10>,\n",
       "  <matplotlib.patches.Wedge at 0x7fd48c7bf350>,\n",
       "  <matplotlib.patches.Wedge at 0x7fd48c7bf890>,\n",
       "  <matplotlib.patches.Wedge at 0x7fd48c7bfdd0>],\n",
       " [Text(1.0461621663333946, 0.3399186987098808, ''),\n",
       "  Text(0.33991867422268784, 1.0461621742897658, ''),\n",
       "  Text(-1.0461621902025062, 0.3399186252483017, ''),\n",
       "  Text(0.3399188211458418, -1.0461621265515308, '')])"
      ]
     },
     "execution_count": 16,
     "metadata": {},
     "output_type": "execute_result"
    },
    {
     "data": {
      "image/png": "[encoded data removed]",
      "text/plain": [
       "<Figure size 432x288 with 1 Axes>"
      ]
     },
     "metadata": {},
     "output_type": "display_data"
    }
   ],
   "source": [
    "plt.pie([1,2,3,4])"
   ]
  },
  {
   "cell_type": "markdown",
   "id": "20901d72-7860-4c75-852f-172ed14d4ba5",
   "metadata": {},
   "source": [
    "# 횡단 보도 낮춤 턱 비율"
   ]
  },
  {
   "cell_type": "code",
   "execution_count": 9,
   "id": "b675cb32-978a-4dc6-bf06-ac57eb82071f",
   "metadata": {},
   "outputs": [
    {
     "data": {
      "text/plain": [
       "0"
      ]
     },
     "execution_count": 9,
     "metadata": {},
     "output_type": "execute_result"
    }
   ],
   "source": [
    "threshold = crosswalk['보도턱낮춤여부'].copy()\n",
    "samples = samples_with_weight(threshold)\n",
    "if samples != [] :\n",
    "    threshold[threshold==' '] = samples\n",
    "sum(threshold==' ') # 결측치 수"
   ]
  },
  {
   "cell_type": "code",
   "execution_count": 10,
   "id": "58189e42-9aab-4438-9424-f9773e43c95f",
   "metadata": {},
   "outputs": [],
   "source": [
    "#Y=1 N=0\n",
    "threshold.replace('Y', 1, inplace=True)\n",
    "threshold.replace('y', 1, inplace=True)\n",
    "\n",
    "threshold.replace('N', 0, inplace=True)\n",
    "threshold.replace('n', 0, inplace=True)"
   ]
  },
  {
   "cell_type": "code",
   "execution_count": null,
   "id": "b94fb645-8ad9-4979-9ee2-a26402a93ebe",
   "metadata": {},
   "outputs": [],
   "source": []
  },
  {
   "cell_type": "markdown",
   "id": "2556e32a-4ffc-4932-b80a-1af6b1ed05d8",
   "metadata": {},
   "source": [
    "# 음향 신호기 설치 여부"
   ]
  },
  {
   "cell_type": "code",
   "execution_count": 11,
   "id": "98df9f84-4d03-4426-8f24-d988ced4e0ae",
   "metadata": {},
   "outputs": [
    {
     "data": {
      "text/plain": [
       "0"
      ]
     },
     "execution_count": 11,
     "metadata": {},
     "output_type": "execute_result"
    }
   ],
   "source": [
    "semaphore = crosswalk['음향신호기설치여부'].copy()\n",
    "samples = samples_with_weight(semaphore)\n",
    "if samples != [] :\n",
    "    semaphore[semaphore==' '] = samples\n",
    "sum(semaphore==' ')"
   ]
  },
  {
   "cell_type": "code",
   "execution_count": 12,
   "id": "47d68b61-ee1b-4c95-8571-3663b119d6c0",
   "metadata": {},
   "outputs": [],
   "source": [
    "#Y=1 N=0\n",
    "semaphore.replace('Y', 1, inplace=True)\n",
    "semaphore.replace('y', 1, inplace=True)\n",
    "\n",
    "semaphore.replace('N', 0, inplace=True)\n",
    "semaphore.replace('n', 0, inplace=True)"
   ]
  },
  {
   "cell_type": "markdown",
   "id": "d9809882-1b1d-4f50-8086-470592d33e53",
   "metadata": {},
   "source": [
    "# 집중 조명 시설 설치 여부"
   ]
  },
  {
   "cell_type": "code",
   "execution_count": 13,
   "id": "bef1f2c3-0b72-4ad8-9c3d-db0c1fa17fd8",
   "metadata": {},
   "outputs": [
    {
     "data": {
      "text/plain": [
       "0"
      ]
     },
     "execution_count": 13,
     "metadata": {},
     "output_type": "execute_result"
    }
   ],
   "source": [
    "light = crosswalk['집중조명시설유무'].copy()\n",
    "samples = samples_with_weight(light)\n",
    "if samples != [] :\n",
    "    light[light==' '] = samples\n",
    "sum(light==' ')"
   ]
  },
  {
   "cell_type": "code",
   "execution_count": 14,
   "id": "47e4e4ed-fb27-4aec-b21f-eacc128d0924",
   "metadata": {},
   "outputs": [],
   "source": [
    "#Y=1 N=0\n",
    "light.replace('Y', 1, inplace=True)\n",
    "light.replace('y', 1, inplace=True)\n",
    "\n",
    "light.replace('N', 0, inplace=True)\n",
    "light.replace('n', 0, inplace=True)"
   ]
  },
  {
   "cell_type": "code",
   "execution_count": null,
   "id": "7be8b288-2fc6-4654-a11e-d9128ceab72a",
   "metadata": {},
   "outputs": [],
   "source": []
  }
 ],
 "metadata": {
  "kernelspec": {
   "display_name": "Python 3",
   "language": "python",
   "name": "python3"
  },
  "language_info": {
   "codemirror_mode": {
    "name": "ipython",
    "version": 3
   },
   "file_extension": ".py",
   "mimetype": "text/x-python",
   "name": "python",
   "nbconvert_exporter": "python",
   "pygments_lexer": "ipython3",
   "version": "3.7.10"
  }
 },
 "nbformat": 4,
 "nbformat_minor": 5
}
