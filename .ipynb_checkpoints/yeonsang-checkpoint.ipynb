{
 "cells": [
  {
   "cell_type": "code",
   "execution_count": 1,
   "id": "2ab1a3fd-d51c-4ed9-a9bd-f6a2cde5cbe0",
   "metadata": {},
   "outputs": [],
   "source": [
    "import pandas as pd\n",
    "import numpy as np\n",
    "import matplotlib.pyplot as plt\n",
    "import seaborn as sns\n",
    "import glob, os\n",
    "\n",
    "%matplotlib inline"
   ]
  },
  {
   "cell_type": "code",
   "execution_count": 2,
   "id": "141af630-f35e-4ccc-9fcd-c7f37addadd3",
   "metadata": {},
   "outputs": [],
   "source": [
    "IMAGE_PATH = 'images'\n",
    "os.makedirs(IMAGE_PATH, exist_ok=True)\n",
    "\n",
    "def save_fig(fig_id, tight_layout=True, fig_extension='png', resolution=300):\n",
    "    path = os.path.join(IMAGE_PATH, fig_id + '.' + fig_extension)\n",
    "    print('Saving figure', fig_id)\n",
    "    if tight_layout:\n",
    "        plt.tight_layout()\n",
    "    plt.savefig(path, format=fig_extension, dpi=resolution)    "
   ]
  },
  {
   "cell_type": "code",
   "execution_count": 3,
   "id": "4db719e9-6a50-423c-b566-b18d06e9cc12",
   "metadata": {},
   "outputs": [
    {
     "name": "stdout",
     "output_type": "stream",
     "text": [
      "Hit:1 http://security.debian.org/debian-security buster/updates InRelease\n",
      "Hit:2 http://deb.debian.org/debian buster InRelease\n",
      "Hit:3 http://deb.debian.org/debian buster-updates InRelease\n",
      "Reading package lists... Done\n",
      "/usr/share/fonts: caching, new cache contents: 0 fonts, 1 dirs\n",
      "/usr/share/fonts/truetype: caching, new cache contents: 0 fonts, 2 dirs\n",
      "/usr/share/fonts/truetype/dejavu: caching, new cache contents: 6 fonts, 0 dirs\n",
      "/usr/share/fonts/truetype/nanum: caching, new cache contents: 31 fonts, 0 dirs\n",
      "/usr/X11R6/lib/X11/fonts: skipping, no such directory\n",
      "/usr/local/share/fonts: caching, new cache contents: 0 fonts, 0 dirs\n",
      "/root/.local/share/fonts: skipping, no such directory\n",
      "/root/.fonts: skipping, no such directory\n",
      "/usr/share/fonts/truetype: skipping, looped directory detected\n",
      "/usr/share/fonts/truetype/dejavu: skipping, looped directory detected\n",
      "/usr/share/fonts/truetype/nanum: skipping, looped directory detected\n",
      "/var/cache/fontconfig: cleaning cache directory\n",
      "/root/.cache/fontconfig: not cleaning non-existent cache directory\n",
      "/root/.fontconfig: not cleaning non-existent cache directory\n",
      "fc-cache: succeeded\n",
      "Reading package lists... Done\n",
      "Building dependency tree       \n",
      "Reading state information... Done\n",
      "fonts-nanum is already the newest version (20180306-1).\n",
      "0 upgraded, 0 newly installed, 0 to remove and 6 not upgraded.\n"
     ]
    }
   ],
   "source": [
    "!sed -i 's/archive.ubuntu.com/ftp.daumkakao.com/g' /etc/apt/sources.list\n",
    "!apt-get update \n",
    "!fc-cache -fv\n",
    "!apt-get install -y fonts-nanum\n",
    "!rm -rf ~/.cache/matplotlib/*\n",
    "plt.rc('font', family='NanumBarunGothic')"
   ]
  },
  {
   "cell_type": "markdown",
   "id": "072f3bfd-5287-43b0-a681-ef9aef491e55",
   "metadata": {},
   "source": [
    "### 전부합쳐진 데이터 살펴보기"
   ]
  },
  {
   "cell_type": "code",
   "execution_count": 5,
   "id": "da323bd1-95c9-4849-90d1-5631f42d6e75",
   "metadata": {},
   "outputs": [
    {
     "name": "stderr",
     "output_type": "stream",
     "text": [
      "/usr/local/lib/python3.7/site-packages/IPython/core/interactiveshell.py:3170: DtypeWarning: Columns (3,4,6,7,8) have mixed types.Specify dtype option on import or set low_memory=False.\n",
      "  interactivity=interactivity, compiler=compiler, result=result)\n"
     ]
    },
    {
     "data": {
      "text/html": [
       "<div>\n",
       "<style scoped>\n",
       "    .dataframe tbody tr th:only-of-type {\n",
       "        vertical-align: middle;\n",
       "    }\n",
       "\n",
       "    .dataframe tbody tr th {\n",
       "        vertical-align: top;\n",
       "    }\n",
       "\n",
       "    .dataframe thead th {\n",
       "        text-align: right;\n",
       "    }\n",
       "</style>\n",
       "<table border=\"1\" class=\"dataframe\">\n",
       "  <thead>\n",
       "    <tr style=\"text-align: right;\">\n",
       "      <th></th>\n",
       "      <th>통계년월</th>\n",
       "      <th>통계시도명</th>\n",
       "      <th>통계시군구명</th>\n",
       "      <th>장애등급명</th>\n",
       "      <th>장애유형명</th>\n",
       "      <th>등록장애인수</th>\n",
       "      <th>장애등급</th>\n",
       "      <th>장애유형</th>\n",
       "      <th>장애정도</th>\n",
       "    </tr>\n",
       "  </thead>\n",
       "  <tbody>\n",
       "    <tr>\n",
       "      <th>0</th>\n",
       "      <td>201401</td>\n",
       "      <td>서울특별시</td>\n",
       "      <td>종로구</td>\n",
       "      <td>1급</td>\n",
       "      <td>지체</td>\n",
       "      <td>58</td>\n",
       "      <td>NaN</td>\n",
       "      <td>NaN</td>\n",
       "      <td>NaN</td>\n",
       "    </tr>\n",
       "    <tr>\n",
       "      <th>1</th>\n",
       "      <td>201401</td>\n",
       "      <td>서울특별시</td>\n",
       "      <td>종로구</td>\n",
       "      <td>1급</td>\n",
       "      <td>시각</td>\n",
       "      <td>189</td>\n",
       "      <td>NaN</td>\n",
       "      <td>NaN</td>\n",
       "      <td>NaN</td>\n",
       "    </tr>\n",
       "    <tr>\n",
       "      <th>2</th>\n",
       "      <td>201401</td>\n",
       "      <td>서울특별시</td>\n",
       "      <td>종로구</td>\n",
       "      <td>1급</td>\n",
       "      <td>청각</td>\n",
       "      <td>29</td>\n",
       "      <td>NaN</td>\n",
       "      <td>NaN</td>\n",
       "      <td>NaN</td>\n",
       "    </tr>\n",
       "    <tr>\n",
       "      <th>3</th>\n",
       "      <td>201401</td>\n",
       "      <td>서울특별시</td>\n",
       "      <td>종로구</td>\n",
       "      <td>1급</td>\n",
       "      <td>지적</td>\n",
       "      <td>86</td>\n",
       "      <td>NaN</td>\n",
       "      <td>NaN</td>\n",
       "      <td>NaN</td>\n",
       "    </tr>\n",
       "    <tr>\n",
       "      <th>4</th>\n",
       "      <td>201401</td>\n",
       "      <td>서울특별시</td>\n",
       "      <td>종로구</td>\n",
       "      <td>1급</td>\n",
       "      <td>뇌병변</td>\n",
       "      <td>154</td>\n",
       "      <td>NaN</td>\n",
       "      <td>NaN</td>\n",
       "      <td>NaN</td>\n",
       "    </tr>\n",
       "  </tbody>\n",
       "</table>\n",
       "</div>"
      ],
      "text/plain": [
       "     통계년월  통계시도명 통계시군구명 장애등급명 장애유형명  등록장애인수 장애등급 장애유형 장애정도\n",
       "0  201401  서울특별시    종로구    1급    지체      58  NaN  NaN  NaN\n",
       "1  201401  서울특별시    종로구    1급    시각     189  NaN  NaN  NaN\n",
       "2  201401  서울특별시    종로구    1급    청각      29  NaN  NaN  NaN\n",
       "3  201401  서울특별시    종로구    1급    지적      86  NaN  NaN  NaN\n",
       "4  201401  서울특별시    종로구    1급   뇌병변     154  NaN  NaN  NaN"
      ]
     },
     "execution_count": 5,
     "metadata": {},
     "output_type": "execute_result"
    }
   ],
   "source": [
    "df = pd.read_csv('data/disabled_numeric.csv')\n",
    "df.head()"
   ]
  },
  {
   "cell_type": "code",
   "execution_count": 6,
   "id": "dfbe49f7-9370-4483-992e-5de5ba79d9e5",
   "metadata": {},
   "outputs": [
    {
     "name": "stdout",
     "output_type": "stream",
     "text": [
      "<class 'pandas.core.frame.DataFrame'>\n",
      "RangeIndex: 1039449 entries, 0 to 1039448\n",
      "Data columns (total 9 columns):\n",
      " #   Column  Non-Null Count    Dtype \n",
      "---  ------  --------------    ----- \n",
      " 0   통계년월    1039449 non-null  int64 \n",
      " 1   통계시도명   1039449 non-null  object\n",
      " 2   통계시군구명  1039449 non-null  object\n",
      " 3   장애등급명   592162 non-null   object\n",
      " 4   장애유형명   592162 non-null   object\n",
      " 5   등록장애인수  1039449 non-null  int64 \n",
      " 6   장애등급    316968 non-null   object\n",
      " 7   장애유형    447287 non-null   object\n",
      " 8   장애정도    130319 non-null   object\n",
      "dtypes: int64(2), object(7)\n",
      "memory usage: 71.4+ MB\n"
     ]
    }
   ],
   "source": [
    "df.info()"
   ]
  },
  {
   "cell_type": "markdown",
   "id": "97d4c3ec-7e89-40dc-a69a-f41f26363147",
   "metadata": {},
   "source": [
    "### 년도별로 나눈 데이터 불러오기"
   ]
  },
  {
   "cell_type": "code",
   "execution_count": 7,
   "id": "dae471c6-bbdc-4452-ad4a-8720b918d000",
   "metadata": {},
   "outputs": [
    {
     "data": {
      "text/plain": [
       "['data/all2014.csv',\n",
       " 'data/all2015.csv',\n",
       " 'data/all2016.csv',\n",
       " 'data/all2017.csv',\n",
       " 'data/all2018.csv',\n",
       " 'data/all2019.csv',\n",
       " 'data/all2020.csv',\n",
       " 'data/all2021.csv']"
      ]
     },
     "execution_count": 7,
     "metadata": {},
     "output_type": "execute_result"
    }
   ],
   "source": [
    "input_file = 'data'\n",
    "aFile = glob.glob(os.path.join(input_file, 'all*'))\n",
    "aFile"
   ]
  },
  {
   "cell_type": "code",
   "execution_count": 8,
   "id": "4b04b2ca-6a65-43c9-b3b6-bcd89038759f",
   "metadata": {},
   "outputs": [
    {
     "data": {
      "text/html": [
       "<div>\n",
       "<style scoped>\n",
       "    .dataframe tbody tr th:only-of-type {\n",
       "        vertical-align: middle;\n",
       "    }\n",
       "\n",
       "    .dataframe tbody tr th {\n",
       "        vertical-align: top;\n",
       "    }\n",
       "\n",
       "    .dataframe thead th {\n",
       "        text-align: right;\n",
       "    }\n",
       "</style>\n",
       "<table border=\"1\" class=\"dataframe\">\n",
       "  <thead>\n",
       "    <tr style=\"text-align: right;\">\n",
       "      <th></th>\n",
       "      <th>통계년월</th>\n",
       "      <th>통계시도명</th>\n",
       "      <th>통계시군구명</th>\n",
       "      <th>장애등급명</th>\n",
       "      <th>장애유형명</th>\n",
       "      <th>등록장애인수</th>\n",
       "    </tr>\n",
       "  </thead>\n",
       "  <tbody>\n",
       "    <tr>\n",
       "      <th>0</th>\n",
       "      <td>201401</td>\n",
       "      <td>서울특별시</td>\n",
       "      <td>종로구</td>\n",
       "      <td>1급</td>\n",
       "      <td>지체</td>\n",
       "      <td>58</td>\n",
       "    </tr>\n",
       "    <tr>\n",
       "      <th>1</th>\n",
       "      <td>201401</td>\n",
       "      <td>서울특별시</td>\n",
       "      <td>종로구</td>\n",
       "      <td>1급</td>\n",
       "      <td>시각</td>\n",
       "      <td>189</td>\n",
       "    </tr>\n",
       "    <tr>\n",
       "      <th>2</th>\n",
       "      <td>201401</td>\n",
       "      <td>서울특별시</td>\n",
       "      <td>종로구</td>\n",
       "      <td>1급</td>\n",
       "      <td>청각</td>\n",
       "      <td>29</td>\n",
       "    </tr>\n",
       "    <tr>\n",
       "      <th>3</th>\n",
       "      <td>201401</td>\n",
       "      <td>서울특별시</td>\n",
       "      <td>종로구</td>\n",
       "      <td>1급</td>\n",
       "      <td>지적</td>\n",
       "      <td>86</td>\n",
       "    </tr>\n",
       "    <tr>\n",
       "      <th>4</th>\n",
       "      <td>201401</td>\n",
       "      <td>서울특별시</td>\n",
       "      <td>종로구</td>\n",
       "      <td>1급</td>\n",
       "      <td>뇌병변</td>\n",
       "      <td>154</td>\n",
       "    </tr>\n",
       "  </tbody>\n",
       "</table>\n",
       "</div>"
      ],
      "text/plain": [
       "     통계년월  통계시도명 통계시군구명 장애등급명 장애유형명  등록장애인수\n",
       "0  201401  서울특별시    종로구    1급    지체      58\n",
       "1  201401  서울특별시    종로구    1급    시각     189\n",
       "2  201401  서울특별시    종로구    1급    청각      29\n",
       "3  201401  서울특별시    종로구    1급    지적      86\n",
       "4  201401  서울특별시    종로구    1급   뇌병변     154"
      ]
     },
     "execution_count": 8,
     "metadata": {},
     "output_type": "execute_result"
    }
   ],
   "source": [
    "dfs = []\n",
    "\n",
    "for f in aFile:\n",
    "    data = pd.read_csv(f, engine='python', encoding='utf-8')\n",
    "    dfs.append(data)\n",
    "    \n",
    "dfs[0].head()"
   ]
  },
  {
   "cell_type": "markdown",
   "id": "dd004870-c685-4a96-a3f4-4f913758f40b",
   "metadata": {},
   "source": [
    "### 년도별 등록장애인수 & visualization"
   ]
  },
  {
   "cell_type": "code",
   "execution_count": 9,
   "id": "1eb051f9-ecd8-494a-be3e-ddc32a02d07a",
   "metadata": {},
   "outputs": [
    {
     "name": "stdout",
     "output_type": "stream",
     "text": [
      "29938938\n",
      "29871389\n",
      "29993517\n",
      "30339185\n",
      "30766272\n",
      "31253265\n",
      "31522896\n"
     ]
    }
   ],
   "source": [
    "sums = []\n",
    "\n",
    "for i in range(0, len(dfs)-1):\n",
    "    sums.append(dfs[i]['등록장애인수'].sum())\n",
    "    print(sums[i])"
   ]
  },
  {
   "cell_type": "code",
   "execution_count": 10,
   "id": "2f52629a-fdbb-4229-ad52-5fa4f1176973",
   "metadata": {},
   "outputs": [
    {
     "name": "stdout",
     "output_type": "stream",
     "text": [
      "181.36567014993184\n",
      "180.73530497286373\n",
      "181.25599482704442\n",
      "183.71796657381614\n",
      "185.98095836834375\n",
      "264.34516912094324\n",
      "443.3412936163031\n"
     ]
    }
   ],
   "source": [
    "avgs = []\n",
    "\n",
    "for i in range(0, len(dfs)-1):\n",
    "    avgs.append(dfs[i]['등록장애인수'].mean())\n",
    "    print(avgs[i])"
   ]
  },
  {
   "cell_type": "code",
   "execution_count": 152,
   "id": "634b782c-a4b8-48b8-977a-9fb1487fed23",
   "metadata": {},
   "outputs": [
    {
     "name": "stdout",
     "output_type": "stream",
     "text": [
      "Saving figure 연도별 등록장애인수 총합\n"
     ]
    },
    {
     "data": {
      "image/png": "[encoded data removed]",
      "text/plain": [
       "<Figure size 1440x360 with 1 Axes>"
      ]
     },
     "metadata": {
      "needs_background": "light"
     },
     "output_type": "display_data"
    }
   ],
   "source": [
    "years = ['2014','2015','2016','2017','2018','2019', '2020']\n",
    "\n",
    "plt.ticklabel_format(style = 'plain')\n",
    "\n",
    "plt.plot(years, sums)\n",
    "\n",
    "save_fig('연도별 등록장애인수 총합')"
   ]
  },
  {
   "cell_type": "code",
   "execution_count": 151,
   "id": "e5d31227-10ed-4c61-8494-8cc4a601d46f",
   "metadata": {},
   "outputs": [
    {
     "name": "stdout",
     "output_type": "stream",
     "text": [
      "Saving figure 연도별 등록장애인수 평균\n"
     ]
    },
    {
     "data": {
      "image/png": "[encoded data removed]",
      "text/plain": [
       "<Figure size 1440x360 with 1 Axes>"
      ]
     },
     "metadata": {
      "needs_background": "light"
     },
     "output_type": "display_data"
    }
   ],
   "source": [
    "plt.ticklabel_format(style = 'plain')\n",
    "\n",
    "plt.bar(years, avgs)\n",
    "\n",
    "save_fig('연도별 등록장애인수 평균')"
   ]
  },
  {
   "cell_type": "markdown",
   "id": "0935fd17-6692-49d1-aa7a-00d85de0da44",
   "metadata": {},
   "source": [
    "### 장애인 등록자 들의 등급비율 & 시각화"
   ]
  },
  {
   "cell_type": "code",
   "execution_count": 13,
   "id": "2e16881c-83ac-4adb-9659-cc888f7f2eab",
   "metadata": {},
   "outputs": [
    {
     "data": {
      "text/html": [
       "<div>\n",
       "<style scoped>\n",
       "    .dataframe tbody tr th:only-of-type {\n",
       "        vertical-align: middle;\n",
       "    }\n",
       "\n",
       "    .dataframe tbody tr th {\n",
       "        vertical-align: top;\n",
       "    }\n",
       "\n",
       "    .dataframe thead th {\n",
       "        text-align: right;\n",
       "    }\n",
       "</style>\n",
       "<table border=\"1\" class=\"dataframe\">\n",
       "  <thead>\n",
       "    <tr style=\"text-align: right;\">\n",
       "      <th></th>\n",
       "      <th>통계년월</th>\n",
       "      <th>통계시도명</th>\n",
       "      <th>통계시군구명</th>\n",
       "      <th>장애등급명</th>\n",
       "      <th>장애유형명</th>\n",
       "      <th>등록장애인수</th>\n",
       "      <th>장애등급</th>\n",
       "      <th>장애유형</th>\n",
       "      <th>장애정도</th>\n",
       "    </tr>\n",
       "  </thead>\n",
       "  <tbody>\n",
       "    <tr>\n",
       "      <th>0</th>\n",
       "      <td>201401</td>\n",
       "      <td>서울특별시</td>\n",
       "      <td>종로구</td>\n",
       "      <td>1급</td>\n",
       "      <td>지체</td>\n",
       "      <td>58</td>\n",
       "      <td>NaN</td>\n",
       "      <td>NaN</td>\n",
       "      <td>NaN</td>\n",
       "    </tr>\n",
       "    <tr>\n",
       "      <th>1</th>\n",
       "      <td>201401</td>\n",
       "      <td>서울특별시</td>\n",
       "      <td>종로구</td>\n",
       "      <td>1급</td>\n",
       "      <td>시각</td>\n",
       "      <td>189</td>\n",
       "      <td>NaN</td>\n",
       "      <td>NaN</td>\n",
       "      <td>NaN</td>\n",
       "    </tr>\n",
       "    <tr>\n",
       "      <th>2</th>\n",
       "      <td>201401</td>\n",
       "      <td>서울특별시</td>\n",
       "      <td>종로구</td>\n",
       "      <td>1급</td>\n",
       "      <td>청각</td>\n",
       "      <td>29</td>\n",
       "      <td>NaN</td>\n",
       "      <td>NaN</td>\n",
       "      <td>NaN</td>\n",
       "    </tr>\n",
       "    <tr>\n",
       "      <th>3</th>\n",
       "      <td>201401</td>\n",
       "      <td>서울특별시</td>\n",
       "      <td>종로구</td>\n",
       "      <td>1급</td>\n",
       "      <td>지적</td>\n",
       "      <td>86</td>\n",
       "      <td>NaN</td>\n",
       "      <td>NaN</td>\n",
       "      <td>NaN</td>\n",
       "    </tr>\n",
       "    <tr>\n",
       "      <th>4</th>\n",
       "      <td>201401</td>\n",
       "      <td>서울특별시</td>\n",
       "      <td>종로구</td>\n",
       "      <td>1급</td>\n",
       "      <td>뇌병변</td>\n",
       "      <td>154</td>\n",
       "      <td>NaN</td>\n",
       "      <td>NaN</td>\n",
       "      <td>NaN</td>\n",
       "    </tr>\n",
       "  </tbody>\n",
       "</table>\n",
       "</div>"
      ],
      "text/plain": [
       "     통계년월  통계시도명 통계시군구명 장애등급명 장애유형명  등록장애인수 장애등급 장애유형 장애정도\n",
       "0  201401  서울특별시    종로구    1급    지체      58  NaN  NaN  NaN\n",
       "1  201401  서울특별시    종로구    1급    시각     189  NaN  NaN  NaN\n",
       "2  201401  서울특별시    종로구    1급    청각      29  NaN  NaN  NaN\n",
       "3  201401  서울특별시    종로구    1급    지적      86  NaN  NaN  NaN\n",
       "4  201401  서울특별시    종로구    1급   뇌병변     154  NaN  NaN  NaN"
      ]
     },
     "execution_count": 13,
     "metadata": {},
     "output_type": "execute_result"
    }
   ],
   "source": [
    "df.head()"
   ]
  },
  {
   "cell_type": "code",
   "execution_count": 14,
   "id": "6b7e4a0c-83b2-4788-a8f4-f4a6ae42987a",
   "metadata": {},
   "outputs": [
    {
     "data": {
      "text/plain": [
       "3급    133583\n",
       "2급    128255\n",
       "1급    109210\n",
       "4급     92430\n",
       "5급     88950\n",
       "6급     39734\n",
       "Name: 장애등급명, dtype: int64"
      ]
     },
     "execution_count": 14,
     "metadata": {},
     "output_type": "execute_result"
    }
   ],
   "source": [
    "df['장애등급명'].value_counts()"
   ]
  },
  {
   "cell_type": "code",
   "execution_count": 15,
   "id": "e3fb0885-df27-4515-9f84-7c8e2aaadeec",
   "metadata": {},
   "outputs": [
    {
     "data": {
      "text/html": [
       "<div>\n",
       "<style scoped>\n",
       "    .dataframe tbody tr th:only-of-type {\n",
       "        vertical-align: middle;\n",
       "    }\n",
       "\n",
       "    .dataframe tbody tr th {\n",
       "        vertical-align: top;\n",
       "    }\n",
       "\n",
       "    .dataframe thead th {\n",
       "        text-align: right;\n",
       "    }\n",
       "</style>\n",
       "<table border=\"1\" class=\"dataframe\">\n",
       "  <thead>\n",
       "    <tr style=\"text-align: right;\">\n",
       "      <th></th>\n",
       "      <th>통계년월</th>\n",
       "      <th>통계시도명</th>\n",
       "      <th>통계시군구명</th>\n",
       "      <th>장애등급명</th>\n",
       "      <th>장애유형명</th>\n",
       "      <th>등록장애인수</th>\n",
       "      <th>장애등급</th>\n",
       "      <th>장애유형</th>\n",
       "      <th>장애정도</th>\n",
       "    </tr>\n",
       "  </thead>\n",
       "  <tbody>\n",
       "    <tr>\n",
       "      <th>10</th>\n",
       "      <td>201401</td>\n",
       "      <td>서울특별시</td>\n",
       "      <td>종로구</td>\n",
       "      <td>2급</td>\n",
       "      <td>지체</td>\n",
       "      <td>173</td>\n",
       "      <td>NaN</td>\n",
       "      <td>NaN</td>\n",
       "      <td>NaN</td>\n",
       "    </tr>\n",
       "    <tr>\n",
       "      <th>11</th>\n",
       "      <td>201401</td>\n",
       "      <td>서울특별시</td>\n",
       "      <td>종로구</td>\n",
       "      <td>2급</td>\n",
       "      <td>시각</td>\n",
       "      <td>24</td>\n",
       "      <td>NaN</td>\n",
       "      <td>NaN</td>\n",
       "      <td>NaN</td>\n",
       "    </tr>\n",
       "    <tr>\n",
       "      <th>12</th>\n",
       "      <td>201401</td>\n",
       "      <td>서울특별시</td>\n",
       "      <td>종로구</td>\n",
       "      <td>2급</td>\n",
       "      <td>청각</td>\n",
       "      <td>119</td>\n",
       "      <td>NaN</td>\n",
       "      <td>NaN</td>\n",
       "      <td>NaN</td>\n",
       "    </tr>\n",
       "    <tr>\n",
       "      <th>13</th>\n",
       "      <td>201401</td>\n",
       "      <td>서울특별시</td>\n",
       "      <td>종로구</td>\n",
       "      <td>2급</td>\n",
       "      <td>언어</td>\n",
       "      <td>3</td>\n",
       "      <td>NaN</td>\n",
       "      <td>NaN</td>\n",
       "      <td>NaN</td>\n",
       "    </tr>\n",
       "    <tr>\n",
       "      <th>14</th>\n",
       "      <td>201401</td>\n",
       "      <td>서울특별시</td>\n",
       "      <td>종로구</td>\n",
       "      <td>2급</td>\n",
       "      <td>지적</td>\n",
       "      <td>102</td>\n",
       "      <td>NaN</td>\n",
       "      <td>NaN</td>\n",
       "      <td>NaN</td>\n",
       "    </tr>\n",
       "    <tr>\n",
       "      <th>...</th>\n",
       "      <td>...</td>\n",
       "      <td>...</td>\n",
       "      <td>...</td>\n",
       "      <td>...</td>\n",
       "      <td>...</td>\n",
       "      <td>...</td>\n",
       "      <td>...</td>\n",
       "      <td>...</td>\n",
       "      <td>...</td>\n",
       "    </tr>\n",
       "    <tr>\n",
       "      <th>592132</th>\n",
       "      <td>201707</td>\n",
       "      <td>제주특별자치도</td>\n",
       "      <td>서귀포시</td>\n",
       "      <td>2급</td>\n",
       "      <td>신장</td>\n",
       "      <td>240</td>\n",
       "      <td>NaN</td>\n",
       "      <td>NaN</td>\n",
       "      <td>NaN</td>\n",
       "    </tr>\n",
       "    <tr>\n",
       "      <th>592133</th>\n",
       "      <td>201707</td>\n",
       "      <td>제주특별자치도</td>\n",
       "      <td>서귀포시</td>\n",
       "      <td>2급</td>\n",
       "      <td>심장</td>\n",
       "      <td>4</td>\n",
       "      <td>NaN</td>\n",
       "      <td>NaN</td>\n",
       "      <td>NaN</td>\n",
       "    </tr>\n",
       "    <tr>\n",
       "      <th>592134</th>\n",
       "      <td>201707</td>\n",
       "      <td>제주특별자치도</td>\n",
       "      <td>서귀포시</td>\n",
       "      <td>2급</td>\n",
       "      <td>호흡기</td>\n",
       "      <td>25</td>\n",
       "      <td>NaN</td>\n",
       "      <td>NaN</td>\n",
       "      <td>NaN</td>\n",
       "    </tr>\n",
       "    <tr>\n",
       "      <th>592135</th>\n",
       "      <td>201707</td>\n",
       "      <td>제주특별자치도</td>\n",
       "      <td>서귀포시</td>\n",
       "      <td>2급</td>\n",
       "      <td>간</td>\n",
       "      <td>1</td>\n",
       "      <td>NaN</td>\n",
       "      <td>NaN</td>\n",
       "      <td>NaN</td>\n",
       "    </tr>\n",
       "    <tr>\n",
       "      <th>592136</th>\n",
       "      <td>201707</td>\n",
       "      <td>제주특별자치도</td>\n",
       "      <td>서귀포시</td>\n",
       "      <td>2급</td>\n",
       "      <td>뇌전증</td>\n",
       "      <td>1</td>\n",
       "      <td>NaN</td>\n",
       "      <td>NaN</td>\n",
       "      <td>NaN</td>\n",
       "    </tr>\n",
       "  </tbody>\n",
       "</table>\n",
       "<p>128255 rows × 9 columns</p>\n",
       "</div>"
      ],
      "text/plain": [
       "          통계년월    통계시도명 통계시군구명 장애등급명 장애유형명  등록장애인수 장애등급 장애유형 장애정도\n",
       "10      201401    서울특별시    종로구    2급    지체     173  NaN  NaN  NaN\n",
       "11      201401    서울특별시    종로구    2급    시각      24  NaN  NaN  NaN\n",
       "12      201401    서울특별시    종로구    2급    청각     119  NaN  NaN  NaN\n",
       "13      201401    서울특별시    종로구    2급    언어       3  NaN  NaN  NaN\n",
       "14      201401    서울특별시    종로구    2급    지적     102  NaN  NaN  NaN\n",
       "...        ...      ...    ...   ...   ...     ...  ...  ...  ...\n",
       "592132  201707  제주특별자치도   서귀포시    2급    신장     240  NaN  NaN  NaN\n",
       "592133  201707  제주특별자치도   서귀포시    2급    심장       4  NaN  NaN  NaN\n",
       "592134  201707  제주특별자치도   서귀포시    2급   호흡기      25  NaN  NaN  NaN\n",
       "592135  201707  제주특별자치도   서귀포시    2급     간       1  NaN  NaN  NaN\n",
       "592136  201707  제주특별자치도   서귀포시    2급   뇌전증       1  NaN  NaN  NaN\n",
       "\n",
       "[128255 rows x 9 columns]"
      ]
     },
     "execution_count": 15,
     "metadata": {},
     "output_type": "execute_result"
    }
   ],
   "source": [
    "rates = []\n",
    "for i in range(0, 6):\n",
    "    rates.append(df[df['장애등급명']=='{}급'.format(i+1)])\n",
    "\n",
    "rates[1]"
   ]
  },
  {
   "cell_type": "code",
   "execution_count": 16,
   "id": "201736d2-e0a7-4f3e-873a-08d3023beac0",
   "metadata": {},
   "outputs": [
    {
     "name": "stdout",
     "output_type": "stream",
     "text": [
      "8523216\n",
      "14445902\n",
      "18619089\n",
      "16050726\n",
      "22626233\n",
      "27184014\n"
     ]
    }
   ],
   "source": [
    "sums_by_rate = []\n",
    "\n",
    "for i in range(0,6):\n",
    "    sums_by_rate.append(rates[i]['등록장애인수'].sum())\n",
    "    print(sums_by_rate[i])"
   ]
  },
  {
   "cell_type": "code",
   "execution_count": 95,
   "id": "bef0c3f7-0411-497a-b59d-eeebad045610",
   "metadata": {},
   "outputs": [
    {
     "name": "stdout",
     "output_type": "stream",
     "text": [
      "Saving figure 장애인 등급별 비율\n"
     ]
    },
    {
     "data": {
      "image/png": "[encoded data removed]",
      "text/plain": [
       "<Figure size 432x288 with 1 Axes>"
      ]
     },
     "metadata": {},
     "output_type": "display_data"
    }
   ],
   "source": [
    "rating = ['1등급', '2등급', '3등급', '4등급', '5등급', '6등급']\n",
    "\n",
    "plt.pie(sums_by_rate, labels=rating, autopct='%.1f%%')\n",
    "\n",
    "save_fig('장애인 등급별 비율')"
   ]
  },
  {
   "cell_type": "markdown",
   "id": "1d607091-1dca-4892-a4d3-723ed355d52c",
   "metadata": {},
   "source": [
    "장애유형별 등록자수 "
   ]
  },
  {
   "cell_type": "code",
   "execution_count": 90,
   "id": "8b5f93e2-b56b-47df-8aad-9c2d0512d54c",
   "metadata": {},
   "outputs": [
    {
     "data": {
      "text/plain": [
       "array(['지체', '시각', '청각', '지적', '뇌병변', '자폐성', '정신', '신장', '호흡기', '간', '언어',\n",
       "       '심장', '뇌전증', '안면', '장루.요루', nan], dtype=object)"
      ]
     },
     "execution_count": 90,
     "metadata": {},
     "output_type": "execute_result"
    }
   ],
   "source": [
    "df['장애유형명'].unique()"
   ]
  },
  {
   "cell_type": "code",
   "execution_count": 91,
   "id": "499597a7-5f31-45fc-bef7-4ec8390d1f42",
   "metadata": {},
   "outputs": [
    {
     "data": {
      "text/plain": [
       "[55183863,\n",
       " 10866560,\n",
       " 11151778,\n",
       " 8119476,\n",
       " 10783171,\n",
       " 899314,\n",
       " 4224291,\n",
       " 3169409,\n",
       " 521760,\n",
       " 440908,\n",
       " 806141,\n",
       " 258953,\n",
       " 303151,\n",
       " 115426,\n",
       " 604979]"
      ]
     },
     "execution_count": 91,
     "metadata": {},
     "output_type": "execute_result"
    }
   ],
   "source": [
    "types = ['지체', '시각', '청각', '지적', '뇌병변', '자폐성', '정신', '신장', '호흡기', '간', '언어',\n",
    "       '심장', '뇌전증', '안면', '장루.요루']\n",
    "\n",
    "sum_per_type = []\n",
    "\n",
    "for i in range(0, len(types)):\n",
    "    sum_per_type.append(df[df['장애유형명']==types[i]]['등록장애인수'].sum())\n",
    "    \n",
    "sum_per_type"
   ]
  },
  {
   "cell_type": "code",
   "execution_count": 98,
   "id": "44211a7b-4cf9-4e76-8060-38d74b1912ad",
   "metadata": {},
   "outputs": [
    {
     "data": {
      "text/plain": [
       "<BarContainer object of 15 artists>"
      ]
     },
     "execution_count": 98,
     "metadata": {},
     "output_type": "execute_result"
    },
    {
     "data": {
      "image/png": "[encoded data removed]",
      "text/plain": [
       "<Figure size 432x288 with 1 Axes>"
      ]
     },
     "metadata": {
      "needs_background": "light"
     },
     "output_type": "display_data"
    }
   ],
   "source": [
    "plt.barh(types, sum_per_type, )"
   ]
  },
  {
   "cell_type": "markdown",
   "id": "8d5b401e-6a24-4e06-bd59-27bbf10d94c7",
   "metadata": {},
   "source": [
    "시도별 등록자수"
   ]
  },
  {
   "cell_type": "code",
   "execution_count": 101,
   "id": "4c6083a4-b8c7-46c6-80c2-2fac8b1606f7",
   "metadata": {},
   "outputs": [
    {
     "data": {
      "text/plain": [
       "array(['서울특별시', '부산광역시', '대구광역시', '인천광역시', '광주광역시', '대전광역시', '울산광역시',\n",
       "       '세종특별자치시', '경기도', '강원도', '충청북도', '충청남도', '전라북도', '전라남도', '경상북도',\n",
       "       '경상남도', '제주특별자치도'], dtype=object)"
      ]
     },
     "execution_count": 101,
     "metadata": {},
     "output_type": "execute_result"
    }
   ],
   "source": [
    "df['통계시도명'].unique()"
   ]
  },
  {
   "cell_type": "code",
   "execution_count": 103,
   "id": "cc391958-a1a3-4441-8f83-4e0ce943b742",
   "metadata": {},
   "outputs": [
    {
     "data": {
      "text/plain": [
       "34689633"
      ]
     },
     "execution_count": 103,
     "metadata": {},
     "output_type": "execute_result"
    }
   ],
   "source": [
    "city = ['서울특별시', '부산광역시', '대구광역시', '인천광역시', '광주광역시', '대전광역시', '울산광역시',\n",
    "       '세종특별자치시', '경기도', '강원도', '충청북도', '충청남도', '전라북도', '전라남도', '경상북도',\n",
    "       '경상남도', '제주특별자치도']\n",
    "\n",
    "sum_by_city = []\n",
    "\n",
    "for i in range(0, len(city)):\n",
    "    sum_by_city.append(df[df['통계시도명']==city[i]]['등록장애인수'].sum())\n",
    "    \n",
    "sum_by_city[0]"
   ]
  },
  {
   "cell_type": "code",
   "execution_count": 118,
   "id": "125e6710-d96a-46f1-aba6-21f06a402e65",
   "metadata": {},
   "outputs": [],
   "source": [
    "plt.rcParams['figure.figsize'] = (20,5)"
   ]
  },
  {
   "cell_type": "code",
   "execution_count": 119,
   "id": "83f3cbd9-57ac-4f9a-a5e8-3eab32fedd5d",
   "metadata": {},
   "outputs": [
    {
     "data": {
      "image/png": "[encoded data removed]",
      "text/plain": [
       "<Figure size 1440x360 with 1 Axes>"
      ]
     },
     "metadata": {
      "needs_background": "light"
     },
     "output_type": "display_data"
    }
   ],
   "source": [
    "plt.bar(city, sum_by_city )\n",
    "\n",
    "plt.show()"
   ]
  },
  {
   "cell_type": "code",
   "execution_count": null,
   "id": "ce3ae8eb-192b-459e-a833-c162f1c1fc88",
   "metadata": {},
   "outputs": [],
   "source": []
  }
 ],
 "metadata": {
  "kernelspec": {
   "display_name": "Python 3",
   "language": "python",
   "name": "python3"
  },
  "language_info": {
   "codemirror_mode": {
    "name": "ipython",
    "version": 3
   },
   "file_extension": ".py",
   "mimetype": "text/x-python",
   "name": "python",
   "nbconvert_exporter": "python",
   "pygments_lexer": "ipython3",
   "version": "3.7.10"
  }
 },
 "nbformat": 4,
 "nbformat_minor": 5
}
